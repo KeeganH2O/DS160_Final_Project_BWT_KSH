{
 "cells": [
  {
   "cell_type": "markdown",
   "id": "57e42817",
   "metadata": {},
   "source": [
    "## Section 3: Machine Learning"
   ]
  },
  {
   "cell_type": "code",
   "execution_count": 49,
   "id": "9c57c91e",
   "metadata": {},
   "outputs": [],
   "source": [
    "import pandas as pd\n",
    "import numpy as np\n",
    "import matplotlib.pyplot as plt\n",
    "import seaborn as sns\n",
    "%matplotlib inline\n",
    "\n",
    "#Logistic Regression from SKLearn\n",
    "from sklearn.linear_model import LogisticRegression\n",
    "\n",
    "#Decision Tree from SKLearn\n",
    "from sklearn import tree\n",
    "from sklearn.tree import export_text\n",
    "import graphviz\n",
    "\n",
    "#train and tests spliting\n",
    "from sklearn.model_selection import train_test_split\n",
    "\n",
    "#metrics for the model\n",
    "from sklearn.metrics import accuracy_score, confusion_matrix, classification_report"
   ]
  },
  {
   "cell_type": "markdown",
   "id": "2a7f5b37",
   "metadata": {},
   "source": [
    "### Logistic Regression"
   ]
  },
  {
   "cell_type": "code",
   "execution_count": 53,
   "id": "410a7107",
   "metadata": {},
   "outputs": [
    {
     "data": {
      "text/plain": [
       "Index(['net_profit/total_assets', 'total liabilities / total assets',\n",
       "       'working capital / total assets',\n",
       "       'current assets / short-term liabilities',\n",
       "       '[(cash + short-term securities + receivables-short-term liabilities) / (operating expenses - depreciation)] * 365',\n",
       "       'retained earnings / total assets', 'EBIT / total assets',\n",
       "       'book value of equity / total liabilities', 'sales / total assets',\n",
       "       'equity / total assets',\n",
       "       '(gross profit + extraordinary items + financial expenses) / total assets',\n",
       "       'gross profit / short-term liabilities',\n",
       "       '(gross profit + depreciation) / sales',\n",
       "       '(gross profit + interest) / total assets',\n",
       "       '(total liabilities * 365) / (gross profit + depreciation)',\n",
       "       '(gross profit + depreciation) / total liabilities',\n",
       "       'total assets / total liabilities', 'gross profit / total assets',\n",
       "       'gross profit / sales', '(inventory * 365) / sales',\n",
       "       'sales (n) / sales (n-1)',\n",
       "       'profit on operating activities / total assets', 'net profit / sales',\n",
       "       'gross profit (in 3 years) / total assets',\n",
       "       '(equity - share capital) / total assets',\n",
       "       '(net profit + depreciation) / total liabilities',\n",
       "       'profit on operating activities / financial expenses',\n",
       "       'working capital / fixed assets', 'logarithm of total assets',\n",
       "       '(total liabilities - cash) / sales',\n",
       "       '(gross profit + interest) / sales',\n",
       "       '(current liabilities * 365) / cost of products sold',\n",
       "       'operating expenses / short-term liabilities',\n",
       "       'operating expenses / total liabilities',\n",
       "       'profit on sales / total assets', 'total sales / total assets',\n",
       "       '(current assets - inventories) / long-term liabilities',\n",
       "       'constant capital / total assets', 'profit on sales / sales',\n",
       "       '(current assets - inventory - receivables) / short-term liabilities',\n",
       "       'total liabilities / ((profit on operating activities + depreciation) * (12/365))',\n",
       "       'profit on operating activities / sales',\n",
       "       'rotation receivables + inventory turnover in days',\n",
       "       '(receivables * 365) / sales', 'net profit / inventory',\n",
       "       '(current assets - inventory) / short-term liabilities',\n",
       "       '(inventory * 365) / cost of products sold',\n",
       "       'EBITDA (profit on operating activities - depreciation) / total assets',\n",
       "       'EBITDA (profit on operating activities - depreciation) / sales',\n",
       "       'current assets / total liabilities',\n",
       "       'short-term liabilities / total assets',\n",
       "       '(short-term liabilities * 365) / cost of products sold)',\n",
       "       'equity / fixed assets', 'constant capital / fixed assets',\n",
       "       'working capital', '(sales - cost of products sold) / sales',\n",
       "       '(current assets - inventory - short-term liabilities) / (sales - gross profit - depreciation)',\n",
       "       'total costs /total sales', 'long-term liabilities / equity',\n",
       "       'sales / inventory', 'sales / receivables',\n",
       "       'short-term liabilities *365 / sales', 'sales / short-term liabilities',\n",
       "       'sales / fixed assets', 'bankruptcy'],\n",
       "      dtype='object')"
      ]
     },
     "execution_count": 53,
     "metadata": {},
     "output_type": "execute_result"
    }
   ],
   "source": [
    "LDF.columns"
   ]
  },
  {
   "cell_type": "code",
   "execution_count": 125,
   "id": "a07b1f64",
   "metadata": {},
   "outputs": [],
   "source": [
    "y = LDF['bankruptcy']\n",
    "y = np.array(y)"
   ]
  },
  {
   "cell_type": "code",
   "execution_count": 161,
   "id": "2a4473ff",
   "metadata": {},
   "outputs": [],
   "source": [
    "X1 = np.array(LDF['total costs /total sales']).reshape(-1,1)\n",
    "X2 = np.array(LDF['retained earnings / total assets']).reshape(-1,1)\n",
    "X3 = np.array(LDF['working capital']).reshape(-1,1)\n",
    "\n",
    "X4 = np.array(LDF['EBITDA (profit on operating activities - depreciation) / sales']).reshape(-1,1)\n",
    "\n",
    "#having an issue using multiple\n",
    "XC = np.array(LDF[['working capital','retained earnings / total assets','total costs /total sales']]).reshape(-1,1)"
   ]
  },
  {
   "cell_type": "code",
   "execution_count": 162,
   "id": "0da8d52c",
   "metadata": {},
   "outputs": [
    {
     "data": {
      "text/plain": [
       "array([[ 3.4869e+05],\n",
       "       [ 3.8825e-01],\n",
       "       [ 8.7804e-01],\n",
       "       ...,\n",
       "       [-4.2513e+02],\n",
       "       [-1.0537e-01],\n",
       "       [ 1.0522e+00]])"
      ]
     },
     "execution_count": 162,
     "metadata": {},
     "output_type": "execute_result"
    }
   ],
   "source": [
    "X1\n",
    "X2\n",
    "X3\n",
    "X4\n",
    "\n",
    "XC"
   ]
  },
  {
   "cell_type": "code",
   "execution_count": 165,
   "id": "c17d0d26",
   "metadata": {},
   "outputs": [],
   "source": [
    "clf1 = LogisticRegression().fit(X1,y)\n",
    "clf2 = LogisticRegression().fit(X2,y)\n",
    "clf3 = LogisticRegression().fit(X3,y)\n",
    "clf4 = LogisticRegression().fit(X4,y)\n",
    "\n",
    "\n",
    "#clf5 = LogisticRegression().fit(XC,y)"
   ]
  },
  {
   "cell_type": "code",
   "execution_count": 155,
   "id": "562e8067",
   "metadata": {},
   "outputs": [
    {
     "data": {
      "text/plain": [
       "array([0, 0, 0, ..., 0, 0, 0], dtype=int64)"
      ]
     },
     "execution_count": 155,
     "metadata": {},
     "output_type": "execute_result"
    }
   ],
   "source": [
    "clf1.predict(X1)\n",
    "clf2.predict(X2)\n",
    "clf3.predict(X3)\n",
    "\n",
    "clf4.predict(X4)"
   ]
  },
  {
   "cell_type": "code",
   "execution_count": 157,
   "id": "f4713e89",
   "metadata": {},
   "outputs": [
    {
     "name": "stdout",
     "output_type": "stream",
     "text": [
      "0.9518258265176823\n",
      "0.9518488653380947\n",
      "0.9517336712360327\n",
      "0.9518258265176823\n"
     ]
    }
   ],
   "source": [
    "print(clf1.score(X1,y))\n",
    "print(clf2.score(X2,y))\n",
    "print(clf3.score(X3,y))\n",
    "\n",
    "print(clf4.score(X4,y))"
   ]
  },
  {
   "cell_type": "code",
   "execution_count": null,
   "id": "b007a2a6",
   "metadata": {},
   "outputs": [],
   "source": []
  },
  {
   "cell_type": "markdown",
   "id": "51a95324",
   "metadata": {},
   "source": [
    "### Decision Tree"
   ]
  },
  {
   "cell_type": "code",
   "execution_count": 3,
   "id": "f9fb3f3e",
   "metadata": {},
   "outputs": [],
   "source": [
    "def plot_cm(y_pred, y_test):\n",
    "    cm = confusion_matrix(y_pred, y_test)\n",
    "    fig = plt.figure(figsize=(5,5))\n",
    "    heatmap = sns.heatmap(cm, annot=True, fmt='.2f', cmap='RdYlGn')\n",
    "    plt.ylabel('True label')\n",
    "    plt.xlabel('Predicted Label')"
   ]
  },
  {
   "cell_type": "code",
   "execution_count": 4,
   "id": "d40c3845",
   "metadata": {},
   "outputs": [],
   "source": [
    "LDF = pd.read_csv('LDF')"
   ]
  },
  {
   "cell_type": "code",
   "execution_count": 5,
   "id": "55354a7c",
   "metadata": {},
   "outputs": [],
   "source": [
    "#LDF['bankruptcy'].replace(0,\"Not Bankrupt\", inplace = True)\n",
    "#LDF['bankruptcy'].replace(1,\"Bankrupt\", inplace = True)"
   ]
  },
  {
   "cell_type": "code",
   "execution_count": 70,
   "id": "6ef3eb65",
   "metadata": {},
   "outputs": [],
   "source": [
    "X = LDF.iloc[:,0:64]\n",
    "y = LDF['bankruptcy']"
   ]
  },
  {
   "cell_type": "code",
   "execution_count": 101,
   "id": "e790472f",
   "metadata": {},
   "outputs": [],
   "source": [
    "X_train, X_test, y_train, y_test = train_test_split(X,y,test_size = 0.20, random_state=26)"
   ]
  },
  {
   "cell_type": "code",
   "execution_count": 102,
   "id": "983bba81",
   "metadata": {},
   "outputs": [
    {
     "data": {
      "text/plain": [
       "8681"
      ]
     },
     "execution_count": 102,
     "metadata": {},
     "output_type": "execute_result"
    }
   ],
   "source": [
    "y_test.count()"
   ]
  },
  {
   "cell_type": "code",
   "execution_count": 108,
   "id": "fe9d9cdd",
   "metadata": {},
   "outputs": [],
   "source": [
    "clf = tree.DecisionTreeClassifier(min_samples_split=20, max_depth = 6)\n",
    "clf = clf.fit(X_train, y_train)"
   ]
  },
  {
   "cell_type": "code",
   "execution_count": 109,
   "id": "7f8bd9b4",
   "metadata": {},
   "outputs": [],
   "source": [
    "y_pred = clf.predict(X_test)"
   ]
  },
  {
   "cell_type": "code",
   "execution_count": 110,
   "id": "1603f093",
   "metadata": {},
   "outputs": [
    {
     "data": {
      "text/plain": [
       "34724"
      ]
     },
     "execution_count": 110,
     "metadata": {},
     "output_type": "execute_result"
    }
   ],
   "source": [
    "y_train.count()"
   ]
  },
  {
   "cell_type": "code",
   "execution_count": 111,
   "id": "f3abced1",
   "metadata": {},
   "outputs": [
    {
     "data": {
      "image/png": "[encoded data removed]",
      "text/plain": [
       "<Figure size 360x360 with 2 Axes>"
      ]
     },
     "metadata": {
      "needs_background": "light"
     },
     "output_type": "display_data"
    }
   ],
   "source": [
    "plot_cm(y_pred, y_test)"
   ]
  },
  {
   "cell_type": "code",
   "execution_count": 112,
   "id": "01836359",
   "metadata": {},
   "outputs": [
    {
     "name": "stdout",
     "output_type": "stream",
     "text": [
      "              precision    recall  f1-score   support\n",
      "\n",
      "           0       1.00      0.97      0.98      8496\n",
      "           1       0.38      0.90      0.53       185\n",
      "\n",
      "    accuracy                           0.97      8681\n",
      "   macro avg       0.69      0.94      0.76      8681\n",
      "weighted avg       0.98      0.97      0.97      8681\n",
      "\n"
     ]
    }
   ],
   "source": [
    "print(classification_report(y_pred,y_test))"
   ]
  },
  {
   "cell_type": "code",
   "execution_count": null,
   "id": "928b3cab",
   "metadata": {},
   "outputs": [],
   "source": []
  },
  {
   "cell_type": "code",
   "execution_count": 90,
   "id": "c3c3b690",
   "metadata": {},
   "outputs": [
    {
     "data": {
      "text/plain": [
       "[Text(198.6159836065574, 205.35999999999999, 'X[26] <= 462.753\\ngini = 0.09\\nsamples = 30383\\nvalue = [28954, 1429]'),\n",
       " Text(111.82868852459016, 181.2, 'X[25] <= 0.036\\ngini = 0.066\\nsamples = 27660\\nvalue = [26715, 945]'),\n",
       " Text(45.10881147540984, 157.04, 'X[33] <= 0.272\\ngini = 0.176\\nsamples = 5436\\nvalue = [4906, 530]'),\n",
       " Text(10.97704918032787, 132.88, 'X[3] <= 0.055\\ngini = 0.026\\nsamples = 1731\\nvalue = [1708, 23]'),\n",
       " Text(5.488524590163935, 108.72, 'X[45] <= 0.002\\ngini = 0.499\\nsamples = 21\\nvalue = [11, 10]'),\n",
       " Text(2.7442622950819673, 84.56, 'gini = 0.0\\nsamples = 5\\nvalue = [0, 5]'),\n",
       " Text(8.232786885245902, 84.56, 'gini = 0.43\\nsamples = 16\\nvalue = [11, 5]'),\n",
       " Text(16.465573770491805, 108.72, 'X[2] <= 0.996\\ngini = 0.015\\nsamples = 1710\\nvalue = [1697, 13]'),\n",
       " Text(13.721311475409836, 84.56, 'X[4] <= -647.58\\ngini = 0.014\\nsamples = 1709\\nvalue = [1697, 12]'),\n",
       " Text(8.232786885245902, 60.400000000000006, 'X[4] <= -655.505\\ngini = 0.15\\nsamples = 110\\nvalue = [101, 9]'),\n",
       " Text(5.488524590163935, 36.24000000000001, 'X[25] <= 0.03\\ngini = 0.136\\nsamples = 109\\nvalue = [101, 8]'),\n",
       " Text(2.7442622950819673, 12.079999999999984, 'gini = 0.121\\nsamples = 108\\nvalue = [101, 7]'),\n",
       " Text(8.232786885245902, 12.079999999999984, 'gini = 0.0\\nsamples = 1\\nvalue = [0, 1]'),\n",
       " Text(10.97704918032787, 36.24000000000001, 'gini = 0.0\\nsamples = 1\\nvalue = [0, 1]'),\n",
       " Text(19.20983606557377, 60.400000000000006, 'X[29] <= 32.348\\ngini = 0.004\\nsamples = 1599\\nvalue = [1596, 3]'),\n",
       " Text(16.465573770491805, 36.24000000000001, 'gini = 0.0\\nsamples = 1579\\nvalue = [1579, 0]'),\n",
       " Text(21.95409836065574, 36.24000000000001, 'X[14] <= -7074.1\\ngini = 0.255\\nsamples = 20\\nvalue = [17, 3]'),\n",
       " Text(19.20983606557377, 12.079999999999984, 'gini = 0.48\\nsamples = 5\\nvalue = [2, 3]'),\n",
       " Text(24.698360655737705, 12.079999999999984, 'gini = 0.0\\nsamples = 15\\nvalue = [15, 0]'),\n",
       " Text(19.20983606557377, 84.56, 'gini = 0.0\\nsamples = 1\\nvalue = [0, 1]'),\n",
       " Text(79.2405737704918, 132.88, 'X[45] <= 0.302\\ngini = 0.236\\nsamples = 3705\\nvalue = [3198, 507]'),\n",
       " Text(56.94344262295082, 108.72, 'X[4] <= -52.058\\ngini = 0.379\\nsamples = 753\\nvalue = [562, 191]'),\n",
       " Text(45.28032786885246, 84.56, 'X[43] <= 133.44\\ngini = 0.31\\nsamples = 626\\nvalue = [506, 120]'),\n",
       " Text(38.41967213114754, 60.400000000000006, 'X[34] <= -0.008\\ngini = 0.282\\nsamples = 594\\nvalue = [493, 101]'),\n",
       " Text(32.93114754098361, 36.24000000000001, 'X[55] <= -0.005\\ngini = 0.351\\nsamples = 409\\nvalue = [316, 93]'),\n",
       " Text(30.18688524590164, 12.079999999999984, 'gini = 0.296\\nsamples = 382\\nvalue = [313, 69]'),\n",
       " Text(35.675409836065576, 12.079999999999984, 'gini = 0.198\\nsamples = 27\\nvalue = [3, 24]'),\n",
       " Text(43.90819672131148, 36.24000000000001, 'X[11] <= 0.063\\ngini = 0.083\\nsamples = 185\\nvalue = [177, 8]'),\n",
       " Text(41.16393442622951, 12.079999999999984, 'gini = 0.063\\nsamples = 183\\nvalue = [177, 6]'),\n",
       " Text(46.65245901639344, 12.079999999999984, 'gini = 0.0\\nsamples = 2\\nvalue = [0, 2]'),\n",
       " Text(52.14098360655738, 60.400000000000006, 'X[4] <= -327.68\\ngini = 0.482\\nsamples = 32\\nvalue = [13, 19]'),\n",
       " Text(49.39672131147541, 36.24000000000001, 'gini = 0.401\\nsamples = 18\\nvalue = [13, 5]'),\n",
       " Text(54.885245901639344, 36.24000000000001, 'gini = 0.0\\nsamples = 14\\nvalue = [0, 14]'),\n",
       " Text(68.60655737704919, 84.56, 'X[4] <= 126.394\\ngini = 0.493\\nsamples = 127\\nvalue = [56, 71]'),\n",
       " Text(63.118032786885244, 60.400000000000006, 'X[60] <= 21.862\\ngini = 0.25\\nsamples = 82\\nvalue = [12, 70]'),\n",
       " Text(60.37377049180328, 36.24000000000001, 'gini = 0.0\\nsamples = 67\\nvalue = [0, 67]'),\n",
       " Text(65.86229508196722, 36.24000000000001, 'gini = 0.32\\nsamples = 15\\nvalue = [12, 3]'),\n",
       " Text(74.09508196721312, 60.400000000000006, 'X[43] <= 444.585\\ngini = 0.043\\nsamples = 45\\nvalue = [44, 1]'),\n",
       " Text(71.35081967213115, 36.24000000000001, 'gini = 0.0\\nsamples = 44\\nvalue = [44, 0]'),\n",
       " Text(76.83934426229509, 36.24000000000001, 'gini = 0.0\\nsamples = 1\\nvalue = [0, 1]'),\n",
       " Text(101.53770491803279, 108.72, 'X[31] <= 1235.135\\ngini = 0.191\\nsamples = 2952\\nvalue = [2636, 316]'),\n",
       " Text(98.79344262295082, 84.56, 'X[19] <= 62.192\\ngini = 0.187\\nsamples = 2944\\nvalue = [2636, 308]'),\n",
       " Text(87.81639344262295, 60.400000000000006, 'X[45] <= 0.518\\ngini = 0.141\\nsamples = 2011\\nvalue = [1857, 154]'),\n",
       " Text(82.32786885245902, 36.24000000000001, 'X[3] <= 0.957\\ngini = 0.254\\nsamples = 401\\nvalue = [341, 60]'),\n",
       " Text(79.58360655737705, 12.079999999999984, 'gini = 0.153\\nsamples = 347\\nvalue = [318, 29]'),\n",
       " Text(85.07213114754099, 12.079999999999984, 'gini = 0.489\\nsamples = 54\\nvalue = [23, 31]'),\n",
       " Text(93.30491803278689, 36.24000000000001, 'X[23] <= 0.819\\ngini = 0.11\\nsamples = 1610\\nvalue = [1516, 94]'),\n",
       " Text(90.56065573770492, 12.079999999999984, 'gini = 0.1\\nsamples = 1578\\nvalue = [1495, 83]'),\n",
       " Text(96.04918032786885, 12.079999999999984, 'gini = 0.451\\nsamples = 32\\nvalue = [21, 11]'),\n",
       " Text(109.77049180327869, 60.400000000000006, 'X[38] <= -0.026\\ngini = 0.276\\nsamples = 933\\nvalue = [779, 154]'),\n",
       " Text(104.28196721311475, 36.24000000000001, 'X[57] <= 0.991\\ngini = 0.356\\nsamples = 453\\nvalue = [348, 105]'),\n",
       " Text(101.53770491803279, 12.079999999999984, 'gini = 0.071\\nsamples = 27\\nvalue = [1, 26]'),\n",
       " Text(107.02622950819672, 12.079999999999984, 'gini = 0.302\\nsamples = 426\\nvalue = [347, 79]'),\n",
       " Text(115.25901639344262, 36.24000000000001, 'X[23] <= 0.781\\ngini = 0.183\\nsamples = 480\\nvalue = [431, 49]'),\n",
       " Text(112.51475409836065, 12.079999999999984, 'gini = 0.165\\nsamples = 473\\nvalue = [430, 43]'),\n",
       " Text(118.00327868852459, 12.079999999999984, 'gini = 0.245\\nsamples = 7\\nvalue = [1, 6]'),\n",
       " Text(104.28196721311475, 84.56, 'gini = 0.0\\nsamples = 8\\nvalue = [0, 8]'),\n",
       " Text(178.5485655737705, 157.04, 'X[45] <= 0.224\\ngini = 0.037\\nsamples = 22224\\nvalue = [21809, 415]'),\n",
       " Text(155.73688524590165, 132.88, 'X[43] <= 68.604\\ngini = 0.207\\nsamples = 589\\nvalue = [520, 69]'),\n",
       " Text(144.0737704918033, 108.72, 'X[19] <= 14.827\\ngini = 0.131\\nsamples = 540\\nvalue = [502, 38]'),\n",
       " Text(134.4688524590164, 84.56, 'X[3] <= 0.48\\ngini = 0.364\\nsamples = 121\\nvalue = [92, 29]'),\n",
       " Text(128.98032786885247, 60.400000000000006, 'X[20] <= 7.519\\ngini = 0.118\\nsamples = 95\\nvalue = [89, 6]'),\n",
       " Text(126.23606557377049, 36.24000000000001, 'X[28] <= 0.898\\ngini = 0.064\\nsamples = 91\\nvalue = [88, 3]'),\n",
       " Text(123.49180327868852, 12.079999999999984, 'gini = 0.0\\nsamples = 1\\nvalue = [0, 1]'),\n",
       " Text(128.98032786885247, 12.079999999999984, 'gini = 0.043\\nsamples = 90\\nvalue = [88, 2]'),\n",
       " Text(131.72459016393444, 36.24000000000001, 'gini = 0.375\\nsamples = 4\\nvalue = [1, 3]'),\n",
       " Text(139.95737704918034, 60.400000000000006, 'X[24] <= 0.44\\ngini = 0.204\\nsamples = 26\\nvalue = [3, 23]'),\n",
       " Text(137.21311475409837, 36.24000000000001, 'gini = 0.0\\nsamples = 23\\nvalue = [0, 23]'),\n",
       " Text(142.7016393442623, 36.24000000000001, 'gini = 0.0\\nsamples = 3\\nvalue = [3, 0]'),\n",
       " Text(153.67868852459017, 84.56, 'X[45] <= 0.224\\ngini = 0.042\\nsamples = 419\\nvalue = [410, 9]'),\n",
       " Text(150.9344262295082, 60.400000000000006, 'X[8] <= 0.294\\ngini = 0.033\\nsamples = 416\\nvalue = [409, 7]'),\n",
       " Text(148.19016393442624, 36.24000000000001, 'gini = 0.0\\nsamples = 1\\nvalue = [0, 1]'),\n",
       " Text(153.67868852459017, 36.24000000000001, 'X[56] <= -26.512\\ngini = 0.028\\nsamples = 415\\nvalue = [409, 6]'),\n",
       " Text(150.9344262295082, 12.079999999999984, 'gini = 0.0\\nsamples = 1\\nvalue = [0, 1]'),\n",
       " Text(156.42295081967214, 12.079999999999984, 'gini = 0.024\\nsamples = 414\\nvalue = [409, 5]'),\n",
       " Text(156.42295081967214, 60.400000000000006, 'gini = 0.444\\nsamples = 3\\nvalue = [1, 2]'),\n",
       " Text(167.4, 108.72, 'X[51] <= 1.058\\ngini = 0.465\\nsamples = 49\\nvalue = [18, 31]'),\n",
       " Text(164.65573770491804, 84.56, 'X[46] <= 81.148\\ngini = 0.064\\nsamples = 30\\nvalue = [1, 29]'),\n",
       " Text(161.91147540983607, 60.400000000000006, 'gini = 0.0\\nsamples = 29\\nvalue = [0, 29]'),\n",
       " Text(167.4, 60.400000000000006, 'gini = 0.0\\nsamples = 1\\nvalue = [1, 0]'),\n",
       " Text(170.14426229508197, 84.56, 'gini = 0.188\\nsamples = 19\\nvalue = [17, 2]'),\n",
       " Text(201.36024590163936, 132.88, 'X[24] <= 0.096\\ngini = 0.031\\nsamples = 21635\\nvalue = [21289, 346]'),\n",
       " Text(183.8655737704918, 108.72, 'X[47] <= 0.14\\ngini = 0.092\\nsamples = 2554\\nvalue = [2431, 123]'),\n",
       " Text(175.6327868852459, 84.56, 'X[23] <= 1.058\\ngini = 0.078\\nsamples = 2284\\nvalue = [2191, 93]'),\n",
       " Text(172.88852459016394, 60.400000000000006, 'X[12] <= 0.06\\ngini = 0.074\\nsamples = 2274\\nvalue = [2186, 88]'),\n",
       " Text(167.4, 36.24000000000001, 'X[20] <= 4.595\\ngini = 0.114\\nsamples = 1217\\nvalue = [1143, 74]'),\n",
       " Text(164.65573770491804, 12.079999999999984, 'gini = 0.094\\nsamples = 1116\\nvalue = [1061, 55]'),\n",
       " Text(170.14426229508197, 12.079999999999984, 'gini = 0.305\\nsamples = 101\\nvalue = [82, 19]'),\n",
       " Text(178.37704918032787, 36.24000000000001, 'X[43] <= 4589.45\\ngini = 0.026\\nsamples = 1057\\nvalue = [1043, 14]'),\n",
       " Text(175.6327868852459, 12.079999999999984, 'gini = 0.024\\nsamples = 1056\\nvalue = [1043, 13]'),\n",
       " Text(181.12131147540984, 12.079999999999984, 'gini = 0.0\\nsamples = 1\\nvalue = [0, 1]'),\n",
       " Text(178.37704918032787, 60.400000000000006, 'gini = 0.5\\nsamples = 10\\nvalue = [5, 5]'),\n",
       " Text(192.0983606557377, 84.56, 'X[57] <= 0.776\\ngini = 0.198\\nsamples = 270\\nvalue = [240, 30]'),\n",
       " Text(186.60983606557377, 60.400000000000006, 'X[45] <= 0.897\\ngini = 0.458\\nsamples = 31\\nvalue = [20, 11]'),\n",
       " Text(183.8655737704918, 36.24000000000001, 'gini = 0.278\\nsamples = 12\\nvalue = [2, 10]'),\n",
       " Text(189.35409836065574, 36.24000000000001, 'gini = 0.1\\nsamples = 19\\nvalue = [18, 1]'),\n",
       " Text(197.58688524590164, 60.400000000000006, 'X[47] <= 0.144\\ngini = 0.146\\nsamples = 239\\nvalue = [220, 19]'),\n",
       " Text(194.84262295081967, 36.24000000000001, 'gini = 0.444\\nsamples = 3\\nvalue = [1, 2]'),\n",
       " Text(200.3311475409836, 36.24000000000001, 'X[48] <= 0.023\\ngini = 0.134\\nsamples = 236\\nvalue = [219, 17]'),\n",
       " Text(197.58688524590164, 12.079999999999984, 'gini = 0.0\\nsamples = 1\\nvalue = [0, 1]'),\n",
       " Text(203.07540983606557, 12.079999999999984, 'gini = 0.127\\nsamples = 235\\nvalue = [219, 16]'),\n",
       " Text(218.85491803278688, 108.72, 'X[33] <= 0.866\\ngini = 0.023\\nsamples = 19081\\nvalue = [18858, 223]'),\n",
       " Text(205.81967213114754, 84.56, 'X[14] <= -24971.5\\ngini = 0.001\\nsamples = 7253\\nvalue = [7251, 2]'),\n",
       " Text(203.07540983606557, 60.400000000000006, 'gini = 0.444\\nsamples = 3\\nvalue = [2, 1]'),\n",
       " Text(208.5639344262295, 60.400000000000006, 'X[4] <= 7478.15\\ngini = 0.0\\nsamples = 7250\\nvalue = [7249, 1]'),\n",
       " Text(205.81967213114754, 36.24000000000001, 'gini = 0.0\\nsamples = 7236\\nvalue = [7236, 0]'),\n",
       " Text(211.30819672131148, 36.24000000000001, 'gini = 0.133\\nsamples = 14\\nvalue = [13, 1]'),\n",
       " Text(231.89016393442623, 84.56, 'X[45] <= 0.983\\ngini = 0.037\\nsamples = 11828\\nvalue = [11607, 221]'),\n",
       " Text(222.28524590163934, 60.400000000000006, 'X[4] <= -1.245\\ngini = 0.07\\nsamples = 3878\\nvalue = [3738, 140]'),\n",
       " Text(216.7967213114754, 36.24000000000001, 'X[23] <= 0.033\\ngini = 0.052\\nsamples = 3673\\nvalue = [3575, 98]'),\n",
       " Text(214.05245901639344, 12.079999999999984, 'gini = 0.152\\nsamples = 458\\nvalue = [420, 38]'),\n",
       " Text(219.54098360655738, 12.079999999999984, 'gini = 0.037\\nsamples = 3215\\nvalue = [3155, 60]'),\n",
       " Text(227.77377049180328, 36.24000000000001, 'X[47] <= 0.016\\ngini = 0.326\\nsamples = 205\\nvalue = [163, 42]'),\n",
       " Text(225.0295081967213, 12.079999999999984, 'gini = 0.052\\nsamples = 149\\nvalue = [145, 4]'),\n",
       " Text(230.51803278688524, 12.079999999999984, 'gini = 0.436\\nsamples = 56\\nvalue = [18, 38]'),\n",
       " Text(241.4950819672131, 60.400000000000006, 'X[57] <= 13.476\\ngini = 0.02\\nsamples = 7950\\nvalue = [7869, 81]'),\n",
       " Text(238.75081967213114, 36.24000000000001, 'X[8] <= -2.356\\ngini = 0.02\\nsamples = 7949\\nvalue = [7869, 80]'),\n",
       " Text(236.00655737704918, 12.079999999999984, 'gini = 0.0\\nsamples = 1\\nvalue = [0, 1]'),\n",
       " Text(241.4950819672131, 12.079999999999984, 'gini = 0.02\\nsamples = 7948\\nvalue = [7869, 79]'),\n",
       " Text(244.23934426229508, 36.24000000000001, 'gini = 0.0\\nsamples = 1\\nvalue = [0, 1]'),\n",
       " Text(285.4032786885246, 181.2, 'X[33] <= 0.629\\ngini = 0.292\\nsamples = 2723\\nvalue = [2239, 484]'),\n",
       " Text(268.9377049180328, 157.04, 'X[55] <= 0.201\\ngini = 0.436\\nsamples = 570\\nvalue = [183, 387]'),\n",
       " Text(260.7049180327869, 132.88, 'X[8] <= 0.681\\ngini = 0.167\\nsamples = 424\\nvalue = [39, 385]'),\n",
       " Text(252.47213114754098, 108.72, 'X[33] <= -0.003\\ngini = 0.49\\nsamples = 58\\nvalue = [33, 25]'),\n",
       " Text(249.727868852459, 84.56, 'gini = 0.0\\nsamples = 13\\nvalue = [0, 13]'),\n",
       " Text(255.21639344262294, 84.56, 'X[27] <= 5.581\\ngini = 0.391\\nsamples = 45\\nvalue = [33, 12]'),\n",
       " Text(252.47213114754098, 60.400000000000006, 'X[45] <= 0.093\\ngini = 0.18\\nsamples = 30\\nvalue = [27, 3]'),\n",
       " Text(249.727868852459, 36.24000000000001, 'gini = 0.48\\nsamples = 5\\nvalue = [2, 3]'),\n",
       " Text(255.21639344262294, 36.24000000000001, 'gini = 0.0\\nsamples = 25\\nvalue = [25, 0]'),\n",
       " Text(257.96065573770494, 60.400000000000006, 'gini = 0.48\\nsamples = 15\\nvalue = [6, 9]'),\n",
       " Text(268.9377049180328, 108.72, 'X[8] <= 1.295\\ngini = 0.032\\nsamples = 366\\nvalue = [6, 360]'),\n",
       " Text(266.19344262295084, 84.56, 'X[5] <= -1.059\\ngini = 0.006\\nsamples = 361\\nvalue = [1, 360]'),\n",
       " Text(263.4491803278689, 60.400000000000006, 'gini = 0.0\\nsamples = 1\\nvalue = [1, 0]'),\n",
       " Text(268.9377049180328, 60.400000000000006, 'gini = 0.0\\nsamples = 360\\nvalue = [0, 360]'),\n",
       " Text(271.6819672131148, 84.56, 'gini = 0.0\\nsamples = 5\\nvalue = [5, 0]'),\n",
       " Text(277.1704918032787, 132.88, 'X[55] <= 0.327\\ngini = 0.027\\nsamples = 146\\nvalue = [144, 2]'),\n",
       " Text(274.42622950819674, 108.72, 'gini = 0.32\\nsamples = 10\\nvalue = [8, 2]'),\n",
       " Text(279.9147540983607, 108.72, 'gini = 0.0\\nsamples = 136\\nvalue = [136, 0]'),\n",
       " Text(301.8688524590164, 157.04, 'X[5] <= 0.038\\ngini = 0.086\\nsamples = 2153\\nvalue = [2056, 97]'),\n",
       " Text(290.89180327868854, 132.88, 'X[41] <= -0.235\\ngini = 0.06\\nsamples = 1926\\nvalue = [1866, 60]'),\n",
       " Text(285.4032786885246, 108.72, 'X[28] <= 2.877\\ngini = 0.384\\nsamples = 54\\nvalue = [40, 14]'),\n",
       " Text(282.65901639344264, 84.56, 'X[55] <= -0.263\\ngini = 0.268\\nsamples = 44\\nvalue = [37, 7]'),\n",
       " Text(279.9147540983607, 60.400000000000006, 'X[45] <= 0.296\\ngini = 0.145\\nsamples = 38\\nvalue = [35, 3]'),\n",
       " Text(277.1704918032787, 36.24000000000001, 'gini = 0.444\\nsamples = 3\\nvalue = [1, 2]'),\n",
       " Text(282.65901639344264, 36.24000000000001, 'X[28] <= 1.273\\ngini = 0.056\\nsamples = 35\\nvalue = [34, 1]'),\n",
       " Text(279.9147540983607, 12.079999999999984, 'gini = 0.5\\nsamples = 2\\nvalue = [1, 1]'),\n",
       " Text(285.4032786885246, 12.079999999999984, 'gini = 0.0\\nsamples = 33\\nvalue = [33, 0]'),\n",
       " Text(285.4032786885246, 60.400000000000006, 'gini = 0.444\\nsamples = 6\\nvalue = [2, 4]'),\n",
       " Text(288.1475409836066, 84.56, 'gini = 0.42\\nsamples = 10\\nvalue = [3, 7]'),\n",
       " Text(296.3803278688525, 108.72, 'X[56] <= -7.655\\ngini = 0.048\\nsamples = 1872\\nvalue = [1826, 46]'),\n",
       " Text(293.6360655737705, 84.56, 'gini = 0.444\\nsamples = 3\\nvalue = [1, 2]'),\n",
       " Text(299.12459016393444, 84.56, 'X[48] <= 2.506\\ngini = 0.046\\nsamples = 1869\\nvalue = [1825, 44]'),\n",
       " Text(296.3803278688525, 60.400000000000006, 'X[45] <= 0.011\\ngini = 0.045\\nsamples = 1868\\nvalue = [1825, 43]'),\n",
       " Text(293.6360655737705, 36.24000000000001, 'gini = 0.0\\nsamples = 1\\nvalue = [0, 1]'),\n",
       " Text(299.12459016393444, 36.24000000000001, 'X[57] <= 0.965\\ngini = 0.044\\nsamples = 1867\\nvalue = [1825, 42]'),\n",
       " Text(296.3803278688525, 12.079999999999984, 'gini = 0.026\\nsamples = 1467\\nvalue = [1448, 19]'),\n",
       " Text(301.8688524590164, 12.079999999999984, 'gini = 0.108\\nsamples = 400\\nvalue = [377, 23]'),\n",
       " Text(301.8688524590164, 60.400000000000006, 'gini = 0.0\\nsamples = 1\\nvalue = [0, 1]'),\n",
       " Text(312.8459016393443, 132.88, 'X[33] <= 1.588\\ngini = 0.273\\nsamples = 227\\nvalue = [190, 37]'),\n",
       " Text(307.35737704918034, 108.72, 'X[48] <= 0.005\\ngini = 0.444\\nsamples = 33\\nvalue = [11, 22]'),\n",
       " Text(304.6131147540984, 84.56, 'gini = 0.0\\nsamples = 9\\nvalue = [9, 0]'),\n",
       " Text(310.1016393442623, 84.56, 'X[51] <= 0.459\\ngini = 0.153\\nsamples = 24\\nvalue = [2, 22]'),\n",
       " Text(307.35737704918034, 60.400000000000006, 'gini = 0.0\\nsamples = 22\\nvalue = [0, 22]'),\n",
       " Text(312.8459016393443, 60.400000000000006, 'gini = 0.0\\nsamples = 2\\nvalue = [2, 0]'),\n",
       " Text(318.3344262295082, 108.72, 'X[45] <= 0.379\\ngini = 0.143\\nsamples = 194\\nvalue = [179, 15]'),\n",
       " Text(315.59016393442624, 84.56, 'gini = 0.32\\nsamples = 5\\nvalue = [1, 4]'),\n",
       " Text(321.0786885245902, 84.56, 'X[52] <= 0.341\\ngini = 0.11\\nsamples = 189\\nvalue = [178, 11]'),\n",
       " Text(318.3344262295082, 60.400000000000006, 'gini = 0.0\\nsamples = 2\\nvalue = [0, 2]'),\n",
       " Text(323.82295081967214, 60.400000000000006, 'X[33] <= 2.554\\ngini = 0.092\\nsamples = 187\\nvalue = [178, 9]'),\n",
       " Text(318.3344262295082, 36.24000000000001, 'X[15] <= 1.568\\ngini = 0.375\\nsamples = 20\\nvalue = [15, 5]'),\n",
       " Text(315.59016393442624, 12.079999999999984, 'gini = 0.0\\nsamples = 15\\nvalue = [15, 0]'),\n",
       " Text(321.0786885245902, 12.079999999999984, 'gini = 0.0\\nsamples = 5\\nvalue = [0, 5]'),\n",
       " Text(329.3114754098361, 36.24000000000001, 'X[3] <= 148.8\\ngini = 0.047\\nsamples = 167\\nvalue = [163, 4]'),\n",
       " Text(326.5672131147541, 12.079999999999984, 'gini = 0.035\\nsamples = 166\\nvalue = [163, 3]'),\n",
       " Text(332.05573770491804, 12.079999999999984, 'gini = 0.0\\nsamples = 1\\nvalue = [0, 1]')]"
      ]
     },
     "execution_count": 90,
     "metadata": {},
     "output_type": "execute_result"
    },
    {
     "data": {
      "image/png": "[encoded data removed]",
      "text/plain": [
       "<Figure size 432x288 with 1 Axes>"
      ]
     },
     "metadata": {
      "needs_background": "light"
     },
     "output_type": "display_data"
    }
   ],
   "source": [
    "tree.plot_tree(clf)"
   ]
  },
  {
   "cell_type": "code",
   "execution_count": null,
   "id": "12e47989",
   "metadata": {},
   "outputs": [],
   "source": []
  }
 ],
 "metadata": {
  "kernelspec": {
   "display_name": "Python 3",
   "language": "python",
   "name": "python3"
  },
  "language_info": {
   "codemirror_mode": {
    "name": "ipython",
    "version": 3
   },
   "file_extension": ".py",
   "mimetype": "text/x-python",
   "name": "python",
   "nbconvert_exporter": "python",
   "pygments_lexer": "ipython3",
   "version": "3.8.8"
  }
 },
 "nbformat": 4,
 "nbformat_minor": 5
}
