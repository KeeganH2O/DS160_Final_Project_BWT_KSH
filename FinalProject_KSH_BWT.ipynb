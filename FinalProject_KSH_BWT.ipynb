{
 "cells": [
  {
   "cell_type": "markdown",
   "id": "57e42817",
   "metadata": {},
   "source": [
    "## Section 3: Regression & Machine Learning"
   ]
  },
  {
   "cell_type": "code",
   "execution_count": 73,
   "id": "9c57c91e",
   "metadata": {},
   "outputs": [],
   "source": [
    "import pandas as pd\n",
    "import numpy as np\n",
    "import matplotlib.pyplot as plt\n",
    "import seaborn as sns\n",
    "%matplotlib inline\n",
    "\n",
    "#Logistic Regression from SKLearn\n",
    "from sklearn.linear_model import LogisticRegression\n",
    "\n",
    "#Decision Tree from SKLearn\n",
    "from sklearn import tree\n",
    "from sklearn.tree import export_text\n",
    "from sklearn.ensemble import RandomForestClassifier\n",
    "import graphviz\n",
    "import pydot\n",
    "\n",
    "#train and tests spliting\n",
    "from sklearn.model_selection import train_test_split\n",
    "\n",
    "#metrics for the model\n",
    "from sklearn.metrics import accuracy_score, confusion_matrix, classification_report"
   ]
  },
  {
   "cell_type": "code",
   "execution_count": 50,
   "id": "d690e332",
   "metadata": {},
   "outputs": [],
   "source": [
    "LDF = pd.read_csv('LDF')"
   ]
  },
  {
   "cell_type": "markdown",
   "id": "2a7f5b37",
   "metadata": {},
   "source": [
    "### Logistic Regression"
   ]
  },
  {
   "cell_type": "code",
   "execution_count": 51,
   "id": "410a7107",
   "metadata": {},
   "outputs": [
    {
     "data": {
      "text/plain": [
       "Index(['net_profit/total_assets', 'total liabilities / total assets',\n",
       "       'working capital / total assets',\n",
       "       'current assets / short-term liabilities',\n",
       "       '[(cash + short-term securities + receivables-short-term liabilities) / (operating expenses - depreciation)] * 365',\n",
       "       'retained earnings / total assets', 'EBIT / total assets',\n",
       "       'book value of equity / total liabilities', 'sales / total assets',\n",
       "       'equity / total assets',\n",
       "       '(gross profit + extraordinary items + financial expenses) / total assets',\n",
       "       'gross profit / short-term liabilities',\n",
       "       '(gross profit + depreciation) / sales',\n",
       "       '(gross profit + interest) / total assets',\n",
       "       '(total liabilities * 365) / (gross profit + depreciation)',\n",
       "       '(gross profit + depreciation) / total liabilities',\n",
       "       'total assets / total liabilities', 'gross profit / total assets',\n",
       "       'gross profit / sales', '(inventory * 365) / sales',\n",
       "       'sales (n) / sales (n-1)',\n",
       "       'profit on operating activities / total assets', 'net profit / sales',\n",
       "       'gross profit (in 3 years) / total assets',\n",
       "       '(equity - share capital) / total assets',\n",
       "       '(net profit + depreciation) / total liabilities',\n",
       "       'profit on operating activities / financial expenses',\n",
       "       'working capital / fixed assets', 'logarithm of total assets',\n",
       "       '(total liabilities - cash) / sales',\n",
       "       '(gross profit + interest) / sales',\n",
       "       '(current liabilities * 365) / cost of products sold',\n",
       "       'operating expenses / short-term liabilities',\n",
       "       'operating expenses / total liabilities',\n",
       "       'profit on sales / total assets', 'total sales / total assets',\n",
       "       '(current assets - inventories) / long-term liabilities',\n",
       "       'constant capital / total assets', 'profit on sales / sales',\n",
       "       '(current assets - inventory - receivables) / short-term liabilities',\n",
       "       'total liabilities / ((profit on operating activities + depreciation) * (12/365))',\n",
       "       'profit on operating activities / sales',\n",
       "       'rotation receivables + inventory turnover in days',\n",
       "       '(receivables * 365) / sales', 'net profit / inventory',\n",
       "       '(current assets - inventory) / short-term liabilities',\n",
       "       '(inventory * 365) / cost of products sold',\n",
       "       'EBITDA (profit on operating activities - depreciation) / total assets',\n",
       "       'EBITDA (profit on operating activities - depreciation) / sales',\n",
       "       'current assets / total liabilities',\n",
       "       'short-term liabilities / total assets',\n",
       "       '(short-term liabilities * 365) / cost of products sold)',\n",
       "       'equity / fixed assets', 'constant capital / fixed assets',\n",
       "       'working capital', '(sales - cost of products sold) / sales',\n",
       "       '(current assets - inventory - short-term liabilities) / (sales - gross profit - depreciation)',\n",
       "       'total costs /total sales', 'long-term liabilities / equity',\n",
       "       'sales / inventory', 'sales / receivables',\n",
       "       'short-term liabilities *365 / sales', 'sales / short-term liabilities',\n",
       "       'sales / fixed assets', 'bankruptcy'],\n",
       "      dtype='object')"
      ]
     },
     "execution_count": 51,
     "metadata": {},
     "output_type": "execute_result"
    }
   ],
   "source": [
    "LDF.columns"
   ]
  },
  {
   "cell_type": "code",
   "execution_count": 52,
   "id": "a07b1f64",
   "metadata": {},
   "outputs": [],
   "source": [
    "y = LDF['bankruptcy']\n",
    "y = np.array(y)"
   ]
  },
  {
   "cell_type": "code",
   "execution_count": 53,
   "id": "2a4473ff",
   "metadata": {},
   "outputs": [],
   "source": [
    "X1 = np.array(LDF['total costs /total sales']).reshape(-1,1)\n",
    "X2 = np.array(LDF['retained earnings / total assets']).reshape(-1,1)\n",
    "X3 = np.array(LDF['working capital']).reshape(-1,1)\n",
    "\n",
    "X4 = np.array(LDF['EBITDA (profit on operating activities - depreciation) / sales']).reshape(-1,1)\n",
    "\n",
    "#having an issue using multiple"
   ]
  },
  {
   "cell_type": "code",
   "execution_count": 54,
   "id": "0da8d52c",
   "metadata": {},
   "outputs": [
    {
     "data": {
      "text/plain": [
       "array([[ 0.11085 ],\n",
       "       [ 0.13961 ],\n",
       "       [ 0.22293 ],\n",
       "       ...,\n",
       "       [ 0.08437 ],\n",
       "       [-0.20497 ],\n",
       "       [-0.068474]])"
      ]
     },
     "execution_count": 54,
     "metadata": {},
     "output_type": "execute_result"
    }
   ],
   "source": [
    "X1\n",
    "X2\n",
    "X3\n",
    "X4"
   ]
  },
  {
   "cell_type": "code",
   "execution_count": 55,
   "id": "c17d0d26",
   "metadata": {},
   "outputs": [],
   "source": [
    "clf1 = LogisticRegression().fit(X1,y)\n",
    "clf2 = LogisticRegression().fit(X2,y)\n",
    "clf3 = LogisticRegression().fit(X3,y)\n",
    "clf4 = LogisticRegression().fit(X4,y)\n"
   ]
  },
  {
   "cell_type": "code",
   "execution_count": 56,
   "id": "217047bb-400d-4dc7-98c4-8c4a946bc6e8",
   "metadata": {},
   "outputs": [
    {
     "data": {
      "text/plain": [
       "43405"
      ]
     },
     "execution_count": 56,
     "metadata": {},
     "output_type": "execute_result"
    }
   ],
   "source": [
    "LDF['working capital'].count()"
   ]
  },
  {
   "cell_type": "code",
   "execution_count": 57,
   "id": "057f0d08-670f-4bc6-a48f-36cb38d63c85",
   "metadata": {},
   "outputs": [
    {
     "data": {
      "text/plain": [
       "43405"
      ]
     },
     "execution_count": 57,
     "metadata": {},
     "output_type": "execute_result"
    }
   ],
   "source": [
    "LDF['retained earnings / total assets'].count()"
   ]
  },
  {
   "cell_type": "code",
   "execution_count": 58,
   "id": "e0afa89e-8ef3-4095-b481-e015e8a7354a",
   "metadata": {},
   "outputs": [
    {
     "data": {
      "text/plain": [
       "43405"
      ]
     },
     "execution_count": 58,
     "metadata": {},
     "output_type": "execute_result"
    }
   ],
   "source": [
    "LDF['total costs /total sales'].count()"
   ]
  },
  {
   "cell_type": "code",
   "execution_count": null,
   "id": "252166c8-519d-45eb-a952-b238cd549e8d",
   "metadata": {},
   "outputs": [],
   "source": [
    "XC = LDF[['working capital','retained earnings / total assets','total costs /total sales']]\n",
    "\n",
    "clf5 = LogisticRegression().fit(XC,y)\n",
    "clf5.predict(XC)\n",
    "print(clf5.score(XC,y))"
   ]
  },
  {
   "cell_type": "code",
   "execution_count": null,
   "id": "562e8067",
   "metadata": {},
   "outputs": [],
   "source": [
    "clf1.predict(X1)\n",
    "clf2.predict(X2)\n",
    "clf3.predict(X3)\n",
    "\n",
    "clf4.predict(X4)"
   ]
  },
  {
   "cell_type": "code",
   "execution_count": null,
   "id": "f4713e89",
   "metadata": {},
   "outputs": [],
   "source": [
    "print(clf1.score(X1,y))\n",
    "print(clf2.score(X2,y))\n",
    "print(clf3.score(X3,y))\n",
    "\n",
    "print(clf4.score(X4,y))"
   ]
  },
  {
   "cell_type": "code",
   "execution_count": null,
   "id": "b007a2a6",
   "metadata": {},
   "outputs": [],
   "source": []
  },
  {
   "cell_type": "markdown",
   "id": "51a95324",
   "metadata": {},
   "source": [
    "### Decision Tree"
   ]
  },
  {
   "cell_type": "code",
   "execution_count": null,
   "id": "f9fb3f3e",
   "metadata": {},
   "outputs": [],
   "source": [
    "def plot_cm(y_pred, y_test):\n",
    "    cm = confusion_matrix(y_pred, y_test)\n",
    "    fig = plt.figure(figsize=(5,5))\n",
    "    heatmap = sns.heatmap(cm, annot=True, fmt='.2f', cmap='RdYlGn')\n",
    "    plt.ylabel('True label')\n",
    "    plt.xlabel('Predicted Label')"
   ]
  },
  {
   "cell_type": "code",
   "execution_count": null,
   "id": "55354a7c",
   "metadata": {},
   "outputs": [],
   "source": [
    "#LDF['bankruptcy'].replace(0,\"Not Bankrupt\", inplace = True)\n",
    "#LDF['bankruptcy'].replace(1,\"Bankrupt\", inplace = True)"
   ]
  },
  {
   "cell_type": "code",
   "execution_count": null,
   "id": "6ef3eb65",
   "metadata": {},
   "outputs": [],
   "source": [
    "X = LDF.iloc[:,0:64]\n",
    "y = LDF['bankruptcy']"
   ]
  },
  {
   "cell_type": "code",
   "execution_count": null,
   "id": "c19497db",
   "metadata": {},
   "outputs": [],
   "source": [
    "def DecisionTree(ssplit, tsize, depth):\n",
    "    \n",
    "    #splits data into train & test sets\n",
    "    X_train, X_test, y_train, y_test = train_test_split(X,y,test_size = tsize, random_state=26)\n",
    "    \n",
    "    #sets tree guidelines\n",
    "    clf = tree.DecisionTreeClassifier(min_samples_split=ssplit, max_depth = depth)\n",
    "    \n",
    "    #trains off of train set\n",
    "    clf = clf.fit(X_train, y_train)\n",
    "    \n",
    "    #compares to test set\n",
    "    y_pred = clf.predict(X_test)\n",
    "    \n",
    "    print(classification_report(y_pred,y_test))\n",
    "    return plot_cm(y_pred, y_test)"
   ]
  },
  {
   "cell_type": "markdown",
   "id": "1e1fb2dc",
   "metadata": {},
   "source": [
    "#### Comparing Results for: sample_split Changes (best: 3)"
   ]
  },
  {
   "cell_type": "code",
   "execution_count": null,
   "id": "95d38230",
   "metadata": {},
   "outputs": [],
   "source": [
    "#best sample_split results (3)\n",
    "DecisionTree(3, 0.2, 6)"
   ]
  },
  {
   "cell_type": "code",
   "execution_count": null,
   "id": "2ccec303",
   "metadata": {},
   "outputs": [],
   "source": [
    "DecisionTree(5, 0.2, 6)"
   ]
  },
  {
   "cell_type": "markdown",
   "id": "f9582223",
   "metadata": {},
   "source": [
    "#### Comparing Results for: Test Size Changes (best: 0.2)"
   ]
  },
  {
   "cell_type": "code",
   "execution_count": 60,
   "id": "693e81fb",
   "metadata": {},
   "outputs": [
    {
     "name": "stdout",
     "output_type": "stream",
     "text": [
      "              precision    recall  f1-score   support\n",
      "\n",
      "           0       1.00      0.97      0.98      8497\n",
      "           1       0.38      0.91      0.53       184\n",
      "\n",
      "    accuracy                           0.97      8681\n",
      "   macro avg       0.69      0.94      0.76      8681\n",
      "weighted avg       0.98      0.97      0.97      8681\n",
      "\n"
     ]
    },
    {
     "data": {
      "image/png": "[encoded data removed]",
      "text/plain": [
       "<Figure size 360x360 with 2 Axes>"
      ]
     },
     "metadata": {
      "needs_background": "light"
     },
     "output_type": "display_data"
    }
   ],
   "source": [
    "DecisionTree(3, 0.2, 6)"
   ]
  },
  {
   "cell_type": "code",
   "execution_count": 61,
   "id": "f7dea914",
   "metadata": {},
   "outputs": [
    {
     "name": "stdout",
     "output_type": "stream",
     "text": [
      "              precision    recall  f1-score   support\n",
      "\n",
      "           0       1.00      0.97      0.98     10591\n",
      "           1       0.38      0.81      0.52       261\n",
      "\n",
      "    accuracy                           0.96     10852\n",
      "   macro avg       0.69      0.89      0.75     10852\n",
      "weighted avg       0.98      0.96      0.97     10852\n",
      "\n"
     ]
    },
    {
     "data": {
      "image/png": "[encoded data removed]",
      "text/plain": [
       "<Figure size 360x360 with 2 Axes>"
      ]
     },
     "metadata": {
      "needs_background": "light"
     },
     "output_type": "display_data"
    }
   ],
   "source": [
    "DecisionTree(3, 0.25, 6)"
   ]
  },
  {
   "cell_type": "markdown",
   "id": "08858cb1",
   "metadata": {},
   "source": [
    "#### Comparing Results for: Depth Changes (best: 4)"
   ]
  },
  {
   "cell_type": "code",
   "execution_count": 62,
   "id": "a97f626f",
   "metadata": {},
   "outputs": [
    {
     "name": "stdout",
     "output_type": "stream",
     "text": [
      "              precision    recall  f1-score   support\n",
      "\n",
      "           0       1.00      0.97      0.98      8526\n",
      "           1       0.33      0.94      0.49       155\n",
      "\n",
      "    accuracy                           0.96      8681\n",
      "   macro avg       0.66      0.95      0.73      8681\n",
      "weighted avg       0.99      0.96      0.97      8681\n",
      "\n"
     ]
    },
    {
     "data": {
      "image/png": "[encoded data removed]",
      "text/plain": [
       "<Figure size 360x360 with 2 Axes>"
      ]
     },
     "metadata": {
      "needs_background": "light"
     },
     "output_type": "display_data"
    }
   ],
   "source": [
    "DecisionTree(3, 0.2, 4)"
   ]
  },
  {
   "cell_type": "code",
   "execution_count": 63,
   "id": "2e1eadf1",
   "metadata": {},
   "outputs": [
    {
     "name": "stdout",
     "output_type": "stream",
     "text": [
      "              precision    recall  f1-score   support\n",
      "\n",
      "           0       1.00      0.97      0.98      8482\n",
      "           1       0.41      0.90      0.56       199\n",
      "\n",
      "    accuracy                           0.97      8681\n",
      "   macro avg       0.70      0.94      0.77      8681\n",
      "weighted avg       0.98      0.97      0.97      8681\n",
      "\n"
     ]
    },
    {
     "data": {
      "image/png": "[encoded data removed]",
      "text/plain": [
       "<Figure size 360x360 with 2 Axes>"
      ]
     },
     "metadata": {
      "needs_background": "light"
     },
     "output_type": "display_data"
    }
   ],
   "source": [
    "DecisionTree(3, 0.2, 7)"
   ]
  },
  {
   "cell_type": "markdown",
   "id": "bc24c7b4",
   "metadata": {},
   "source": [
    "### Best Decision Tree"
   ]
  },
  {
   "cell_type": "code",
   "execution_count": 64,
   "id": "a9088f50",
   "metadata": {},
   "outputs": [
    {
     "name": "stdout",
     "output_type": "stream",
     "text": [
      "              precision    recall  f1-score   support\n",
      "\n",
      "           0       1.00      0.97      0.98      8526\n",
      "           1       0.33      0.94      0.49       155\n",
      "\n",
      "    accuracy                           0.96      8681\n",
      "   macro avg       0.66      0.95      0.73      8681\n",
      "weighted avg       0.99      0.96      0.97      8681\n",
      "\n"
     ]
    },
    {
     "data": {
      "image/png": "[encoded data removed]",
      "text/plain": [
       "<Figure size 360x360 with 2 Axes>"
      ]
     },
     "metadata": {
      "needs_background": "light"
     },
     "output_type": "display_data"
    }
   ],
   "source": [
    "DecisionTree(3, 0.2, 4)"
   ]
  },
  {
   "cell_type": "markdown",
   "id": "58de0907",
   "metadata": {},
   "source": [
    "#### pdf of Decision Tree"
   ]
  },
  {
   "cell_type": "code",
   "execution_count": 65,
   "id": "da84a5a7",
   "metadata": {},
   "outputs": [],
   "source": [
    "class_names = (\"bankrupt\",\"not bankrupt\")"
   ]
  },
  {
   "cell_type": "code",
   "execution_count": 66,
   "id": "cc1815d1",
   "metadata": {},
   "outputs": [],
   "source": [
    "X_train, X_test, y_train, y_test = train_test_split(X,y,test_size = 0.2, random_state=26)\n",
    "    \n",
    "#sets tree guidelines\n",
    "clf = tree.DecisionTreeClassifier(min_samples_split=3, max_depth = 4)\n",
    "    \n",
    "#trains off of train set\n",
    "clf = clf.fit(X_train, y_train)"
   ]
  },
  {
   "cell_type": "code",
   "execution_count": 67,
   "id": "928b3cab",
   "metadata": {},
   "outputs": [
    {
     "data": {
      "text/plain": [
       "'bankruptDecisionTree.pdf'"
      ]
     },
     "execution_count": 67,
     "metadata": {},
     "output_type": "execute_result"
    }
   ],
   "source": [
    "dot_data = tree.export_graphviz(clf, out_file=None, \n",
    "                                feature_names=X.columns,\n",
    "                                class_names=class_names,\n",
    "                                filled=True, \n",
    "                                rounded=True,\n",
    "                                label='all',\n",
    "                                special_characters=True,\n",
    "                                proportion=False,\n",
    "                                rotate=False)\n",
    "\n",
    "graph = graphviz.Source(dot_data)\n",
    "graph.render(\"bankruptDecisionTree\")"
   ]
  },
  {
   "cell_type": "markdown",
   "id": "91382d5e",
   "metadata": {},
   "source": [
    "### Random Forest"
   ]
  },
  {
   "cell_type": "code",
   "execution_count": 68,
   "id": "3679ad20",
   "metadata": {},
   "outputs": [],
   "source": [
    "def plot_cm(y_pred, y_test):\n",
    "    cm = confusion_matrix(y_pred, y_test)\n",
    "    fig = plt.figure(figsize=(5,5))\n",
    "    heatmap = sns.heatmap(cm, annot=True, fmt='.2f', cmap='RdYlGn')\n",
    "    plt.ylabel('True label')\n",
    "    plt.xlabel('Predicted Label')\n",
    "\n",
    "\n"
   ]
  },
  {
   "cell_type": "code",
   "execution_count": 69,
   "id": "ee843395-18a2-4109-a952-974e4252d390",
   "metadata": {},
   "outputs": [],
   "source": [
    "X = LDF.iloc[:,0:64]\n",
    "y = LDF['bankruptcy']"
   ]
  },
  {
   "cell_type": "code",
   "execution_count": null,
   "id": "cfdc7817-9580-430b-9f3e-a169732252f5",
   "metadata": {},
   "outputs": [],
   "source": []
  },
  {
   "cell_type": "code",
   "execution_count": 84,
   "id": "9b0a6c2c-8f65-4365-8696-972293a3ce8a",
   "metadata": {},
   "outputs": [],
   "source": [
    "def RandomForest(tsize, n_est, criteria):\n",
    "    X_train, X_test, y_train, y_test = train_test_split(X,y, test_size=.20, random_state=26)\n",
    "    \n",
    "    y_train.shape\n",
    "    \n",
    "    clff = RandomForestClassifier(n_estimators= n_est,\n",
    "                            criterion= criteria)\n",
    "    clff.fit(X_train,np.ravel(y_train))\n",
    "    \n",
    "    y_pred = clff.predict(X_test)\n",
    "    \n",
    "    print(classification_report(y_pred,y_test))\n",
    "    return plot_cm(y_pred, y_test)"
   ]
  },
  {
   "cell_type": "code",
   "execution_count": 87,
   "id": "cdce98fb-8f19-438f-bd15-3d1bd23e31c7",
   "metadata": {},
   "outputs": [
    {
     "name": "stdout",
     "output_type": "stream",
     "text": [
      "              precision    recall  f1-score   support\n",
      "\n",
      "           0       1.00      0.97      0.98      8514\n",
      "           1       0.33      0.88      0.48       167\n",
      "\n",
      "    accuracy                           0.96      8681\n",
      "   macro avg       0.67      0.92      0.73      8681\n",
      "weighted avg       0.98      0.96      0.97      8681\n",
      "\n"
     ]
    },
    {
     "data": {
      "image/png": "[encoded data removed]",
      "text/plain": [
       "<Figure size 360x360 with 2 Axes>"
      ]
     },
     "metadata": {
      "needs_background": "light"
     },
     "output_type": "display_data"
    }
   ],
   "source": [
    "RandomForest(0.2, 17, 'entropy')"
   ]
  },
  {
   "cell_type": "markdown",
   "id": "69a81b62-3fb4-45f1-ad99-ba52d36cb81f",
   "metadata": {},
   "source": [
    "#### Comparing Results for: Test Size Changes (best: x)"
   ]
  },
  {
   "cell_type": "code",
   "execution_count": null,
   "id": "0c5ceb5b-103f-4b27-a68a-937c1173e011",
   "metadata": {},
   "outputs": [],
   "source": []
  },
  {
   "cell_type": "markdown",
   "id": "12a28e6d-f17d-4cc5-9c01-76a969e5273b",
   "metadata": {},
   "source": [
    "#### Comparing Results for: Number of Estimators (best: x)"
   ]
  },
  {
   "cell_type": "code",
   "execution_count": null,
   "id": "c981c153-332a-42aa-9fb2-5d0f5392c170",
   "metadata": {},
   "outputs": [],
   "source": []
  },
  {
   "cell_type": "markdown",
   "id": "a851e6e8-3956-48e6-a515-e417e6eafe05",
   "metadata": {},
   "source": [
    "#### Comparing Results for Type: Entropy vs Gini"
   ]
  },
  {
   "cell_type": "code",
   "execution_count": null,
   "id": "1d3da67a-4f7c-4c5d-8c95-3d260804f2e3",
   "metadata": {},
   "outputs": [],
   "source": []
  }
 ],
 "metadata": {
  "kernelspec": {
   "display_name": "Python 3",
   "language": "python",
   "name": "python3"
  },
  "language_info": {
   "codemirror_mode": {
    "name": "ipython",
    "version": 3
   },
   "file_extension": ".py",
   "mimetype": "text/x-python",
   "name": "python",
   "nbconvert_exporter": "python",
   "pygments_lexer": "ipython3",
   "version": "3.8.8"
  }
 },
 "nbformat": 4,
 "nbformat_minor": 5
}
