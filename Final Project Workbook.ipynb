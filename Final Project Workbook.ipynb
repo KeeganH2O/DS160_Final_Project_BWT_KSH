{
 "cells": [
  {
   "cell_type": "markdown",
   "id": "df7ae566",
   "metadata": {},
   "source": [
    "## Final Project: Bankruptcy Analysis\n",
    "#### By: Keegan Henderson & Brandon Thomas"
   ]
  },
  {
   "cell_type": "code",
   "execution_count": 1,
   "id": "996227a5",
   "metadata": {},
   "outputs": [],
   "source": [
    "#Libraries\n",
    "from scipy.io import arff\n",
    "\n",
    "import pandas as pd\n",
    "\n",
    "import seaborn as sns"
   ]
  },
  {
   "cell_type": "markdown",
   "id": "ae539d89",
   "metadata": {},
   "source": [
    "## Section 1: Cleaning and Organizing Data"
   ]
  },
  {
   "cell_type": "markdown",
   "id": "d820dbaf",
   "metadata": {},
   "source": [
    "### Transforming the data from arff -> a dataframe"
   ]
  },
  {
   "cell_type": "code",
   "execution_count": 2,
   "id": "9a04e41c",
   "metadata": {},
   "outputs": [],
   "source": [
    "# Loading the arff files into the workspace\n",
    "\n",
    "AData1 = arff.loadarff('1year.arff')\n",
    "AData2 = arff.loadarff('2year.arff')\n",
    "AData3 = arff.loadarff('3year.arff')\n",
    "AData4 = arff.loadarff('4year.arff')\n",
    "AData5 = arff.loadarff('5year.arff')"
   ]
  },
  {
   "cell_type": "code",
   "execution_count": 3,
   "id": "2bf1e621",
   "metadata": {},
   "outputs": [],
   "source": [
    "#loading the arff files (from workspace) into a dataframe (within the workspace)\n",
    "\n",
    "df1 = pd.DataFrame(AData1[0])\n",
    "df2 = pd.DataFrame(AData2[0])\n",
    "df3 = pd.DataFrame(AData3[0])\n",
    "df4 = pd.DataFrame(AData4[0])\n",
    "df5 = pd.DataFrame(AData5[0])"
   ]
  },
  {
   "cell_type": "code",
   "execution_count": 4,
   "id": "584897e3",
   "metadata": {},
   "outputs": [
    {
     "data": {
      "text/html": [
       "<div>\n",
       "<style scoped>\n",
       "    .dataframe tbody tr th:only-of-type {\n",
       "        vertical-align: middle;\n",
       "    }\n",
       "\n",
       "    .dataframe tbody tr th {\n",
       "        vertical-align: top;\n",
       "    }\n",
       "\n",
       "    .dataframe thead th {\n",
       "        text-align: right;\n",
       "    }\n",
       "</style>\n",
       "<table border=\"1\" class=\"dataframe\">\n",
       "  <thead>\n",
       "    <tr style=\"text-align: right;\">\n",
       "      <th></th>\n",
       "      <th>Attr1</th>\n",
       "      <th>Attr2</th>\n",
       "      <th>Attr3</th>\n",
       "      <th>Attr4</th>\n",
       "      <th>Attr5</th>\n",
       "      <th>Attr6</th>\n",
       "      <th>Attr7</th>\n",
       "      <th>Attr8</th>\n",
       "      <th>Attr9</th>\n",
       "      <th>Attr10</th>\n",
       "      <th>...</th>\n",
       "      <th>Attr56</th>\n",
       "      <th>Attr57</th>\n",
       "      <th>Attr58</th>\n",
       "      <th>Attr59</th>\n",
       "      <th>Attr60</th>\n",
       "      <th>Attr61</th>\n",
       "      <th>Attr62</th>\n",
       "      <th>Attr63</th>\n",
       "      <th>Attr64</th>\n",
       "      <th>class</th>\n",
       "    </tr>\n",
       "  </thead>\n",
       "  <tbody>\n",
       "    <tr>\n",
       "      <th>0</th>\n",
       "      <td>0.200550</td>\n",
       "      <td>0.37951</td>\n",
       "      <td>0.39641</td>\n",
       "      <td>2.0472</td>\n",
       "      <td>32.3510</td>\n",
       "      <td>0.38825</td>\n",
       "      <td>0.249760</td>\n",
       "      <td>1.33050</td>\n",
       "      <td>1.1389</td>\n",
       "      <td>0.50494</td>\n",
       "      <td>...</td>\n",
       "      <td>0.121960</td>\n",
       "      <td>0.39718</td>\n",
       "      <td>0.87804</td>\n",
       "      <td>0.001924</td>\n",
       "      <td>8.4160</td>\n",
       "      <td>5.1372</td>\n",
       "      <td>82.658</td>\n",
       "      <td>4.4158</td>\n",
       "      <td>7.4277</td>\n",
       "      <td>b'0'</td>\n",
       "    </tr>\n",
       "    <tr>\n",
       "      <th>1</th>\n",
       "      <td>0.209120</td>\n",
       "      <td>0.49988</td>\n",
       "      <td>0.47225</td>\n",
       "      <td>1.9447</td>\n",
       "      <td>14.7860</td>\n",
       "      <td>0.00000</td>\n",
       "      <td>0.258340</td>\n",
       "      <td>0.99601</td>\n",
       "      <td>1.6996</td>\n",
       "      <td>0.49788</td>\n",
       "      <td>...</td>\n",
       "      <td>0.121300</td>\n",
       "      <td>0.42002</td>\n",
       "      <td>0.85300</td>\n",
       "      <td>0.000000</td>\n",
       "      <td>4.1486</td>\n",
       "      <td>3.2732</td>\n",
       "      <td>107.350</td>\n",
       "      <td>3.4000</td>\n",
       "      <td>60.9870</td>\n",
       "      <td>b'0'</td>\n",
       "    </tr>\n",
       "    <tr>\n",
       "      <th>2</th>\n",
       "      <td>0.248660</td>\n",
       "      <td>0.69592</td>\n",
       "      <td>0.26713</td>\n",
       "      <td>1.5548</td>\n",
       "      <td>-1.1523</td>\n",
       "      <td>0.00000</td>\n",
       "      <td>0.309060</td>\n",
       "      <td>0.43695</td>\n",
       "      <td>1.3090</td>\n",
       "      <td>0.30408</td>\n",
       "      <td>...</td>\n",
       "      <td>0.241140</td>\n",
       "      <td>0.81774</td>\n",
       "      <td>0.76599</td>\n",
       "      <td>0.694840</td>\n",
       "      <td>4.9909</td>\n",
       "      <td>3.9510</td>\n",
       "      <td>134.270</td>\n",
       "      <td>2.7185</td>\n",
       "      <td>5.2078</td>\n",
       "      <td>b'0'</td>\n",
       "    </tr>\n",
       "    <tr>\n",
       "      <th>3</th>\n",
       "      <td>0.081483</td>\n",
       "      <td>0.30734</td>\n",
       "      <td>0.45879</td>\n",
       "      <td>2.4928</td>\n",
       "      <td>51.9520</td>\n",
       "      <td>0.14988</td>\n",
       "      <td>0.092704</td>\n",
       "      <td>1.86610</td>\n",
       "      <td>1.0571</td>\n",
       "      <td>0.57353</td>\n",
       "      <td>...</td>\n",
       "      <td>0.054015</td>\n",
       "      <td>0.14207</td>\n",
       "      <td>0.94598</td>\n",
       "      <td>0.000000</td>\n",
       "      <td>4.5746</td>\n",
       "      <td>3.6147</td>\n",
       "      <td>86.435</td>\n",
       "      <td>4.2228</td>\n",
       "      <td>5.5497</td>\n",
       "      <td>b'0'</td>\n",
       "    </tr>\n",
       "    <tr>\n",
       "      <th>4</th>\n",
       "      <td>0.187320</td>\n",
       "      <td>0.61323</td>\n",
       "      <td>0.22960</td>\n",
       "      <td>1.4063</td>\n",
       "      <td>-7.3128</td>\n",
       "      <td>0.18732</td>\n",
       "      <td>0.187320</td>\n",
       "      <td>0.63070</td>\n",
       "      <td>1.1559</td>\n",
       "      <td>0.38677</td>\n",
       "      <td>...</td>\n",
       "      <td>0.134850</td>\n",
       "      <td>0.48431</td>\n",
       "      <td>0.86515</td>\n",
       "      <td>0.124440</td>\n",
       "      <td>6.3985</td>\n",
       "      <td>4.3158</td>\n",
       "      <td>127.210</td>\n",
       "      <td>2.8692</td>\n",
       "      <td>7.8980</td>\n",
       "      <td>b'0'</td>\n",
       "    </tr>\n",
       "  </tbody>\n",
       "</table>\n",
       "<p>5 rows × 65 columns</p>\n",
       "</div>"
      ],
      "text/plain": [
       "      Attr1    Attr2    Attr3   Attr4    Attr5    Attr6     Attr7    Attr8  \\\n",
       "0  0.200550  0.37951  0.39641  2.0472  32.3510  0.38825  0.249760  1.33050   \n",
       "1  0.209120  0.49988  0.47225  1.9447  14.7860  0.00000  0.258340  0.99601   \n",
       "2  0.248660  0.69592  0.26713  1.5548  -1.1523  0.00000  0.309060  0.43695   \n",
       "3  0.081483  0.30734  0.45879  2.4928  51.9520  0.14988  0.092704  1.86610   \n",
       "4  0.187320  0.61323  0.22960  1.4063  -7.3128  0.18732  0.187320  0.63070   \n",
       "\n",
       "    Attr9   Attr10  ...    Attr56   Attr57   Attr58    Attr59  Attr60  Attr61  \\\n",
       "0  1.1389  0.50494  ...  0.121960  0.39718  0.87804  0.001924  8.4160  5.1372   \n",
       "1  1.6996  0.49788  ...  0.121300  0.42002  0.85300  0.000000  4.1486  3.2732   \n",
       "2  1.3090  0.30408  ...  0.241140  0.81774  0.76599  0.694840  4.9909  3.9510   \n",
       "3  1.0571  0.57353  ...  0.054015  0.14207  0.94598  0.000000  4.5746  3.6147   \n",
       "4  1.1559  0.38677  ...  0.134850  0.48431  0.86515  0.124440  6.3985  4.3158   \n",
       "\n",
       "    Attr62  Attr63   Attr64  class  \n",
       "0   82.658  4.4158   7.4277   b'0'  \n",
       "1  107.350  3.4000  60.9870   b'0'  \n",
       "2  134.270  2.7185   5.2078   b'0'  \n",
       "3   86.435  4.2228   5.5497   b'0'  \n",
       "4  127.210  2.8692   7.8980   b'0'  \n",
       "\n",
       "[5 rows x 65 columns]"
      ]
     },
     "execution_count": 4,
     "metadata": {},
     "output_type": "execute_result"
    }
   ],
   "source": [
    "#checking arff files did get transformed dataframe\n",
    "df1.head()"
   ]
  },
  {
   "cell_type": "markdown",
   "id": "da434751-d9a8-4aa3-a20b-f99317a594c4",
   "metadata": {},
   "source": [
    "## Naming Columns"
   ]
  },
  {
   "cell_type": "code",
   "execution_count": 5,
   "id": "4686b725",
   "metadata": {
    "scrolled": true
   },
   "outputs": [
    {
     "data": {
      "text/plain": [
       "Index(['Attr1', 'Attr2', 'Attr3', 'Attr4', 'Attr5', 'Attr6', 'Attr7', 'Attr8',\n",
       "       'Attr9', 'Attr10', 'Attr11', 'Attr12', 'Attr13', 'Attr14', 'Attr15',\n",
       "       'Attr16', 'Attr17', 'Attr18', 'Attr19', 'Attr20', 'Attr21', 'Attr22',\n",
       "       'Attr23', 'Attr24', 'Attr25', 'Attr26', 'Attr27', 'Attr28', 'Attr29',\n",
       "       'Attr30', 'Attr31', 'Attr32', 'Attr33', 'Attr34', 'Attr35', 'Attr36',\n",
       "       'Attr37', 'Attr38', 'Attr39', 'Attr40', 'Attr41', 'Attr42', 'Attr43',\n",
       "       'Attr44', 'Attr45', 'Attr46', 'Attr47', 'Attr48', 'Attr49', 'Attr50',\n",
       "       'Attr51', 'Attr52', 'Attr53', 'Attr54', 'Attr55', 'Attr56', 'Attr57',\n",
       "       'Attr58', 'Attr59', 'Attr60', 'Attr61', 'Attr62', 'Attr63', 'Attr64',\n",
       "       'class'],\n",
       "      dtype='object')"
      ]
     },
     "execution_count": 5,
     "metadata": {},
     "output_type": "execute_result"
    }
   ],
   "source": [
    "df1.columns"
   ]
  },
  {
   "cell_type": "code",
   "execution_count": 132,
   "id": "6cba34f2",
   "metadata": {},
   "outputs": [],
   "source": [
    "def RenameCol(dataframe):\n",
    "    count = 1\n",
    "    cNames = []\n",
    "    cNamesString = []\n",
    "    \n",
    "    #creates a list of numbered ints from 1-end(65) of column.\n",
    "    for c in dataframe.columns:\n",
    "        cNames.append(count)\n",
    "        count = count + 1\n",
    "    \n",
    "    #changes the list above to strings (so can assign to dataframe.columns)\n",
    "    for item in cNames:\n",
    "        cNamesString.append(str(item))\n",
    "    \n",
    "    #Assigning columns to dataframe\n",
    "    dataframe.columns = cNamesString"
   ]
  },
  {
   "cell_type": "code",
   "execution_count": 133,
   "id": "c65e9ec0",
   "metadata": {},
   "outputs": [],
   "source": [
    "#Applying above function to rename columns 0-65\n",
    "\n",
    "RenameCol(df1)\n",
    "RenameCol(df2)\n",
    "RenameCol(df3)\n",
    "RenameCol(df4)\n",
    "RenameCol(df5)"
   ]
  },
  {
   "cell_type": "code",
   "execution_count": 8,
   "id": "fcac58b4",
   "metadata": {},
   "outputs": [
    {
     "data": {
      "text/plain": [
       "Index(['1', '2', '3', '4', '5', '6', '7', '8', '9', '10', '11', '12', '13',\n",
       "       '14', '15', '16', '17', '18', '19', '20', '21', '22', '23', '24', '25',\n",
       "       '26', '27', '28', '29', '30', '31', '32', '33', '34', '35', '36', '37',\n",
       "       '38', '39', '40', '41', '42', '43', '44', '45', '46', '47', '48', '49',\n",
       "       '50', '51', '52', '53', '54', '55', '56', '57', '58', '59', '60', '61',\n",
       "       '62', '63', '64', '65'],\n",
       "      dtype='object')"
      ]
     },
     "execution_count": 8,
     "metadata": {},
     "output_type": "execute_result"
    }
   ],
   "source": [
    "df1.columns"
   ]
  },
  {
   "cell_type": "code",
   "execution_count": 9,
   "id": "c8540c9d-8da6-4b11-b529-ea3e64ab6d5e",
   "metadata": {},
   "outputs": [
    {
     "data": {
      "text/html": [
       "<div>\n",
       "<style scoped>\n",
       "    .dataframe tbody tr th:only-of-type {\n",
       "        vertical-align: middle;\n",
       "    }\n",
       "\n",
       "    .dataframe tbody tr th {\n",
       "        vertical-align: top;\n",
       "    }\n",
       "\n",
       "    .dataframe thead th {\n",
       "        text-align: right;\n",
       "    }\n",
       "</style>\n",
       "<table border=\"1\" class=\"dataframe\">\n",
       "  <thead>\n",
       "    <tr style=\"text-align: right;\">\n",
       "      <th></th>\n",
       "      <th>1</th>\n",
       "      <th>2</th>\n",
       "      <th>3</th>\n",
       "      <th>4</th>\n",
       "      <th>5</th>\n",
       "      <th>6</th>\n",
       "      <th>7</th>\n",
       "      <th>8</th>\n",
       "      <th>9</th>\n",
       "      <th>10</th>\n",
       "      <th>...</th>\n",
       "      <th>56</th>\n",
       "      <th>57</th>\n",
       "      <th>58</th>\n",
       "      <th>59</th>\n",
       "      <th>60</th>\n",
       "      <th>61</th>\n",
       "      <th>62</th>\n",
       "      <th>63</th>\n",
       "      <th>64</th>\n",
       "      <th>65</th>\n",
       "    </tr>\n",
       "  </thead>\n",
       "  <tbody>\n",
       "    <tr>\n",
       "      <th>0</th>\n",
       "      <td>0.200550</td>\n",
       "      <td>0.37951</td>\n",
       "      <td>0.39641</td>\n",
       "      <td>2.04720</td>\n",
       "      <td>32.3510</td>\n",
       "      <td>0.388250</td>\n",
       "      <td>0.249760</td>\n",
       "      <td>1.330500</td>\n",
       "      <td>1.13890</td>\n",
       "      <td>0.504940</td>\n",
       "      <td>...</td>\n",
       "      <td>0.121960</td>\n",
       "      <td>0.397180</td>\n",
       "      <td>0.87804</td>\n",
       "      <td>0.001924</td>\n",
       "      <td>8.4160</td>\n",
       "      <td>5.1372</td>\n",
       "      <td>82.658</td>\n",
       "      <td>4.4158</td>\n",
       "      <td>7.42770</td>\n",
       "      <td>b'0'</td>\n",
       "    </tr>\n",
       "    <tr>\n",
       "      <th>1</th>\n",
       "      <td>0.209120</td>\n",
       "      <td>0.49988</td>\n",
       "      <td>0.47225</td>\n",
       "      <td>1.94470</td>\n",
       "      <td>14.7860</td>\n",
       "      <td>0.000000</td>\n",
       "      <td>0.258340</td>\n",
       "      <td>0.996010</td>\n",
       "      <td>1.69960</td>\n",
       "      <td>0.497880</td>\n",
       "      <td>...</td>\n",
       "      <td>0.121300</td>\n",
       "      <td>0.420020</td>\n",
       "      <td>0.85300</td>\n",
       "      <td>0.000000</td>\n",
       "      <td>4.1486</td>\n",
       "      <td>3.2732</td>\n",
       "      <td>107.350</td>\n",
       "      <td>3.4000</td>\n",
       "      <td>60.98700</td>\n",
       "      <td>b'0'</td>\n",
       "    </tr>\n",
       "    <tr>\n",
       "      <th>2</th>\n",
       "      <td>0.248660</td>\n",
       "      <td>0.69592</td>\n",
       "      <td>0.26713</td>\n",
       "      <td>1.55480</td>\n",
       "      <td>-1.1523</td>\n",
       "      <td>0.000000</td>\n",
       "      <td>0.309060</td>\n",
       "      <td>0.436950</td>\n",
       "      <td>1.30900</td>\n",
       "      <td>0.304080</td>\n",
       "      <td>...</td>\n",
       "      <td>0.241140</td>\n",
       "      <td>0.817740</td>\n",
       "      <td>0.76599</td>\n",
       "      <td>0.694840</td>\n",
       "      <td>4.9909</td>\n",
       "      <td>3.9510</td>\n",
       "      <td>134.270</td>\n",
       "      <td>2.7185</td>\n",
       "      <td>5.20780</td>\n",
       "      <td>b'0'</td>\n",
       "    </tr>\n",
       "    <tr>\n",
       "      <th>3</th>\n",
       "      <td>0.081483</td>\n",
       "      <td>0.30734</td>\n",
       "      <td>0.45879</td>\n",
       "      <td>2.49280</td>\n",
       "      <td>51.9520</td>\n",
       "      <td>0.149880</td>\n",
       "      <td>0.092704</td>\n",
       "      <td>1.866100</td>\n",
       "      <td>1.05710</td>\n",
       "      <td>0.573530</td>\n",
       "      <td>...</td>\n",
       "      <td>0.054015</td>\n",
       "      <td>0.142070</td>\n",
       "      <td>0.94598</td>\n",
       "      <td>0.000000</td>\n",
       "      <td>4.5746</td>\n",
       "      <td>3.6147</td>\n",
       "      <td>86.435</td>\n",
       "      <td>4.2228</td>\n",
       "      <td>5.54970</td>\n",
       "      <td>b'0'</td>\n",
       "    </tr>\n",
       "    <tr>\n",
       "      <th>4</th>\n",
       "      <td>0.187320</td>\n",
       "      <td>0.61323</td>\n",
       "      <td>0.22960</td>\n",
       "      <td>1.40630</td>\n",
       "      <td>-7.3128</td>\n",
       "      <td>0.187320</td>\n",
       "      <td>0.187320</td>\n",
       "      <td>0.630700</td>\n",
       "      <td>1.15590</td>\n",
       "      <td>0.386770</td>\n",
       "      <td>...</td>\n",
       "      <td>0.134850</td>\n",
       "      <td>0.484310</td>\n",
       "      <td>0.86515</td>\n",
       "      <td>0.124440</td>\n",
       "      <td>6.3985</td>\n",
       "      <td>4.3158</td>\n",
       "      <td>127.210</td>\n",
       "      <td>2.8692</td>\n",
       "      <td>7.89800</td>\n",
       "      <td>b'0'</td>\n",
       "    </tr>\n",
       "    <tr>\n",
       "      <th>...</th>\n",
       "      <td>...</td>\n",
       "      <td>...</td>\n",
       "      <td>...</td>\n",
       "      <td>...</td>\n",
       "      <td>...</td>\n",
       "      <td>...</td>\n",
       "      <td>...</td>\n",
       "      <td>...</td>\n",
       "      <td>...</td>\n",
       "      <td>...</td>\n",
       "      <td>...</td>\n",
       "      <td>...</td>\n",
       "      <td>...</td>\n",
       "      <td>...</td>\n",
       "      <td>...</td>\n",
       "      <td>...</td>\n",
       "      <td>...</td>\n",
       "      <td>...</td>\n",
       "      <td>...</td>\n",
       "      <td>...</td>\n",
       "      <td>...</td>\n",
       "    </tr>\n",
       "    <tr>\n",
       "      <th>7022</th>\n",
       "      <td>0.018371</td>\n",
       "      <td>0.47410</td>\n",
       "      <td>-0.13619</td>\n",
       "      <td>0.60839</td>\n",
       "      <td>-18.4490</td>\n",
       "      <td>0.018371</td>\n",
       "      <td>0.018371</td>\n",
       "      <td>0.972030</td>\n",
       "      <td>1.01210</td>\n",
       "      <td>0.460840</td>\n",
       "      <td>...</td>\n",
       "      <td>0.011909</td>\n",
       "      <td>0.039866</td>\n",
       "      <td>0.98809</td>\n",
       "      <td>0.274140</td>\n",
       "      <td>73.5050</td>\n",
       "      <td>79.2370</td>\n",
       "      <td>31.268</td>\n",
       "      <td>11.6730</td>\n",
       "      <td>5.14890</td>\n",
       "      <td>b'1'</td>\n",
       "    </tr>\n",
       "    <tr>\n",
       "      <th>7023</th>\n",
       "      <td>-0.013359</td>\n",
       "      <td>0.58354</td>\n",
       "      <td>-0.02265</td>\n",
       "      <td>0.92896</td>\n",
       "      <td>-42.2320</td>\n",
       "      <td>-0.013359</td>\n",
       "      <td>-0.015036</td>\n",
       "      <td>0.562890</td>\n",
       "      <td>0.98904</td>\n",
       "      <td>0.328470</td>\n",
       "      <td>...</td>\n",
       "      <td>-0.011082</td>\n",
       "      <td>-0.040671</td>\n",
       "      <td>1.01110</td>\n",
       "      <td>0.805920</td>\n",
       "      <td>10.5990</td>\n",
       "      <td>7.1740</td>\n",
       "      <td>94.092</td>\n",
       "      <td>3.8792</td>\n",
       "      <td>1.75720</td>\n",
       "      <td>b'1'</td>\n",
       "    </tr>\n",
       "    <tr>\n",
       "      <th>7024</th>\n",
       "      <td>0.006338</td>\n",
       "      <td>0.50276</td>\n",
       "      <td>0.43923</td>\n",
       "      <td>1.87360</td>\n",
       "      <td>9.7417</td>\n",
       "      <td>0.006338</td>\n",
       "      <td>0.012022</td>\n",
       "      <td>0.983560</td>\n",
       "      <td>1.00830</td>\n",
       "      <td>0.494490</td>\n",
       "      <td>...</td>\n",
       "      <td>0.008258</td>\n",
       "      <td>0.012817</td>\n",
       "      <td>0.99174</td>\n",
       "      <td>0.000000</td>\n",
       "      <td>10.4700</td>\n",
       "      <td>6.0759</td>\n",
       "      <td>51.019</td>\n",
       "      <td>7.1542</td>\n",
       "      <td>62.00100</td>\n",
       "      <td>b'1'</td>\n",
       "    </tr>\n",
       "    <tr>\n",
       "      <th>7025</th>\n",
       "      <td>-0.041643</td>\n",
       "      <td>0.84810</td>\n",
       "      <td>-0.12852</td>\n",
       "      <td>0.57485</td>\n",
       "      <td>-121.9200</td>\n",
       "      <td>0.000000</td>\n",
       "      <td>-0.036795</td>\n",
       "      <td>0.179010</td>\n",
       "      <td>0.42138</td>\n",
       "      <td>0.151820</td>\n",
       "      <td>...</td>\n",
       "      <td>-0.232720</td>\n",
       "      <td>-0.274290</td>\n",
       "      <td>0.98788</td>\n",
       "      <td>3.593100</td>\n",
       "      <td>39.7030</td>\n",
       "      <td>3.1420</td>\n",
       "      <td>261.850</td>\n",
       "      <td>1.3939</td>\n",
       "      <td>0.51005</td>\n",
       "      <td>b'1'</td>\n",
       "    </tr>\n",
       "    <tr>\n",
       "      <th>7026</th>\n",
       "      <td>0.014946</td>\n",
       "      <td>0.94648</td>\n",
       "      <td>0.03211</td>\n",
       "      <td>1.03630</td>\n",
       "      <td>-20.5810</td>\n",
       "      <td>0.000000</td>\n",
       "      <td>0.015260</td>\n",
       "      <td>0.056357</td>\n",
       "      <td>2.96940</td>\n",
       "      <td>0.053341</td>\n",
       "      <td>...</td>\n",
       "      <td>0.015705</td>\n",
       "      <td>0.280210</td>\n",
       "      <td>0.97443</td>\n",
       "      <td>1.179200</td>\n",
       "      <td>15.0360</td>\n",
       "      <td>4.1741</td>\n",
       "      <td>108.640</td>\n",
       "      <td>3.3599</td>\n",
       "      <td>35.11800</td>\n",
       "      <td>b'1'</td>\n",
       "    </tr>\n",
       "  </tbody>\n",
       "</table>\n",
       "<p>7027 rows × 65 columns</p>\n",
       "</div>"
      ],
      "text/plain": [
       "             1        2        3        4         5         6         7  \\\n",
       "0     0.200550  0.37951  0.39641  2.04720   32.3510  0.388250  0.249760   \n",
       "1     0.209120  0.49988  0.47225  1.94470   14.7860  0.000000  0.258340   \n",
       "2     0.248660  0.69592  0.26713  1.55480   -1.1523  0.000000  0.309060   \n",
       "3     0.081483  0.30734  0.45879  2.49280   51.9520  0.149880  0.092704   \n",
       "4     0.187320  0.61323  0.22960  1.40630   -7.3128  0.187320  0.187320   \n",
       "...        ...      ...      ...      ...       ...       ...       ...   \n",
       "7022  0.018371  0.47410 -0.13619  0.60839  -18.4490  0.018371  0.018371   \n",
       "7023 -0.013359  0.58354 -0.02265  0.92896  -42.2320 -0.013359 -0.015036   \n",
       "7024  0.006338  0.50276  0.43923  1.87360    9.7417  0.006338  0.012022   \n",
       "7025 -0.041643  0.84810 -0.12852  0.57485 -121.9200  0.000000 -0.036795   \n",
       "7026  0.014946  0.94648  0.03211  1.03630  -20.5810  0.000000  0.015260   \n",
       "\n",
       "             8        9        10  ...        56        57       58        59  \\\n",
       "0     1.330500  1.13890  0.504940  ...  0.121960  0.397180  0.87804  0.001924   \n",
       "1     0.996010  1.69960  0.497880  ...  0.121300  0.420020  0.85300  0.000000   \n",
       "2     0.436950  1.30900  0.304080  ...  0.241140  0.817740  0.76599  0.694840   \n",
       "3     1.866100  1.05710  0.573530  ...  0.054015  0.142070  0.94598  0.000000   \n",
       "4     0.630700  1.15590  0.386770  ...  0.134850  0.484310  0.86515  0.124440   \n",
       "...        ...      ...       ...  ...       ...       ...      ...       ...   \n",
       "7022  0.972030  1.01210  0.460840  ...  0.011909  0.039866  0.98809  0.274140   \n",
       "7023  0.562890  0.98904  0.328470  ... -0.011082 -0.040671  1.01110  0.805920   \n",
       "7024  0.983560  1.00830  0.494490  ...  0.008258  0.012817  0.99174  0.000000   \n",
       "7025  0.179010  0.42138  0.151820  ... -0.232720 -0.274290  0.98788  3.593100   \n",
       "7026  0.056357  2.96940  0.053341  ...  0.015705  0.280210  0.97443  1.179200   \n",
       "\n",
       "           60       61       62       63        64    65  \n",
       "0      8.4160   5.1372   82.658   4.4158   7.42770  b'0'  \n",
       "1      4.1486   3.2732  107.350   3.4000  60.98700  b'0'  \n",
       "2      4.9909   3.9510  134.270   2.7185   5.20780  b'0'  \n",
       "3      4.5746   3.6147   86.435   4.2228   5.54970  b'0'  \n",
       "4      6.3985   4.3158  127.210   2.8692   7.89800  b'0'  \n",
       "...       ...      ...      ...      ...       ...   ...  \n",
       "7022  73.5050  79.2370   31.268  11.6730   5.14890  b'1'  \n",
       "7023  10.5990   7.1740   94.092   3.8792   1.75720  b'1'  \n",
       "7024  10.4700   6.0759   51.019   7.1542  62.00100  b'1'  \n",
       "7025  39.7030   3.1420  261.850   1.3939   0.51005  b'1'  \n",
       "7026  15.0360   4.1741  108.640   3.3599  35.11800  b'1'  \n",
       "\n",
       "[7027 rows x 65 columns]"
      ]
     },
     "execution_count": 9,
     "metadata": {},
     "output_type": "execute_result"
    }
   ],
   "source": [
    "#sampling dataframe to see syntax of missing data for best method of removal\n",
    "df1"
   ]
  },
  {
   "cell_type": "markdown",
   "id": "74e93970",
   "metadata": {},
   "source": [
    "## Replacing na's with mean of column"
   ]
  },
  {
   "cell_type": "code",
   "execution_count": 10,
   "id": "14006fe2",
   "metadata": {},
   "outputs": [
    {
     "name": "stdout",
     "output_type": "stream",
     "text": [
      "1        3\n",
      "2        3\n",
      "3        3\n",
      "4       30\n",
      "5        8\n",
      "6        3\n",
      "7        3\n",
      "8       25\n",
      "9        1\n",
      "10       3\n",
      "11      39\n",
      "12      30\n",
      "13       0\n",
      "14       3\n",
      "15       2\n",
      "16      25\n",
      "17      25\n",
      "18       3\n",
      "19       0\n",
      "20       0\n",
      "21    1622\n",
      "22       3\n",
      "23       0\n",
      "24     124\n",
      "25       3\n",
      "26      25\n",
      "27     311\n",
      "28      34\n",
      "29       3\n",
      "30       0\n",
      "31       0\n",
      "32      38\n",
      "33      30\n",
      "34      25\n",
      "35       3\n",
      "36       3\n",
      "37    2740\n",
      "38       3\n",
      "39       0\n",
      "40      30\n",
      "41      84\n",
      "42       0\n",
      "43       0\n",
      "44       0\n",
      "45     134\n",
      "46      31\n",
      "47      29\n",
      "48       3\n",
      "49       0\n",
      "50      25\n",
      "51       3\n",
      "52      29\n",
      "53      34\n",
      "54      34\n",
      "55       0\n",
      "56       0\n",
      "57       1\n",
      "58       0\n",
      "59       1\n",
      "60     135\n",
      "61      22\n",
      "62       0\n",
      "63      30\n",
      "64      34\n",
      "65       0\n",
      "dtype: int64\n"
     ]
    }
   ],
   "source": [
    "#shows all the columns with na's \n",
    "pd.set_option('display.max_rows', None)\n",
    "#change number of df1 for different dataframes (1-5)\n",
    "print(df1.isna().sum())\n",
    "pd.set_option('display.max_rows', 10)"
   ]
  },
  {
   "cell_type": "code",
   "execution_count": 11,
   "id": "3cae39ab-b060-49f7-82de-b65aa1131fd0",
   "metadata": {},
   "outputs": [],
   "source": [
    "# function of mean to each column\n",
    "def replace_na(df): \n",
    "    df[df.columns] = df[df.columns].fillna(value=df[df.columns].mean())\n",
    "    return df\n"
   ]
  },
  {
   "cell_type": "code",
   "execution_count": 12,
   "id": "765fee67",
   "metadata": {},
   "outputs": [
    {
     "data": {
      "text/html": [
       "<div>\n",
       "<style scoped>\n",
       "    .dataframe tbody tr th:only-of-type {\n",
       "        vertical-align: middle;\n",
       "    }\n",
       "\n",
       "    .dataframe tbody tr th {\n",
       "        vertical-align: top;\n",
       "    }\n",
       "\n",
       "    .dataframe thead th {\n",
       "        text-align: right;\n",
       "    }\n",
       "</style>\n",
       "<table border=\"1\" class=\"dataframe\">\n",
       "  <thead>\n",
       "    <tr style=\"text-align: right;\">\n",
       "      <th></th>\n",
       "      <th>1</th>\n",
       "      <th>2</th>\n",
       "      <th>3</th>\n",
       "      <th>4</th>\n",
       "      <th>5</th>\n",
       "      <th>6</th>\n",
       "      <th>7</th>\n",
       "      <th>8</th>\n",
       "      <th>9</th>\n",
       "      <th>10</th>\n",
       "      <th>...</th>\n",
       "      <th>56</th>\n",
       "      <th>57</th>\n",
       "      <th>58</th>\n",
       "      <th>59</th>\n",
       "      <th>60</th>\n",
       "      <th>61</th>\n",
       "      <th>62</th>\n",
       "      <th>63</th>\n",
       "      <th>64</th>\n",
       "      <th>65</th>\n",
       "    </tr>\n",
       "  </thead>\n",
       "  <tbody>\n",
       "    <tr>\n",
       "      <th>0</th>\n",
       "      <td>0.088238</td>\n",
       "      <td>0.55472</td>\n",
       "      <td>0.011340</td>\n",
       "      <td>1.02050</td>\n",
       "      <td>-66.5200</td>\n",
       "      <td>0.342040</td>\n",
       "      <td>0.109490</td>\n",
       "      <td>0.57752</td>\n",
       "      <td>1.08810</td>\n",
       "      <td>0.320360</td>\n",
       "      <td>...</td>\n",
       "      <td>0.080955</td>\n",
       "      <td>0.275430</td>\n",
       "      <td>0.91905</td>\n",
       "      <td>0.002024</td>\n",
       "      <td>7.2711</td>\n",
       "      <td>4.7343</td>\n",
       "      <td>142.760</td>\n",
       "      <td>2.5568</td>\n",
       "      <td>3.25970</td>\n",
       "      <td>b'0'</td>\n",
       "    </tr>\n",
       "    <tr>\n",
       "      <th>1</th>\n",
       "      <td>-0.006202</td>\n",
       "      <td>0.48465</td>\n",
       "      <td>0.232980</td>\n",
       "      <td>1.59980</td>\n",
       "      <td>6.1825</td>\n",
       "      <td>0.000000</td>\n",
       "      <td>-0.006202</td>\n",
       "      <td>1.06340</td>\n",
       "      <td>1.27570</td>\n",
       "      <td>0.515350</td>\n",
       "      <td>...</td>\n",
       "      <td>-0.028591</td>\n",
       "      <td>-0.012035</td>\n",
       "      <td>1.00470</td>\n",
       "      <td>0.152220</td>\n",
       "      <td>6.0911</td>\n",
       "      <td>3.2749</td>\n",
       "      <td>111.140</td>\n",
       "      <td>3.2841</td>\n",
       "      <td>3.37000</td>\n",
       "      <td>b'0'</td>\n",
       "    </tr>\n",
       "    <tr>\n",
       "      <th>2</th>\n",
       "      <td>0.130240</td>\n",
       "      <td>0.22142</td>\n",
       "      <td>0.577510</td>\n",
       "      <td>3.60820</td>\n",
       "      <td>120.0400</td>\n",
       "      <td>0.187640</td>\n",
       "      <td>0.162120</td>\n",
       "      <td>3.05900</td>\n",
       "      <td>1.14150</td>\n",
       "      <td>0.677310</td>\n",
       "      <td>...</td>\n",
       "      <td>0.123960</td>\n",
       "      <td>0.192290</td>\n",
       "      <td>0.87604</td>\n",
       "      <td>0.000000</td>\n",
       "      <td>8.7934</td>\n",
       "      <td>2.9870</td>\n",
       "      <td>71.531</td>\n",
       "      <td>5.1027</td>\n",
       "      <td>5.61880</td>\n",
       "      <td>b'0'</td>\n",
       "    </tr>\n",
       "    <tr>\n",
       "      <th>3</th>\n",
       "      <td>-0.089951</td>\n",
       "      <td>0.88700</td>\n",
       "      <td>0.269270</td>\n",
       "      <td>1.52220</td>\n",
       "      <td>-55.9920</td>\n",
       "      <td>-0.073957</td>\n",
       "      <td>-0.089951</td>\n",
       "      <td>0.12740</td>\n",
       "      <td>1.27540</td>\n",
       "      <td>0.113000</td>\n",
       "      <td>...</td>\n",
       "      <td>0.418840</td>\n",
       "      <td>-0.796020</td>\n",
       "      <td>0.59074</td>\n",
       "      <td>2.878700</td>\n",
       "      <td>7.6524</td>\n",
       "      <td>3.3302</td>\n",
       "      <td>147.560</td>\n",
       "      <td>2.4735</td>\n",
       "      <td>5.92990</td>\n",
       "      <td>b'0'</td>\n",
       "    </tr>\n",
       "    <tr>\n",
       "      <th>4</th>\n",
       "      <td>0.048179</td>\n",
       "      <td>0.55041</td>\n",
       "      <td>0.107650</td>\n",
       "      <td>1.24370</td>\n",
       "      <td>-22.9590</td>\n",
       "      <td>0.000000</td>\n",
       "      <td>0.059280</td>\n",
       "      <td>0.81682</td>\n",
       "      <td>1.51500</td>\n",
       "      <td>0.449590</td>\n",
       "      <td>...</td>\n",
       "      <td>0.240400</td>\n",
       "      <td>0.107160</td>\n",
       "      <td>0.77048</td>\n",
       "      <td>0.139380</td>\n",
       "      <td>10.1180</td>\n",
       "      <td>4.0950</td>\n",
       "      <td>106.430</td>\n",
       "      <td>3.4294</td>\n",
       "      <td>3.36220</td>\n",
       "      <td>b'0'</td>\n",
       "    </tr>\n",
       "    <tr>\n",
       "      <th>...</th>\n",
       "      <td>...</td>\n",
       "      <td>...</td>\n",
       "      <td>...</td>\n",
       "      <td>...</td>\n",
       "      <td>...</td>\n",
       "      <td>...</td>\n",
       "      <td>...</td>\n",
       "      <td>...</td>\n",
       "      <td>...</td>\n",
       "      <td>...</td>\n",
       "      <td>...</td>\n",
       "      <td>...</td>\n",
       "      <td>...</td>\n",
       "      <td>...</td>\n",
       "      <td>...</td>\n",
       "      <td>...</td>\n",
       "      <td>...</td>\n",
       "      <td>...</td>\n",
       "      <td>...</td>\n",
       "      <td>...</td>\n",
       "      <td>...</td>\n",
       "    </tr>\n",
       "    <tr>\n",
       "      <th>5905</th>\n",
       "      <td>0.012898</td>\n",
       "      <td>0.70621</td>\n",
       "      <td>0.038857</td>\n",
       "      <td>1.17220</td>\n",
       "      <td>-18.9070</td>\n",
       "      <td>0.000000</td>\n",
       "      <td>0.013981</td>\n",
       "      <td>0.41600</td>\n",
       "      <td>1.67680</td>\n",
       "      <td>0.293790</td>\n",
       "      <td>...</td>\n",
       "      <td>0.020169</td>\n",
       "      <td>0.043904</td>\n",
       "      <td>1.01220</td>\n",
       "      <td>1.259400</td>\n",
       "      <td>13.4720</td>\n",
       "      <td>12.4320</td>\n",
       "      <td>49.117</td>\n",
       "      <td>7.4313</td>\n",
       "      <td>2.27990</td>\n",
       "      <td>b'1'</td>\n",
       "    </tr>\n",
       "    <tr>\n",
       "      <th>5906</th>\n",
       "      <td>-0.578050</td>\n",
       "      <td>0.96702</td>\n",
       "      <td>-0.800850</td>\n",
       "      <td>0.16576</td>\n",
       "      <td>-67.3650</td>\n",
       "      <td>-0.578050</td>\n",
       "      <td>-0.578050</td>\n",
       "      <td>-0.40334</td>\n",
       "      <td>0.93979</td>\n",
       "      <td>-0.390040</td>\n",
       "      <td>...</td>\n",
       "      <td>-0.064073</td>\n",
       "      <td>1.482000</td>\n",
       "      <td>1.06410</td>\n",
       "      <td>-0.018084</td>\n",
       "      <td>110.7200</td>\n",
       "      <td>44.7590</td>\n",
       "      <td>81.220</td>\n",
       "      <td>4.4940</td>\n",
       "      <td>5.13050</td>\n",
       "      <td>b'1'</td>\n",
       "    </tr>\n",
       "    <tr>\n",
       "      <th>5907</th>\n",
       "      <td>-0.179050</td>\n",
       "      <td>1.25530</td>\n",
       "      <td>-0.275990</td>\n",
       "      <td>0.74554</td>\n",
       "      <td>-120.4400</td>\n",
       "      <td>-0.179050</td>\n",
       "      <td>-0.154930</td>\n",
       "      <td>-0.26018</td>\n",
       "      <td>1.17490</td>\n",
       "      <td>-0.326590</td>\n",
       "      <td>...</td>\n",
       "      <td>0.148880</td>\n",
       "      <td>0.548240</td>\n",
       "      <td>0.85112</td>\n",
       "      <td>-0.522430</td>\n",
       "      <td>9.8526</td>\n",
       "      <td>3.4892</td>\n",
       "      <td>207.870</td>\n",
       "      <td>1.7559</td>\n",
       "      <td>9.95270</td>\n",
       "      <td>b'1'</td>\n",
       "    </tr>\n",
       "    <tr>\n",
       "      <th>5908</th>\n",
       "      <td>-0.108860</td>\n",
       "      <td>0.74394</td>\n",
       "      <td>0.015449</td>\n",
       "      <td>1.08780</td>\n",
       "      <td>-17.0030</td>\n",
       "      <td>-0.108860</td>\n",
       "      <td>-0.109180</td>\n",
       "      <td>0.12531</td>\n",
       "      <td>0.84516</td>\n",
       "      <td>0.093224</td>\n",
       "      <td>...</td>\n",
       "      <td>-0.183200</td>\n",
       "      <td>-1.167700</td>\n",
       "      <td>1.18320</td>\n",
       "      <td>6.092400</td>\n",
       "      <td>13.8860</td>\n",
       "      <td>6.0769</td>\n",
       "      <td>83.122</td>\n",
       "      <td>4.3911</td>\n",
       "      <td>0.95575</td>\n",
       "      <td>b'1'</td>\n",
       "    </tr>\n",
       "    <tr>\n",
       "      <th>5909</th>\n",
       "      <td>-0.105370</td>\n",
       "      <td>0.53629</td>\n",
       "      <td>-0.045578</td>\n",
       "      <td>0.91478</td>\n",
       "      <td>-56.0680</td>\n",
       "      <td>-0.105370</td>\n",
       "      <td>-0.109940</td>\n",
       "      <td>0.86460</td>\n",
       "      <td>0.95040</td>\n",
       "      <td>0.463670</td>\n",
       "      <td>...</td>\n",
       "      <td>-0.052186</td>\n",
       "      <td>-0.227250</td>\n",
       "      <td>1.05220</td>\n",
       "      <td>0.003196</td>\n",
       "      <td>7.7332</td>\n",
       "      <td>4.7174</td>\n",
       "      <td>136.850</td>\n",
       "      <td>2.6672</td>\n",
       "      <td>2.79270</td>\n",
       "      <td>b'1'</td>\n",
       "    </tr>\n",
       "  </tbody>\n",
       "</table>\n",
       "<p>5910 rows × 65 columns</p>\n",
       "</div>"
      ],
      "text/plain": [
       "             1        2         3        4         5         6         7  \\\n",
       "0     0.088238  0.55472  0.011340  1.02050  -66.5200  0.342040  0.109490   \n",
       "1    -0.006202  0.48465  0.232980  1.59980    6.1825  0.000000 -0.006202   \n",
       "2     0.130240  0.22142  0.577510  3.60820  120.0400  0.187640  0.162120   \n",
       "3    -0.089951  0.88700  0.269270  1.52220  -55.9920 -0.073957 -0.089951   \n",
       "4     0.048179  0.55041  0.107650  1.24370  -22.9590  0.000000  0.059280   \n",
       "...        ...      ...       ...      ...       ...       ...       ...   \n",
       "5905  0.012898  0.70621  0.038857  1.17220  -18.9070  0.000000  0.013981   \n",
       "5906 -0.578050  0.96702 -0.800850  0.16576  -67.3650 -0.578050 -0.578050   \n",
       "5907 -0.179050  1.25530 -0.275990  0.74554 -120.4400 -0.179050 -0.154930   \n",
       "5908 -0.108860  0.74394  0.015449  1.08780  -17.0030 -0.108860 -0.109180   \n",
       "5909 -0.105370  0.53629 -0.045578  0.91478  -56.0680 -0.105370 -0.109940   \n",
       "\n",
       "            8        9        10  ...        56        57       58        59  \\\n",
       "0     0.57752  1.08810  0.320360  ...  0.080955  0.275430  0.91905  0.002024   \n",
       "1     1.06340  1.27570  0.515350  ... -0.028591 -0.012035  1.00470  0.152220   \n",
       "2     3.05900  1.14150  0.677310  ...  0.123960  0.192290  0.87604  0.000000   \n",
       "3     0.12740  1.27540  0.113000  ...  0.418840 -0.796020  0.59074  2.878700   \n",
       "4     0.81682  1.51500  0.449590  ...  0.240400  0.107160  0.77048  0.139380   \n",
       "...       ...      ...       ...  ...       ...       ...      ...       ...   \n",
       "5905  0.41600  1.67680  0.293790  ...  0.020169  0.043904  1.01220  1.259400   \n",
       "5906 -0.40334  0.93979 -0.390040  ... -0.064073  1.482000  1.06410 -0.018084   \n",
       "5907 -0.26018  1.17490 -0.326590  ...  0.148880  0.548240  0.85112 -0.522430   \n",
       "5908  0.12531  0.84516  0.093224  ... -0.183200 -1.167700  1.18320  6.092400   \n",
       "5909  0.86460  0.95040  0.463670  ... -0.052186 -0.227250  1.05220  0.003196   \n",
       "\n",
       "            60       61       62      63       64    65  \n",
       "0       7.2711   4.7343  142.760  2.5568  3.25970  b'0'  \n",
       "1       6.0911   3.2749  111.140  3.2841  3.37000  b'0'  \n",
       "2       8.7934   2.9870   71.531  5.1027  5.61880  b'0'  \n",
       "3       7.6524   3.3302  147.560  2.4735  5.92990  b'0'  \n",
       "4      10.1180   4.0950  106.430  3.4294  3.36220  b'0'  \n",
       "...        ...      ...      ...     ...      ...   ...  \n",
       "5905   13.4720  12.4320   49.117  7.4313  2.27990  b'1'  \n",
       "5906  110.7200  44.7590   81.220  4.4940  5.13050  b'1'  \n",
       "5907    9.8526   3.4892  207.870  1.7559  9.95270  b'1'  \n",
       "5908   13.8860   6.0769   83.122  4.3911  0.95575  b'1'  \n",
       "5909    7.7332   4.7174  136.850  2.6672  2.79270  b'1'  \n",
       "\n",
       "[5910 rows x 65 columns]"
      ]
     },
     "execution_count": 12,
     "metadata": {},
     "output_type": "execute_result"
    }
   ],
   "source": [
    "replace_na(df1)\n",
    "replace_na(df2)\n",
    "replace_na(df3)\n",
    "replace_na(df4)\n",
    "replace_na(df5)"
   ]
  },
  {
   "cell_type": "code",
   "execution_count": 13,
   "id": "a6c4c4f7",
   "metadata": {
    "scrolled": false
   },
   "outputs": [
    {
     "name": "stdout",
     "output_type": "stream",
     "text": [
      "1     0\n",
      "2     0\n",
      "3     0\n",
      "4     0\n",
      "5     0\n",
      "6     0\n",
      "7     0\n",
      "8     0\n",
      "9     0\n",
      "10    0\n",
      "11    0\n",
      "12    0\n",
      "13    0\n",
      "14    0\n",
      "15    0\n",
      "16    0\n",
      "17    0\n",
      "18    0\n",
      "19    0\n",
      "20    0\n",
      "21    0\n",
      "22    0\n",
      "23    0\n",
      "24    0\n",
      "25    0\n",
      "26    0\n",
      "27    0\n",
      "28    0\n",
      "29    0\n",
      "30    0\n",
      "31    0\n",
      "32    0\n",
      "33    0\n",
      "34    0\n",
      "35    0\n",
      "36    0\n",
      "37    0\n",
      "38    0\n",
      "39    0\n",
      "40    0\n",
      "41    0\n",
      "42    0\n",
      "43    0\n",
      "44    0\n",
      "45    0\n",
      "46    0\n",
      "47    0\n",
      "48    0\n",
      "49    0\n",
      "50    0\n",
      "51    0\n",
      "52    0\n",
      "53    0\n",
      "54    0\n",
      "55    0\n",
      "56    0\n",
      "57    0\n",
      "58    0\n",
      "59    0\n",
      "60    0\n",
      "61    0\n",
      "62    0\n",
      "63    0\n",
      "64    0\n",
      "65    0\n",
      "dtype: int64\n"
     ]
    }
   ],
   "source": [
    "#check to make sure no more na's\n",
    "pd.set_option('display.max_rows', None)\n",
    "print(df1.isna().sum())\n",
    "pd.set_option('display.max_rows', 10)"
   ]
  },
  {
   "cell_type": "markdown",
   "id": "603ea1d3",
   "metadata": {},
   "source": [
    "#### Replacing Bankrupt column with 0's and 1's"
   ]
  },
  {
   "cell_type": "code",
   "execution_count": 14,
   "id": "bf36cd08",
   "metadata": {},
   "outputs": [],
   "source": [
    "def renamingBankrupt(dataframe):\n",
    "    \n",
    "    dataframe['65'].astype('string')\n",
    "    \n",
    "    dataframe['65'] = dataframe['65'].replace(b'0', 0)\n",
    "    dataframe['65'] = dataframe['65'].replace(b'1', 1)\n",
    "    \n",
    "    dataframe['65'].groupby(df1['65']).count()"
   ]
  },
  {
   "cell_type": "code",
   "execution_count": 15,
   "id": "2ae7d3ff",
   "metadata": {},
   "outputs": [],
   "source": [
    "renamingBankrupt(df1)\n",
    "renamingBankrupt(df2)\n",
    "renamingBankrupt(df3)\n",
    "renamingBankrupt(df4)\n",
    "renamingBankrupt(df5)"
   ]
  },
  {
   "cell_type": "code",
   "execution_count": 16,
   "id": "936b5224",
   "metadata": {},
   "outputs": [
    {
     "data": {
      "text/plain": [
       "65\n",
       "0    6756\n",
       "1     271\n",
       "Name: 65, dtype: int64"
      ]
     },
     "execution_count": 16,
     "metadata": {},
     "output_type": "execute_result"
    }
   ],
   "source": [
    "df1['65'].groupby(df1['65']).count()"
   ]
  },
  {
   "cell_type": "code",
   "execution_count": 17,
   "id": "f990014f",
   "metadata": {},
   "outputs": [
    {
     "data": {
      "text/plain": [
       "65\n",
       "0    9773\n",
       "1     400\n",
       "Name: 65, dtype: int64"
      ]
     },
     "execution_count": 17,
     "metadata": {},
     "output_type": "execute_result"
    }
   ],
   "source": [
    "df2['65'].groupby(df2['65']).count()"
   ]
  },
  {
   "cell_type": "code",
   "execution_count": 18,
   "id": "8a762e0a",
   "metadata": {},
   "outputs": [
    {
     "data": {
      "text/plain": [
       "65\n",
       "0    10008\n",
       "1      495\n",
       "Name: 65, dtype: int64"
      ]
     },
     "execution_count": 18,
     "metadata": {},
     "output_type": "execute_result"
    }
   ],
   "source": [
    "df3['65'].groupby(df3['65']).count()"
   ]
  },
  {
   "cell_type": "code",
   "execution_count": 19,
   "id": "5bea59b8",
   "metadata": {},
   "outputs": [
    {
     "data": {
      "text/plain": [
       "65\n",
       "0    9277\n",
       "1     515\n",
       "Name: 65, dtype: int64"
      ]
     },
     "execution_count": 19,
     "metadata": {},
     "output_type": "execute_result"
    }
   ],
   "source": [
    "df4['65'].groupby(df4['65']).count()"
   ]
  },
  {
   "cell_type": "code",
   "execution_count": 20,
   "id": "ed00b23b",
   "metadata": {},
   "outputs": [
    {
     "data": {
      "text/plain": [
       "65\n",
       "0    5500\n",
       "1     410\n",
       "Name: 65, dtype: int64"
      ]
     },
     "execution_count": 20,
     "metadata": {},
     "output_type": "execute_result"
    }
   ],
   "source": [
    "df5['65'].groupby(df5['65']).count()"
   ]
  },
  {
   "cell_type": "markdown",
   "id": "98541df4",
   "metadata": {},
   "source": [
    "## Saving dataframes as csv's"
   ]
  },
  {
   "cell_type": "code",
   "execution_count": 3,
   "id": "673b6fbb",
   "metadata": {},
   "outputs": [
    {
     "ename": "NameError",
     "evalue": "name 'df1' is not defined",
     "output_type": "error",
     "traceback": [
      "\u001b[1;31m---------------------------------------------------------------------------\u001b[0m",
      "\u001b[1;31mNameError\u001b[0m                                 Traceback (most recent call last)",
      "\u001b[1;32m<ipython-input-3-6d5fd57a7e19>\u001b[0m in \u001b[0;36m<module>\u001b[1;34m\u001b[0m\n\u001b[1;32m----> 1\u001b[1;33m \u001b[0mdf1\u001b[0m \u001b[1;33m=\u001b[0m \u001b[0mdf1\u001b[0m\u001b[1;33m.\u001b[0m\u001b[0mto_csv\u001b[0m\u001b[1;33m(\u001b[0m\u001b[1;34m\"df1\"\u001b[0m\u001b[1;33m,\u001b[0m\u001b[0mindex\u001b[0m \u001b[1;33m=\u001b[0m \u001b[1;32mFalse\u001b[0m\u001b[1;33m)\u001b[0m\u001b[1;33m\u001b[0m\u001b[1;33m\u001b[0m\u001b[0m\n\u001b[0m\u001b[0;32m      2\u001b[0m \u001b[0mdf2\u001b[0m \u001b[1;33m=\u001b[0m \u001b[0mdf2\u001b[0m\u001b[1;33m.\u001b[0m\u001b[0mto_csv\u001b[0m\u001b[1;33m(\u001b[0m\u001b[1;34m\"df2\"\u001b[0m\u001b[1;33m,\u001b[0m \u001b[0mindex\u001b[0m \u001b[1;33m=\u001b[0m \u001b[1;32mFalse\u001b[0m\u001b[1;33m)\u001b[0m\u001b[1;33m\u001b[0m\u001b[1;33m\u001b[0m\u001b[0m\n\u001b[0;32m      3\u001b[0m \u001b[0mdf3\u001b[0m \u001b[1;33m=\u001b[0m \u001b[0mdf3\u001b[0m\u001b[1;33m.\u001b[0m\u001b[0mto_csv\u001b[0m\u001b[1;33m(\u001b[0m\u001b[1;34m\"df3\"\u001b[0m\u001b[1;33m,\u001b[0m \u001b[0mindex\u001b[0m \u001b[1;33m=\u001b[0m \u001b[1;32mFalse\u001b[0m\u001b[1;33m)\u001b[0m\u001b[1;33m\u001b[0m\u001b[1;33m\u001b[0m\u001b[0m\n\u001b[0;32m      4\u001b[0m \u001b[0mdf4\u001b[0m \u001b[1;33m=\u001b[0m \u001b[0mdf4\u001b[0m\u001b[1;33m.\u001b[0m\u001b[0mto_csv\u001b[0m\u001b[1;33m(\u001b[0m\u001b[1;34m\"df4\"\u001b[0m\u001b[1;33m,\u001b[0m \u001b[0mindex\u001b[0m \u001b[1;33m=\u001b[0m \u001b[1;32mFalse\u001b[0m\u001b[1;33m)\u001b[0m\u001b[1;33m\u001b[0m\u001b[1;33m\u001b[0m\u001b[0m\n\u001b[0;32m      5\u001b[0m \u001b[0mdf5\u001b[0m \u001b[1;33m=\u001b[0m \u001b[0mdf5\u001b[0m\u001b[1;33m.\u001b[0m\u001b[0mto_csv\u001b[0m\u001b[1;33m(\u001b[0m\u001b[1;34m\"df5\"\u001b[0m\u001b[1;33m,\u001b[0m \u001b[0mindex\u001b[0m \u001b[1;33m=\u001b[0m \u001b[1;32mFalse\u001b[0m\u001b[1;33m)\u001b[0m\u001b[1;33m\u001b[0m\u001b[1;33m\u001b[0m\u001b[0m\n",
      "\u001b[1;31mNameError\u001b[0m: name 'df1' is not defined"
     ]
    }
   ],
   "source": [
    "df1 = df1.to_csv(\"df1\",index = False)\n",
    "df2 = df2.to_csv(\"df2\", index = False)\n",
    "df3 = df3.to_csv(\"df3\", index = False)\n",
    "df4 = df4.to_csv(\"df4\", index = False)\n",
    "df5 = df5.to_csv(\"df5\", index = False)"
   ]
  },
  {
   "cell_type": "markdown",
   "id": "08a1c23c-d60e-427a-90ad-935f5095394a",
   "metadata": {},
   "source": [
    "## Section 2: Visualization"
   ]
  },
  {
   "cell_type": "code",
   "execution_count": 2,
   "id": "350eeda3-41a3-44b3-90f4-51de4288d009",
   "metadata": {},
   "outputs": [],
   "source": [
    "df1 = pd.read_csv(\"df1\")\n",
    "df2 = pd.read_csv(\"df2\")\n",
    "df3 = pd.read_csv(\"df3\")\n",
    "df4 = pd.read_csv(\"df4\")\n",
    "df5 = pd.read_csv(\"df5\")"
   ]
  },
  {
   "cell_type": "code",
   "execution_count": 141,
   "id": "051f9adb",
   "metadata": {},
   "outputs": [],
   "source": [
    "a= ['net_profit/total_assets',\n",
    "'total_liabilities/total_assets',\n",
    "'working_capital/total_assets',\n",
    "'current_assets/short_term_liabilities',\n",
    "'(cash+short_term_securities+receivables--short_term_liabilities) / (operating expenses - depreciation) * 365',\n",
    "'retained earnings / total assets',\n",
    "'EBIT / total assets',\n",
    "'book value of equity / total liabilities',\n",
    "'sales / total assets',\n",
    "'equity / total assets',\n",
    "'(gross profit + extraordinary items + financial expenses) / total assets',\n",
    "'gross profit / short-term liabilities',\n",
    "'(gross profit + depreciation) / sales',\n",
    "'(gross profit + interest) / total assets',\n",
    "'(total liabilities * 365) / (gross profit + depreciation)',\n",
    "'(gross profit + depreciation) / total liabilities',\n",
    "'total assets / total liabilities',\n",
    "'gross profit / total assets',\n",
    "'gross profit / sales',\n",
    "'(inventory * 365) / sales',\n",
    "'sales (n) / sales (n-1)',\n",
    "'profit on operating activities / total assets',\n",
    "'net profit / sales',\n",
    "'gross profit (in 3 years) / total assets',\n",
    "'(equity - share capital) / total assets',\n",
    "'(net profit + depreciation) / total liabilities',\n",
    "'profit on operating activities / financial expenses',\n",
    "'working capital / fixed assets',\n",
    "'logarithm of total assets',\n",
    "'(total liabilities - cash) / sales',\n",
    "'(gross profit + interest) / sales',\n",
    "'(current liabilities * 365) / cost of products sold',\n",
    "'operating expenses / short-term liabilities',\n",
    "'operating expenses / total liabilities',\n",
    "'profit on sales / total assets',\n",
    "'total sales / total assets',\n",
    "'(current assets - inventories) / long-term liabilities',\n",
    "'constant capital / total assets',\n",
    "'profit on sales / sales',\n",
    "'(current assets - inventory - receivables) / short-term liabilities',\n",
    "'total liabilities / ((profit on operating activities + depreciation) * (12/365))',\n",
    "'profit on operating activities / sales',\n",
    "'rotation receivables + inventory turnover in days',\n",
    "'(receivables * 365) / sales',\n",
    "'net profit / inventory',\n",
    "'(current assets - inventory) / short-term liabilities',\n",
    "'(inventory * 365) / cost of products sold',\n",
    "'EBITDA (profit on operating activities - depreciation) / total assets',\n",
    "'EBITDA (profit on operating activities - depreciation) / sales',\n",
    "'current assets / total liabilities',\n",
    "'short-term liabilities / total assets',\n",
    "'(short-term liabilities * 365) / cost of products sold)',\n",
    "'equity / fixed assets',\n",
    "'constant capital / fixed assets',\n",
    "'working capital',\n",
    "'(sales - cost of products sold) / sales',\n",
    "'(current assets - inventory - short-term liabilities) / (sales - gross profit - depreciation)',\n",
    "'total costs /total sales',\n",
    "'long-term liabilities / equity',\n",
    "'sales / inventory',\n",
    "'sales / receivables',\n",
    "'short-term liabilities *365 / sales',\n",
    "'sales / short-term liabilities',\n",
    "'sales / fixed assets',\n",
    "'bankruptcy']"
   ]
  },
  {
   "cell_type": "code",
   "execution_count": 142,
   "id": "d2b92f51",
   "metadata": {},
   "outputs": [],
   "source": [
    "#rename columns\n",
    "\n",
    "df1.columns\n",
    "df1.columns = a"
   ]
  },
  {
   "cell_type": "code",
   "execution_count": 143,
   "id": "3c717356",
   "metadata": {},
   "outputs": [
    {
     "data": {
      "text/plain": [
       "Index(['net_profit/total_assets', 'total_liabilities/total_assets',\n",
       "       'working_capital/total_assets', 'current_assets/short_term_liabilities',\n",
       "       '(cash+short_term_securities+receivables--short_term_liabilities) / (operating expenses - depreciation) * 365',\n",
       "       'retained earnings / total assets', 'EBIT / total assets',\n",
       "       'book value of equity / total liabilities', 'sales / total assets',\n",
       "       'equity / total assets',\n",
       "       '(gross profit + extraordinary items + financial expenses) / total assets',\n",
       "       'gross profit / short-term liabilities',\n",
       "       '(gross profit + depreciation) / sales',\n",
       "       '(gross profit + interest) / total assets',\n",
       "       '(total liabilities * 365) / (gross profit + depreciation)',\n",
       "       '(gross profit + depreciation) / total liabilities',\n",
       "       'total assets / total liabilities', 'gross profit / total assets',\n",
       "       'gross profit / sales', '(inventory * 365) / sales',\n",
       "       'sales (n) / sales (n-1)',\n",
       "       'profit on operating activities / total assets', 'net profit / sales',\n",
       "       'gross profit (in 3 years) / total assets',\n",
       "       '(equity - share capital) / total assets',\n",
       "       '(net profit + depreciation) / total liabilities',\n",
       "       'profit on operating activities / financial expenses',\n",
       "       'working capital / fixed assets', 'logarithm of total assets',\n",
       "       '(total liabilities - cash) / sales',\n",
       "       '(gross profit + interest) / sales',\n",
       "       '(current liabilities * 365) / cost of products sold',\n",
       "       'operating expenses / short-term liabilities',\n",
       "       'operating expenses / total liabilities',\n",
       "       'profit on sales / total assets', 'total sales / total assets',\n",
       "       '(current assets - inventories) / long-term liabilities',\n",
       "       'constant capital / total assets', 'profit on sales / sales',\n",
       "       '(current assets - inventory - receivables) / short-term liabilities',\n",
       "       'total liabilities / ((profit on operating activities + depreciation) * (12/365))',\n",
       "       'profit on operating activities / sales',\n",
       "       'rotation receivables + inventory turnover in days',\n",
       "       '(receivables * 365) / sales', 'net profit / inventory',\n",
       "       '(current assets - inventory) / short-term liabilities',\n",
       "       '(inventory * 365) / cost of products sold',\n",
       "       'EBITDA (profit on operating activities - depreciation) / total assets',\n",
       "       'EBITDA (profit on operating activities - depreciation) / sales',\n",
       "       'current assets / total liabilities',\n",
       "       'short-term liabilities / total assets',\n",
       "       '(short-term liabilities * 365) / cost of products sold)',\n",
       "       'equity / fixed assets', 'constant capital / fixed assets',\n",
       "       'working capital', '(sales - cost of products sold) / sales',\n",
       "       '(current assets - inventory - short-term liabilities) / (sales - gross profit - depreciation)',\n",
       "       'total costs /total sales', 'long-term liabilities / equity',\n",
       "       'sales / inventory', 'sales / receivables',\n",
       "       'short-term liabilities *365 / sales', 'sales / short-term liabilities',\n",
       "       'sales / fixed assets', 'bankruptcy'],\n",
       "      dtype='object')"
      ]
     },
     "execution_count": 143,
     "metadata": {},
     "output_type": "execute_result"
    }
   ],
   "source": [
    "df1.columns"
   ]
  },
  {
   "cell_type": "code",
   "execution_count": 144,
   "id": "acf7e826-2f36-4bcd-acf4-c7f03a795a10",
   "metadata": {},
   "outputs": [
    {
     "data": {
      "text/html": [
       "<div>\n",
       "<style scoped>\n",
       "    .dataframe tbody tr th:only-of-type {\n",
       "        vertical-align: middle;\n",
       "    }\n",
       "\n",
       "    .dataframe tbody tr th {\n",
       "        vertical-align: top;\n",
       "    }\n",
       "\n",
       "    .dataframe thead th {\n",
       "        text-align: right;\n",
       "    }\n",
       "</style>\n",
       "<table border=\"1\" class=\"dataframe\">\n",
       "  <thead>\n",
       "    <tr style=\"text-align: right;\">\n",
       "      <th></th>\n",
       "      <th>net_profit/total_assets</th>\n",
       "      <th>total_liabilities/total_assets</th>\n",
       "      <th>working_capital/total_assets</th>\n",
       "      <th>current_assets/short_term_liabilities</th>\n",
       "      <th>(cash+short_term_securities+receivables--short_term_liabilities) / (operating expenses - depreciation) * 365</th>\n",
       "      <th>retained earnings / total assets</th>\n",
       "      <th>EBIT / total assets</th>\n",
       "      <th>book value of equity / total liabilities</th>\n",
       "      <th>sales / total assets</th>\n",
       "      <th>equity / total assets</th>\n",
       "      <th>(gross profit + extraordinary items + financial expenses) / total assets</th>\n",
       "      <th>gross profit / short-term liabilities</th>\n",
       "      <th>(gross profit + depreciation) / sales</th>\n",
       "      <th>(gross profit + interest) / total assets</th>\n",
       "      <th>(total liabilities * 365) / (gross profit + depreciation)</th>\n",
       "      <th>(gross profit + depreciation) / total liabilities</th>\n",
       "      <th>total assets / total liabilities</th>\n",
       "      <th>gross profit / total assets</th>\n",
       "      <th>gross profit / sales</th>\n",
       "      <th>(inventory * 365) / sales</th>\n",
       "      <th>sales (n) / sales (n-1)</th>\n",
       "      <th>profit on operating activities / total assets</th>\n",
       "      <th>net profit / sales</th>\n",
       "      <th>gross profit (in 3 years) / total assets</th>\n",
       "      <th>(equity - share capital) / total assets</th>\n",
       "      <th>(net profit + depreciation) / total liabilities</th>\n",
       "      <th>profit on operating activities / financial expenses</th>\n",
       "      <th>working capital / fixed assets</th>\n",
       "      <th>logarithm of total assets</th>\n",
       "      <th>(total liabilities - cash) / sales</th>\n",
       "      <th>(gross profit + interest) / sales</th>\n",
       "      <th>(current liabilities * 365) / cost of products sold</th>\n",
       "      <th>operating expenses / short-term liabilities</th>\n",
       "      <th>operating expenses / total liabilities</th>\n",
       "      <th>profit on sales / total assets</th>\n",
       "      <th>total sales / total assets</th>\n",
       "      <th>(current assets - inventories) / long-term liabilities</th>\n",
       "      <th>constant capital / total assets</th>\n",
       "      <th>profit on sales / sales</th>\n",
       "      <th>(current assets - inventory - receivables) / short-term liabilities</th>\n",
       "      <th>total liabilities / ((profit on operating activities + depreciation) * (12/365))</th>\n",
       "      <th>profit on operating activities / sales</th>\n",
       "      <th>rotation receivables + inventory turnover in days</th>\n",
       "      <th>(receivables * 365) / sales</th>\n",
       "      <th>net profit / inventory</th>\n",
       "      <th>(current assets - inventory) / short-term liabilities</th>\n",
       "      <th>(inventory * 365) / cost of products sold</th>\n",
       "      <th>EBITDA (profit on operating activities - depreciation) / total assets</th>\n",
       "      <th>EBITDA (profit on operating activities - depreciation) / sales</th>\n",
       "      <th>current assets / total liabilities</th>\n",
       "      <th>short-term liabilities / total assets</th>\n",
       "      <th>(short-term liabilities * 365) / cost of products sold)</th>\n",
       "      <th>equity / fixed assets</th>\n",
       "      <th>constant capital / fixed assets</th>\n",
       "      <th>working capital</th>\n",
       "      <th>(sales - cost of products sold) / sales</th>\n",
       "      <th>(current assets - inventory - short-term liabilities) / (sales - gross profit - depreciation)</th>\n",
       "      <th>total costs /total sales</th>\n",
       "      <th>long-term liabilities / equity</th>\n",
       "      <th>sales / inventory</th>\n",
       "      <th>sales / receivables</th>\n",
       "      <th>short-term liabilities *365 / sales</th>\n",
       "      <th>sales / short-term liabilities</th>\n",
       "      <th>sales / fixed assets</th>\n",
       "      <th>bankruptcy</th>\n",
       "    </tr>\n",
       "  </thead>\n",
       "  <tbody>\n",
       "    <tr>\n",
       "      <th>net_profit/total_assets</th>\n",
       "      <td>1.000000</td>\n",
       "      <td>-0.155932</td>\n",
       "      <td>0.159913</td>\n",
       "      <td>0.002493</td>\n",
       "      <td>0.008364</td>\n",
       "      <td>0.129868</td>\n",
       "      <td>0.422068</td>\n",
       "      <td>0.002723</td>\n",
       "      <td>-0.561938</td>\n",
       "      <td>-0.349011</td>\n",
       "      <td>0.397935</td>\n",
       "      <td>0.009048</td>\n",
       "      <td>0.000667</td>\n",
       "      <td>0.422068</td>\n",
       "      <td>0.000146</td>\n",
       "      <td>0.008150</td>\n",
       "      <td>0.002620</td>\n",
       "      <td>0.422068</td>\n",
       "      <td>0.003726</td>\n",
       "      <td>-0.000068</td>\n",
       "      <td>-0.000244</td>\n",
       "      <td>0.463856</td>\n",
       "      <td>0.003743</td>\n",
       "      <td>0.265090</td>\n",
       "      <td>-0.646808</td>\n",
       "      <td>0.005708</td>\n",
       "      <td>0.008489</td>\n",
       "      <td>0.004435</td>\n",
       "      <td>0.087485</td>\n",
       "      <td>-0.000417</td>\n",
       "      <td>0.003745</td>\n",
       "      <td>-0.138953</td>\n",
       "      <td>0.007183</td>\n",
       "      <td>0.006753</td>\n",
       "      <td>-0.059102</td>\n",
       "      <td>-0.561856</td>\n",
       "      <td>-0.000052</td>\n",
       "      <td>-0.349053</td>\n",
       "      <td>0.000634</td>\n",
       "      <td>0.000970</td>\n",
       "      <td>-0.005399</td>\n",
       "      <td>0.000724</td>\n",
       "      <td>-0.000066</td>\n",
       "      <td>-0.000066</td>\n",
       "      <td>0.001045</td>\n",
       "      <td>0.002038</td>\n",
       "      <td>0.000051</td>\n",
       "      <td>0.490985</td>\n",
       "      <td>0.000253</td>\n",
       "      <td>0.006183</td>\n",
       "      <td>-0.158139</td>\n",
       "      <td>-0.100931</td>\n",
       "      <td>-0.008067</td>\n",
       "      <td>-0.008050</td>\n",
       "      <td>0.002983</td>\n",
       "      <td>0.000061</td>\n",
       "      <td>0.004398</td>\n",
       "      <td>-0.000061</td>\n",
       "      <td>0.000287</td>\n",
       "      <td>-0.000375</td>\n",
       "      <td>0.001564</td>\n",
       "      <td>-0.000848</td>\n",
       "      <td>0.008405</td>\n",
       "      <td>-0.040623</td>\n",
       "      <td>-0.010643</td>\n",
       "    </tr>\n",
       "    <tr>\n",
       "      <th>total_liabilities/total_assets</th>\n",
       "      <td>-0.155932</td>\n",
       "      <td>1.000000</td>\n",
       "      <td>-0.985782</td>\n",
       "      <td>-0.009885</td>\n",
       "      <td>-0.052234</td>\n",
       "      <td>-0.772227</td>\n",
       "      <td>-0.193355</td>\n",
       "      <td>-0.008611</td>\n",
       "      <td>-0.073338</td>\n",
       "      <td>-0.221383</td>\n",
       "      <td>-0.103102</td>\n",
       "      <td>-0.010612</td>\n",
       "      <td>-0.002873</td>\n",
       "      <td>-0.193355</td>\n",
       "      <td>0.000332</td>\n",
       "      <td>-0.007249</td>\n",
       "      <td>-0.010606</td>\n",
       "      <td>-0.193355</td>\n",
       "      <td>-0.017806</td>\n",
       "      <td>0.000656</td>\n",
       "      <td>-0.000585</td>\n",
       "      <td>-0.106255</td>\n",
       "      <td>-0.018350</td>\n",
       "      <td>-0.176279</td>\n",
       "      <td>-0.195784</td>\n",
       "      <td>-0.007001</td>\n",
       "      <td>-0.005002</td>\n",
       "      <td>-0.003191</td>\n",
       "      <td>-0.050353</td>\n",
       "      <td>0.002882</td>\n",
       "      <td>-0.017816</td>\n",
       "      <td>0.856247</td>\n",
       "      <td>-0.017299</td>\n",
       "      <td>-0.003286</td>\n",
       "      <td>-0.114210</td>\n",
       "      <td>-0.073245</td>\n",
       "      <td>-0.001237</td>\n",
       "      <td>-0.221321</td>\n",
       "      <td>0.001318</td>\n",
       "      <td>-0.004537</td>\n",
       "      <td>0.039238</td>\n",
       "      <td>0.001164</td>\n",
       "      <td>0.000668</td>\n",
       "      <td>0.000673</td>\n",
       "      <td>-0.002779</td>\n",
       "      <td>-0.007626</td>\n",
       "      <td>-0.000523</td>\n",
       "      <td>-0.100451</td>\n",
       "      <td>-0.000514</td>\n",
       "      <td>-0.020641</td>\n",
       "      <td>0.986503</td>\n",
       "      <td>0.628821</td>\n",
       "      <td>-0.011803</td>\n",
       "      <td>-0.011754</td>\n",
       "      <td>-0.009709</td>\n",
       "      <td>-0.000655</td>\n",
       "      <td>-0.000743</td>\n",
       "      <td>0.000656</td>\n",
       "      <td>0.000979</td>\n",
       "      <td>-0.000016</td>\n",
       "      <td>-0.002337</td>\n",
       "      <td>0.005456</td>\n",
       "      <td>-0.017717</td>\n",
       "      <td>-0.018571</td>\n",
       "      <td>0.065150</td>\n",
       "    </tr>\n",
       "    <tr>\n",
       "      <th>working_capital/total_assets</th>\n",
       "      <td>0.159913</td>\n",
       "      <td>-0.985782</td>\n",
       "      <td>1.000000</td>\n",
       "      <td>0.011219</td>\n",
       "      <td>0.052915</td>\n",
       "      <td>0.781194</td>\n",
       "      <td>0.087043</td>\n",
       "      <td>0.007717</td>\n",
       "      <td>-0.000664</td>\n",
       "      <td>0.155591</td>\n",
       "      <td>-0.001076</td>\n",
       "      <td>0.009147</td>\n",
       "      <td>0.003570</td>\n",
       "      <td>0.087043</td>\n",
       "      <td>0.000969</td>\n",
       "      <td>0.008773</td>\n",
       "      <td>0.007514</td>\n",
       "      <td>0.087043</td>\n",
       "      <td>0.018683</td>\n",
       "      <td>-0.000018</td>\n",
       "      <td>0.000835</td>\n",
       "      <td>-0.001170</td>\n",
       "      <td>0.019264</td>\n",
       "      <td>0.054339</td>\n",
       "      <td>0.189622</td>\n",
       "      <td>0.005629</td>\n",
       "      <td>0.002852</td>\n",
       "      <td>0.009709</td>\n",
       "      <td>0.053899</td>\n",
       "      <td>-0.002307</td>\n",
       "      <td>0.018690</td>\n",
       "      <td>-0.867610</td>\n",
       "      <td>0.015944</td>\n",
       "      <td>0.010735</td>\n",
       "      <td>-0.002147</td>\n",
       "      <td>-0.000753</td>\n",
       "      <td>0.000299</td>\n",
       "      <td>0.155586</td>\n",
       "      <td>-0.000625</td>\n",
       "      <td>0.005336</td>\n",
       "      <td>-0.038764</td>\n",
       "      <td>-0.000468</td>\n",
       "      <td>-0.000044</td>\n",
       "      <td>-0.000053</td>\n",
       "      <td>0.003259</td>\n",
       "      <td>0.008825</td>\n",
       "      <td>0.001652</td>\n",
       "      <td>-0.001388</td>\n",
       "      <td>-0.000095</td>\n",
       "      <td>0.022846</td>\n",
       "      <td>-0.999136</td>\n",
       "      <td>-0.637061</td>\n",
       "      <td>-0.001067</td>\n",
       "      <td>-0.001080</td>\n",
       "      <td>0.010827</td>\n",
       "      <td>0.000019</td>\n",
       "      <td>0.002130</td>\n",
       "      <td>-0.000019</td>\n",
       "      <td>-0.001116</td>\n",
       "      <td>-0.000331</td>\n",
       "      <td>-0.001286</td>\n",
       "      <td>-0.005054</td>\n",
       "      <td>0.016151</td>\n",
       "      <td>-0.001372</td>\n",
       "      <td>-0.065102</td>\n",
       "    </tr>\n",
       "    <tr>\n",
       "      <th>current_assets/short_term_liabilities</th>\n",
       "      <td>0.002493</td>\n",
       "      <td>-0.009885</td>\n",
       "      <td>0.011219</td>\n",
       "      <td>1.000000</td>\n",
       "      <td>-0.000884</td>\n",
       "      <td>0.003137</td>\n",
       "      <td>0.001411</td>\n",
       "      <td>0.191110</td>\n",
       "      <td>-0.000309</td>\n",
       "      <td>0.001518</td>\n",
       "      <td>0.001156</td>\n",
       "      <td>0.539527</td>\n",
       "      <td>0.084245</td>\n",
       "      <td>0.001411</td>\n",
       "      <td>-0.002369</td>\n",
       "      <td>0.156684</td>\n",
       "      <td>0.186979</td>\n",
       "      <td>0.001411</td>\n",
       "      <td>0.444004</td>\n",
       "      <td>-0.001204</td>\n",
       "      <td>0.005043</td>\n",
       "      <td>0.000893</td>\n",
       "      <td>0.394370</td>\n",
       "      <td>0.001540</td>\n",
       "      <td>0.001631</td>\n",
       "      <td>0.127889</td>\n",
       "      <td>0.016866</td>\n",
       "      <td>0.017343</td>\n",
       "      <td>-0.004099</td>\n",
       "      <td>0.002760</td>\n",
       "      <td>0.444029</td>\n",
       "      <td>0.032585</td>\n",
       "      <td>0.257302</td>\n",
       "      <td>0.249260</td>\n",
       "      <td>0.000915</td>\n",
       "      <td>-0.000592</td>\n",
       "      <td>0.000473</td>\n",
       "      <td>0.001400</td>\n",
       "      <td>-0.000059</td>\n",
       "      <td>0.970127</td>\n",
       "      <td>-0.002635</td>\n",
       "      <td>-0.014574</td>\n",
       "      <td>-0.000980</td>\n",
       "      <td>-0.000902</td>\n",
       "      <td>0.002749</td>\n",
       "      <td>0.988125</td>\n",
       "      <td>0.000124</td>\n",
       "      <td>0.001278</td>\n",
       "      <td>-0.002245</td>\n",
       "      <td>0.400056</td>\n",
       "      <td>-0.009203</td>\n",
       "      <td>0.017211</td>\n",
       "      <td>-0.000503</td>\n",
       "      <td>-0.000533</td>\n",
       "      <td>0.021735</td>\n",
       "      <td>0.001198</td>\n",
       "      <td>0.001944</td>\n",
       "      <td>-0.001198</td>\n",
       "      <td>-0.005647</td>\n",
       "      <td>-0.001037</td>\n",
       "      <td>-0.002943</td>\n",
       "      <td>-0.001617</td>\n",
       "      <td>0.259509</td>\n",
       "      <td>-0.000712</td>\n",
       "      <td>0.008070</td>\n",
       "    </tr>\n",
       "    <tr>\n",
       "      <th>(cash+short_term_securities+receivables--short_term_liabilities) / (operating expenses - depreciation) * 365</th>\n",
       "      <td>0.008364</td>\n",
       "      <td>-0.052234</td>\n",
       "      <td>0.052915</td>\n",
       "      <td>-0.000884</td>\n",
       "      <td>1.000000</td>\n",
       "      <td>0.040983</td>\n",
       "      <td>0.004792</td>\n",
       "      <td>0.002115</td>\n",
       "      <td>0.003074</td>\n",
       "      <td>0.008561</td>\n",
       "      <td>0.000176</td>\n",
       "      <td>-0.000036</td>\n",
       "      <td>-0.000041</td>\n",
       "      <td>0.004792</td>\n",
       "      <td>-0.446781</td>\n",
       "      <td>0.001627</td>\n",
       "      <td>0.002070</td>\n",
       "      <td>0.004792</td>\n",
       "      <td>-0.000607</td>\n",
       "      <td>0.000094</td>\n",
       "      <td>-0.000078</td>\n",
       "      <td>0.000132</td>\n",
       "      <td>-0.000352</td>\n",
       "      <td>0.003048</td>\n",
       "      <td>0.010265</td>\n",
       "      <td>0.001166</td>\n",
       "      <td>-0.000024</td>\n",
       "      <td>-0.000412</td>\n",
       "      <td>-0.002675</td>\n",
       "      <td>-0.000961</td>\n",
       "      <td>-0.000603</td>\n",
       "      <td>-0.153626</td>\n",
       "      <td>0.005353</td>\n",
       "      <td>0.003474</td>\n",
       "      <td>0.000116</td>\n",
       "      <td>0.000587</td>\n",
       "      <td>-0.000079</td>\n",
       "      <td>0.008625</td>\n",
       "      <td>0.000258</td>\n",
       "      <td>-0.002968</td>\n",
       "      <td>-0.251103</td>\n",
       "      <td>0.000321</td>\n",
       "      <td>-0.000228</td>\n",
       "      <td>-0.000340</td>\n",
       "      <td>0.000279</td>\n",
       "      <td>-0.001557</td>\n",
       "      <td>0.014904</td>\n",
       "      <td>0.000014</td>\n",
       "      <td>-0.000032</td>\n",
       "      <td>0.005049</td>\n",
       "      <td>-0.053357</td>\n",
       "      <td>-0.201288</td>\n",
       "      <td>-0.000141</td>\n",
       "      <td>-0.000141</td>\n",
       "      <td>0.002820</td>\n",
       "      <td>-0.000091</td>\n",
       "      <td>0.000274</td>\n",
       "      <td>0.000091</td>\n",
       "      <td>0.004470</td>\n",
       "      <td>-0.000084</td>\n",
       "      <td>-0.000168</td>\n",
       "      <td>-0.002224</td>\n",
       "      <td>0.005441</td>\n",
       "      <td>0.000105</td>\n",
       "      <td>-0.002013</td>\n",
       "    </tr>\n",
       "    <tr>\n",
       "      <th>...</th>\n",
       "      <td>...</td>\n",
       "      <td>...</td>\n",
       "      <td>...</td>\n",
       "      <td>...</td>\n",
       "      <td>...</td>\n",
       "      <td>...</td>\n",
       "      <td>...</td>\n",
       "      <td>...</td>\n",
       "      <td>...</td>\n",
       "      <td>...</td>\n",
       "      <td>...</td>\n",
       "      <td>...</td>\n",
       "      <td>...</td>\n",
       "      <td>...</td>\n",
       "      <td>...</td>\n",
       "      <td>...</td>\n",
       "      <td>...</td>\n",
       "      <td>...</td>\n",
       "      <td>...</td>\n",
       "      <td>...</td>\n",
       "      <td>...</td>\n",
       "      <td>...</td>\n",
       "      <td>...</td>\n",
       "      <td>...</td>\n",
       "      <td>...</td>\n",
       "      <td>...</td>\n",
       "      <td>...</td>\n",
       "      <td>...</td>\n",
       "      <td>...</td>\n",
       "      <td>...</td>\n",
       "      <td>...</td>\n",
       "      <td>...</td>\n",
       "      <td>...</td>\n",
       "      <td>...</td>\n",
       "      <td>...</td>\n",
       "      <td>...</td>\n",
       "      <td>...</td>\n",
       "      <td>...</td>\n",
       "      <td>...</td>\n",
       "      <td>...</td>\n",
       "      <td>...</td>\n",
       "      <td>...</td>\n",
       "      <td>...</td>\n",
       "      <td>...</td>\n",
       "      <td>...</td>\n",
       "      <td>...</td>\n",
       "      <td>...</td>\n",
       "      <td>...</td>\n",
       "      <td>...</td>\n",
       "      <td>...</td>\n",
       "      <td>...</td>\n",
       "      <td>...</td>\n",
       "      <td>...</td>\n",
       "      <td>...</td>\n",
       "      <td>...</td>\n",
       "      <td>...</td>\n",
       "      <td>...</td>\n",
       "      <td>...</td>\n",
       "      <td>...</td>\n",
       "      <td>...</td>\n",
       "      <td>...</td>\n",
       "      <td>...</td>\n",
       "      <td>...</td>\n",
       "      <td>...</td>\n",
       "      <td>...</td>\n",
       "    </tr>\n",
       "    <tr>\n",
       "      <th>sales / receivables</th>\n",
       "      <td>0.001564</td>\n",
       "      <td>-0.002337</td>\n",
       "      <td>-0.001286</td>\n",
       "      <td>-0.002943</td>\n",
       "      <td>-0.000168</td>\n",
       "      <td>0.000958</td>\n",
       "      <td>0.019879</td>\n",
       "      <td>0.001763</td>\n",
       "      <td>0.033857</td>\n",
       "      <td>0.047310</td>\n",
       "      <td>0.020196</td>\n",
       "      <td>0.050068</td>\n",
       "      <td>-0.000726</td>\n",
       "      <td>0.019879</td>\n",
       "      <td>-0.000618</td>\n",
       "      <td>0.003630</td>\n",
       "      <td>0.001732</td>\n",
       "      <td>0.019879</td>\n",
       "      <td>-0.000761</td>\n",
       "      <td>-0.000707</td>\n",
       "      <td>0.000130</td>\n",
       "      <td>0.002507</td>\n",
       "      <td>-0.000757</td>\n",
       "      <td>0.003479</td>\n",
       "      <td>0.029637</td>\n",
       "      <td>0.002885</td>\n",
       "      <td>0.001607</td>\n",
       "      <td>-0.208111</td>\n",
       "      <td>-0.054593</td>\n",
       "      <td>-0.000768</td>\n",
       "      <td>-0.000728</td>\n",
       "      <td>-0.000856</td>\n",
       "      <td>0.118857</td>\n",
       "      <td>0.007186</td>\n",
       "      <td>0.007180</td>\n",
       "      <td>0.033991</td>\n",
       "      <td>-0.000939</td>\n",
       "      <td>0.048265</td>\n",
       "      <td>-0.000459</td>\n",
       "      <td>-0.093300</td>\n",
       "      <td>-0.001548</td>\n",
       "      <td>-0.000453</td>\n",
       "      <td>-0.000744</td>\n",
       "      <td>-0.000756</td>\n",
       "      <td>0.000430</td>\n",
       "      <td>-0.093147</td>\n",
       "      <td>0.005771</td>\n",
       "      <td>-0.065716</td>\n",
       "      <td>0.000746</td>\n",
       "      <td>-0.000365</td>\n",
       "      <td>-0.000965</td>\n",
       "      <td>-0.000909</td>\n",
       "      <td>0.343764</td>\n",
       "      <td>0.354808</td>\n",
       "      <td>-0.003867</td>\n",
       "      <td>0.000716</td>\n",
       "      <td>0.001100</td>\n",
       "      <td>-0.000716</td>\n",
       "      <td>-0.001566</td>\n",
       "      <td>-0.000576</td>\n",
       "      <td>1.000000</td>\n",
       "      <td>-0.000907</td>\n",
       "      <td>0.175777</td>\n",
       "      <td>0.360567</td>\n",
       "      <td>-0.002534</td>\n",
       "    </tr>\n",
       "    <tr>\n",
       "      <th>short-term liabilities *365 / sales</th>\n",
       "      <td>-0.000848</td>\n",
       "      <td>0.005456</td>\n",
       "      <td>-0.005054</td>\n",
       "      <td>-0.001617</td>\n",
       "      <td>-0.002224</td>\n",
       "      <td>-0.003916</td>\n",
       "      <td>-0.000973</td>\n",
       "      <td>-0.001838</td>\n",
       "      <td>-0.000829</td>\n",
       "      <td>-0.001491</td>\n",
       "      <td>-0.000605</td>\n",
       "      <td>-0.002209</td>\n",
       "      <td>0.942309</td>\n",
       "      <td>-0.000973</td>\n",
       "      <td>0.000812</td>\n",
       "      <td>-0.002217</td>\n",
       "      <td>-0.001861</td>\n",
       "      <td>-0.000973</td>\n",
       "      <td>0.738362</td>\n",
       "      <td>0.961081</td>\n",
       "      <td>-0.000001</td>\n",
       "      <td>-0.000507</td>\n",
       "      <td>0.759430</td>\n",
       "      <td>-0.000880</td>\n",
       "      <td>-0.001536</td>\n",
       "      <td>-0.001519</td>\n",
       "      <td>-0.000143</td>\n",
       "      <td>-0.001462</td>\n",
       "      <td>-0.015799</td>\n",
       "      <td>0.975288</td>\n",
       "      <td>0.738337</td>\n",
       "      <td>0.011125</td>\n",
       "      <td>0.004515</td>\n",
       "      <td>0.001476</td>\n",
       "      <td>-0.000592</td>\n",
       "      <td>-0.000880</td>\n",
       "      <td>-0.000401</td>\n",
       "      <td>-0.001365</td>\n",
       "      <td>0.826316</td>\n",
       "      <td>-0.000677</td>\n",
       "      <td>0.000193</td>\n",
       "      <td>0.826233</td>\n",
       "      <td>0.968191</td>\n",
       "      <td>0.970483</td>\n",
       "      <td>0.000122</td>\n",
       "      <td>-0.001030</td>\n",
       "      <td>-0.000962</td>\n",
       "      <td>-0.000359</td>\n",
       "      <td>-0.979281</td>\n",
       "      <td>-0.004383</td>\n",
       "      <td>0.004736</td>\n",
       "      <td>0.014007</td>\n",
       "      <td>-0.000539</td>\n",
       "      <td>-0.000538</td>\n",
       "      <td>-0.005743</td>\n",
       "      <td>-0.960360</td>\n",
       "      <td>-0.000528</td>\n",
       "      <td>0.960360</td>\n",
       "      <td>0.005322</td>\n",
       "      <td>-0.000248</td>\n",
       "      <td>-0.000907</td>\n",
       "      <td>1.000000</td>\n",
       "      <td>-0.006185</td>\n",
       "      <td>-0.000619</td>\n",
       "      <td>-0.002679</td>\n",
       "    </tr>\n",
       "    <tr>\n",
       "      <th>sales / short-term liabilities</th>\n",
       "      <td>0.008405</td>\n",
       "      <td>-0.017717</td>\n",
       "      <td>0.016151</td>\n",
       "      <td>0.259509</td>\n",
       "      <td>0.005441</td>\n",
       "      <td>0.007105</td>\n",
       "      <td>0.007141</td>\n",
       "      <td>0.483255</td>\n",
       "      <td>0.005006</td>\n",
       "      <td>0.007083</td>\n",
       "      <td>0.006395</td>\n",
       "      <td>0.577043</td>\n",
       "      <td>-0.004995</td>\n",
       "      <td>0.007141</td>\n",
       "      <td>-0.003283</td>\n",
       "      <td>0.598461</td>\n",
       "      <td>0.477244</td>\n",
       "      <td>0.007141</td>\n",
       "      <td>-0.004836</td>\n",
       "      <td>-0.004930</td>\n",
       "      <td>0.017160</td>\n",
       "      <td>0.004021</td>\n",
       "      <td>-0.004565</td>\n",
       "      <td>0.004135</td>\n",
       "      <td>0.004498</td>\n",
       "      <td>0.514491</td>\n",
       "      <td>0.044255</td>\n",
       "      <td>-0.014871</td>\n",
       "      <td>-0.129555</td>\n",
       "      <td>-0.005232</td>\n",
       "      <td>-0.004858</td>\n",
       "      <td>-0.011519</td>\n",
       "      <td>0.970138</td>\n",
       "      <td>0.884440</td>\n",
       "      <td>0.004973</td>\n",
       "      <td>0.005469</td>\n",
       "      <td>-0.000503</td>\n",
       "      <td>0.006984</td>\n",
       "      <td>-0.002704</td>\n",
       "      <td>0.101987</td>\n",
       "      <td>-0.007352</td>\n",
       "      <td>-0.002607</td>\n",
       "      <td>-0.005059</td>\n",
       "      <td>-0.005102</td>\n",
       "      <td>0.004413</td>\n",
       "      <td>0.183240</td>\n",
       "      <td>-0.005574</td>\n",
       "      <td>-0.003956</td>\n",
       "      <td>0.005374</td>\n",
       "      <td>0.652105</td>\n",
       "      <td>-0.015917</td>\n",
       "      <td>-0.014569</td>\n",
       "      <td>0.055450</td>\n",
       "      <td>0.057415</td>\n",
       "      <td>0.010694</td>\n",
       "      <td>0.004864</td>\n",
       "      <td>0.009670</td>\n",
       "      <td>-0.004864</td>\n",
       "      <td>-0.011143</td>\n",
       "      <td>-0.001391</td>\n",
       "      <td>0.175777</td>\n",
       "      <td>-0.006185</td>\n",
       "      <td>1.000000</td>\n",
       "      <td>0.057150</td>\n",
       "      <td>0.004930</td>\n",
       "    </tr>\n",
       "    <tr>\n",
       "      <th>sales / fixed assets</th>\n",
       "      <td>-0.040623</td>\n",
       "      <td>-0.018571</td>\n",
       "      <td>-0.001372</td>\n",
       "      <td>-0.000712</td>\n",
       "      <td>0.000105</td>\n",
       "      <td>0.046848</td>\n",
       "      <td>0.192795</td>\n",
       "      <td>-0.007892</td>\n",
       "      <td>0.255472</td>\n",
       "      <td>0.318259</td>\n",
       "      <td>0.200529</td>\n",
       "      <td>0.016304</td>\n",
       "      <td>-0.000500</td>\n",
       "      <td>0.192795</td>\n",
       "      <td>-0.000227</td>\n",
       "      <td>-0.008121</td>\n",
       "      <td>-0.000601</td>\n",
       "      <td>0.192795</td>\n",
       "      <td>-0.000538</td>\n",
       "      <td>-0.000460</td>\n",
       "      <td>-0.000504</td>\n",
       "      <td>0.157197</td>\n",
       "      <td>-0.000583</td>\n",
       "      <td>0.195098</td>\n",
       "      <td>0.229096</td>\n",
       "      <td>-0.000765</td>\n",
       "      <td>0.001026</td>\n",
       "      <td>-0.051690</td>\n",
       "      <td>-0.120612</td>\n",
       "      <td>-0.000523</td>\n",
       "      <td>-0.000511</td>\n",
       "      <td>-0.001359</td>\n",
       "      <td>0.037163</td>\n",
       "      <td>-0.017506</td>\n",
       "      <td>0.169217</td>\n",
       "      <td>0.255397</td>\n",
       "      <td>-0.000658</td>\n",
       "      <td>0.318646</td>\n",
       "      <td>-0.000336</td>\n",
       "      <td>-0.032320</td>\n",
       "      <td>-0.001522</td>\n",
       "      <td>-0.000327</td>\n",
       "      <td>-0.000502</td>\n",
       "      <td>-0.000516</td>\n",
       "      <td>0.000413</td>\n",
       "      <td>-0.031828</td>\n",
       "      <td>0.003727</td>\n",
       "      <td>0.062379</td>\n",
       "      <td>0.000506</td>\n",
       "      <td>-0.000318</td>\n",
       "      <td>-0.002249</td>\n",
       "      <td>-0.002155</td>\n",
       "      <td>0.973310</td>\n",
       "      <td>0.973437</td>\n",
       "      <td>-0.004461</td>\n",
       "      <td>0.000486</td>\n",
       "      <td>-0.001641</td>\n",
       "      <td>-0.000486</td>\n",
       "      <td>-0.001673</td>\n",
       "      <td>-0.000581</td>\n",
       "      <td>0.360567</td>\n",
       "      <td>-0.000619</td>\n",
       "      <td>0.057150</td>\n",
       "      <td>1.000000</td>\n",
       "      <td>-0.007120</td>\n",
       "    </tr>\n",
       "    <tr>\n",
       "      <th>bankruptcy</th>\n",
       "      <td>-0.010643</td>\n",
       "      <td>0.065150</td>\n",
       "      <td>-0.065102</td>\n",
       "      <td>0.008070</td>\n",
       "      <td>-0.002013</td>\n",
       "      <td>-0.052311</td>\n",
       "      <td>-0.012167</td>\n",
       "      <td>-0.000151</td>\n",
       "      <td>-0.007061</td>\n",
       "      <td>-0.018709</td>\n",
       "      <td>-0.005865</td>\n",
       "      <td>-0.017331</td>\n",
       "      <td>-0.002862</td>\n",
       "      <td>-0.012167</td>\n",
       "      <td>0.008643</td>\n",
       "      <td>-0.013809</td>\n",
       "      <td>-0.000183</td>\n",
       "      <td>-0.012167</td>\n",
       "      <td>-0.004445</td>\n",
       "      <td>-0.002395</td>\n",
       "      <td>-0.003023</td>\n",
       "      <td>-0.005379</td>\n",
       "      <td>-0.004350</td>\n",
       "      <td>-0.010804</td>\n",
       "      <td>-0.019282</td>\n",
       "      <td>-0.010476</td>\n",
       "      <td>-0.003500</td>\n",
       "      <td>-0.013426</td>\n",
       "      <td>-0.041748</td>\n",
       "      <td>-0.002392</td>\n",
       "      <td>-0.004414</td>\n",
       "      <td>0.050337</td>\n",
       "      <td>0.013933</td>\n",
       "      <td>0.027678</td>\n",
       "      <td>-0.006580</td>\n",
       "      <td>-0.006869</td>\n",
       "      <td>-0.003060</td>\n",
       "      <td>-0.018670</td>\n",
       "      <td>-0.001853</td>\n",
       "      <td>0.010319</td>\n",
       "      <td>-0.006034</td>\n",
       "      <td>-0.001840</td>\n",
       "      <td>-0.002470</td>\n",
       "      <td>-0.002495</td>\n",
       "      <td>0.002631</td>\n",
       "      <td>0.005637</td>\n",
       "      <td>-0.006869</td>\n",
       "      <td>-0.003164</td>\n",
       "      <td>0.002517</td>\n",
       "      <td>0.021968</td>\n",
       "      <td>0.064745</td>\n",
       "      <td>0.034022</td>\n",
       "      <td>-0.006905</td>\n",
       "      <td>-0.006903</td>\n",
       "      <td>-0.022040</td>\n",
       "      <td>0.002390</td>\n",
       "      <td>-0.060032</td>\n",
       "      <td>-0.002389</td>\n",
       "      <td>0.002221</td>\n",
       "      <td>-0.002419</td>\n",
       "      <td>-0.002534</td>\n",
       "      <td>-0.002679</td>\n",
       "      <td>0.004930</td>\n",
       "      <td>-0.007120</td>\n",
       "      <td>1.000000</td>\n",
       "    </tr>\n",
       "  </tbody>\n",
       "</table>\n",
       "<p>65 rows × 65 columns</p>\n",
       "</div>"
      ],
      "text/plain": [
       "                                                    net_profit/total_assets  \\\n",
       "net_profit/total_assets                                            1.000000   \n",
       "total_liabilities/total_assets                                    -0.155932   \n",
       "working_capital/total_assets                                       0.159913   \n",
       "current_assets/short_term_liabilities                              0.002493   \n",
       "(cash+short_term_securities+receivables--short_...                 0.008364   \n",
       "...                                                                     ...   \n",
       "sales / receivables                                                0.001564   \n",
       "short-term liabilities *365 / sales                               -0.000848   \n",
       "sales / short-term liabilities                                     0.008405   \n",
       "sales / fixed assets                                              -0.040623   \n",
       "bankruptcy                                                        -0.010643   \n",
       "\n",
       "                                                    total_liabilities/total_assets  \\\n",
       "net_profit/total_assets                                                  -0.155932   \n",
       "total_liabilities/total_assets                                            1.000000   \n",
       "working_capital/total_assets                                             -0.985782   \n",
       "current_assets/short_term_liabilities                                    -0.009885   \n",
       "(cash+short_term_securities+receivables--short_...                       -0.052234   \n",
       "...                                                                            ...   \n",
       "sales / receivables                                                      -0.002337   \n",
       "short-term liabilities *365 / sales                                       0.005456   \n",
       "sales / short-term liabilities                                           -0.017717   \n",
       "sales / fixed assets                                                     -0.018571   \n",
       "bankruptcy                                                                0.065150   \n",
       "\n",
       "                                                    working_capital/total_assets  \\\n",
       "net_profit/total_assets                                                 0.159913   \n",
       "total_liabilities/total_assets                                         -0.985782   \n",
       "working_capital/total_assets                                            1.000000   \n",
       "current_assets/short_term_liabilities                                   0.011219   \n",
       "(cash+short_term_securities+receivables--short_...                      0.052915   \n",
       "...                                                                          ...   \n",
       "sales / receivables                                                    -0.001286   \n",
       "short-term liabilities *365 / sales                                    -0.005054   \n",
       "sales / short-term liabilities                                          0.016151   \n",
       "sales / fixed assets                                                   -0.001372   \n",
       "bankruptcy                                                             -0.065102   \n",
       "\n",
       "                                                    current_assets/short_term_liabilities  \\\n",
       "net_profit/total_assets                                                          0.002493   \n",
       "total_liabilities/total_assets                                                  -0.009885   \n",
       "working_capital/total_assets                                                     0.011219   \n",
       "current_assets/short_term_liabilities                                            1.000000   \n",
       "(cash+short_term_securities+receivables--short_...                              -0.000884   \n",
       "...                                                                                   ...   \n",
       "sales / receivables                                                             -0.002943   \n",
       "short-term liabilities *365 / sales                                             -0.001617   \n",
       "sales / short-term liabilities                                                   0.259509   \n",
       "sales / fixed assets                                                            -0.000712   \n",
       "bankruptcy                                                                       0.008070   \n",
       "\n",
       "                                                    (cash+short_term_securities+receivables--short_term_liabilities) / (operating expenses - depreciation) * 365  \\\n",
       "net_profit/total_assets                                                                      0.008364                                                              \n",
       "total_liabilities/total_assets                                                              -0.052234                                                              \n",
       "working_capital/total_assets                                                                 0.052915                                                              \n",
       "current_assets/short_term_liabilities                                                       -0.000884                                                              \n",
       "(cash+short_term_securities+receivables--short_...                                           1.000000                                                              \n",
       "...                                                                                               ...                                                              \n",
       "sales / receivables                                                                         -0.000168                                                              \n",
       "short-term liabilities *365 / sales                                                         -0.002224                                                              \n",
       "sales / short-term liabilities                                                               0.005441                                                              \n",
       "sales / fixed assets                                                                         0.000105                                                              \n",
       "bankruptcy                                                                                  -0.002013                                                              \n",
       "\n",
       "                                                    retained earnings / total assets  \\\n",
       "net_profit/total_assets                                                     0.129868   \n",
       "total_liabilities/total_assets                                             -0.772227   \n",
       "working_capital/total_assets                                                0.781194   \n",
       "current_assets/short_term_liabilities                                       0.003137   \n",
       "(cash+short_term_securities+receivables--short_...                          0.040983   \n",
       "...                                                                              ...   \n",
       "sales / receivables                                                         0.000958   \n",
       "short-term liabilities *365 / sales                                        -0.003916   \n",
       "sales / short-term liabilities                                              0.007105   \n",
       "sales / fixed assets                                                        0.046848   \n",
       "bankruptcy                                                                 -0.052311   \n",
       "\n",
       "                                                    EBIT / total assets  \\\n",
       "net_profit/total_assets                                        0.422068   \n",
       "total_liabilities/total_assets                                -0.193355   \n",
       "working_capital/total_assets                                   0.087043   \n",
       "current_assets/short_term_liabilities                          0.001411   \n",
       "(cash+short_term_securities+receivables--short_...             0.004792   \n",
       "...                                                                 ...   \n",
       "sales / receivables                                            0.019879   \n",
       "short-term liabilities *365 / sales                           -0.000973   \n",
       "sales / short-term liabilities                                 0.007141   \n",
       "sales / fixed assets                                           0.192795   \n",
       "bankruptcy                                                    -0.012167   \n",
       "\n",
       "                                                    book value of equity / total liabilities  \\\n",
       "net_profit/total_assets                                                             0.002723   \n",
       "total_liabilities/total_assets                                                     -0.008611   \n",
       "working_capital/total_assets                                                        0.007717   \n",
       "current_assets/short_term_liabilities                                               0.191110   \n",
       "(cash+short_term_securities+receivables--short_...                                  0.002115   \n",
       "...                                                                                      ...   \n",
       "sales / receivables                                                                 0.001763   \n",
       "short-term liabilities *365 / sales                                                -0.001838   \n",
       "sales / short-term liabilities                                                      0.483255   \n",
       "sales / fixed assets                                                               -0.007892   \n",
       "bankruptcy                                                                         -0.000151   \n",
       "\n",
       "                                                    sales / total assets  \\\n",
       "net_profit/total_assets                                        -0.561938   \n",
       "total_liabilities/total_assets                                 -0.073338   \n",
       "working_capital/total_assets                                   -0.000664   \n",
       "current_assets/short_term_liabilities                          -0.000309   \n",
       "(cash+short_term_securities+receivables--short_...              0.003074   \n",
       "...                                                                  ...   \n",
       "sales / receivables                                             0.033857   \n",
       "short-term liabilities *365 / sales                            -0.000829   \n",
       "sales / short-term liabilities                                  0.005006   \n",
       "sales / fixed assets                                            0.255472   \n",
       "bankruptcy                                                     -0.007061   \n",
       "\n",
       "                                                    equity / total assets  \\\n",
       "net_profit/total_assets                                         -0.349011   \n",
       "total_liabilities/total_assets                                  -0.221383   \n",
       "working_capital/total_assets                                     0.155591   \n",
       "current_assets/short_term_liabilities                            0.001518   \n",
       "(cash+short_term_securities+receivables--short_...               0.008561   \n",
       "...                                                                   ...   \n",
       "sales / receivables                                              0.047310   \n",
       "short-term liabilities *365 / sales                             -0.001491   \n",
       "sales / short-term liabilities                                   0.007083   \n",
       "sales / fixed assets                                             0.318259   \n",
       "bankruptcy                                                      -0.018709   \n",
       "\n",
       "                                                    (gross profit + extraordinary items + financial expenses) / total assets  \\\n",
       "net_profit/total_assets                                                                      0.397935                          \n",
       "total_liabilities/total_assets                                                              -0.103102                          \n",
       "working_capital/total_assets                                                                -0.001076                          \n",
       "current_assets/short_term_liabilities                                                        0.001156                          \n",
       "(cash+short_term_securities+receivables--short_...                                           0.000176                          \n",
       "...                                                                                               ...                          \n",
       "sales / receivables                                                                          0.020196                          \n",
       "short-term liabilities *365 / sales                                                         -0.000605                          \n",
       "sales / short-term liabilities                                                               0.006395                          \n",
       "sales / fixed assets                                                                         0.200529                          \n",
       "bankruptcy                                                                                  -0.005865                          \n",
       "\n",
       "                                                    gross profit / short-term liabilities  \\\n",
       "net_profit/total_assets                                                          0.009048   \n",
       "total_liabilities/total_assets                                                  -0.010612   \n",
       "working_capital/total_assets                                                     0.009147   \n",
       "current_assets/short_term_liabilities                                            0.539527   \n",
       "(cash+short_term_securities+receivables--short_...                              -0.000036   \n",
       "...                                                                                   ...   \n",
       "sales / receivables                                                              0.050068   \n",
       "short-term liabilities *365 / sales                                             -0.002209   \n",
       "sales / short-term liabilities                                                   0.577043   \n",
       "sales / fixed assets                                                             0.016304   \n",
       "bankruptcy                                                                      -0.017331   \n",
       "\n",
       "                                                    (gross profit + depreciation) / sales  \\\n",
       "net_profit/total_assets                                                          0.000667   \n",
       "total_liabilities/total_assets                                                  -0.002873   \n",
       "working_capital/total_assets                                                     0.003570   \n",
       "current_assets/short_term_liabilities                                            0.084245   \n",
       "(cash+short_term_securities+receivables--short_...                              -0.000041   \n",
       "...                                                                                   ...   \n",
       "sales / receivables                                                             -0.000726   \n",
       "short-term liabilities *365 / sales                                              0.942309   \n",
       "sales / short-term liabilities                                                  -0.004995   \n",
       "sales / fixed assets                                                            -0.000500   \n",
       "bankruptcy                                                                      -0.002862   \n",
       "\n",
       "                                                    (gross profit + interest) / total assets  \\\n",
       "net_profit/total_assets                                                             0.422068   \n",
       "total_liabilities/total_assets                                                     -0.193355   \n",
       "working_capital/total_assets                                                        0.087043   \n",
       "current_assets/short_term_liabilities                                               0.001411   \n",
       "(cash+short_term_securities+receivables--short_...                                  0.004792   \n",
       "...                                                                                      ...   \n",
       "sales / receivables                                                                 0.019879   \n",
       "short-term liabilities *365 / sales                                                -0.000973   \n",
       "sales / short-term liabilities                                                      0.007141   \n",
       "sales / fixed assets                                                                0.192795   \n",
       "bankruptcy                                                                         -0.012167   \n",
       "\n",
       "                                                    (total liabilities * 365) / (gross profit + depreciation)  \\\n",
       "net_profit/total_assets                                                                      0.000146           \n",
       "total_liabilities/total_assets                                                               0.000332           \n",
       "working_capital/total_assets                                                                 0.000969           \n",
       "current_assets/short_term_liabilities                                                       -0.002369           \n",
       "(cash+short_term_securities+receivables--short_...                                          -0.446781           \n",
       "...                                                                                               ...           \n",
       "sales / receivables                                                                         -0.000618           \n",
       "short-term liabilities *365 / sales                                                          0.000812           \n",
       "sales / short-term liabilities                                                              -0.003283           \n",
       "sales / fixed assets                                                                        -0.000227           \n",
       "bankruptcy                                                                                   0.008643           \n",
       "\n",
       "                                                    (gross profit + depreciation) / total liabilities  \\\n",
       "net_profit/total_assets                                                                      0.008150   \n",
       "total_liabilities/total_assets                                                              -0.007249   \n",
       "working_capital/total_assets                                                                 0.008773   \n",
       "current_assets/short_term_liabilities                                                        0.156684   \n",
       "(cash+short_term_securities+receivables--short_...                                           0.001627   \n",
       "...                                                                                               ...   \n",
       "sales / receivables                                                                          0.003630   \n",
       "short-term liabilities *365 / sales                                                         -0.002217   \n",
       "sales / short-term liabilities                                                               0.598461   \n",
       "sales / fixed assets                                                                        -0.008121   \n",
       "bankruptcy                                                                                  -0.013809   \n",
       "\n",
       "                                                    total assets / total liabilities  \\\n",
       "net_profit/total_assets                                                     0.002620   \n",
       "total_liabilities/total_assets                                             -0.010606   \n",
       "working_capital/total_assets                                                0.007514   \n",
       "current_assets/short_term_liabilities                                       0.186979   \n",
       "(cash+short_term_securities+receivables--short_...                          0.002070   \n",
       "...                                                                              ...   \n",
       "sales / receivables                                                         0.001732   \n",
       "short-term liabilities *365 / sales                                        -0.001861   \n",
       "sales / short-term liabilities                                              0.477244   \n",
       "sales / fixed assets                                                       -0.000601   \n",
       "bankruptcy                                                                 -0.000183   \n",
       "\n",
       "                                                    gross profit / total assets  \\\n",
       "net_profit/total_assets                                                0.422068   \n",
       "total_liabilities/total_assets                                        -0.193355   \n",
       "working_capital/total_assets                                           0.087043   \n",
       "current_assets/short_term_liabilities                                  0.001411   \n",
       "(cash+short_term_securities+receivables--short_...                     0.004792   \n",
       "...                                                                         ...   \n",
       "sales / receivables                                                    0.019879   \n",
       "short-term liabilities *365 / sales                                   -0.000973   \n",
       "sales / short-term liabilities                                         0.007141   \n",
       "sales / fixed assets                                                   0.192795   \n",
       "bankruptcy                                                            -0.012167   \n",
       "\n",
       "                                                    gross profit / sales  \\\n",
       "net_profit/total_assets                                         0.003726   \n",
       "total_liabilities/total_assets                                 -0.017806   \n",
       "working_capital/total_assets                                    0.018683   \n",
       "current_assets/short_term_liabilities                           0.444004   \n",
       "(cash+short_term_securities+receivables--short_...             -0.000607   \n",
       "...                                                                  ...   \n",
       "sales / receivables                                            -0.000761   \n",
       "short-term liabilities *365 / sales                             0.738362   \n",
       "sales / short-term liabilities                                 -0.004836   \n",
       "sales / fixed assets                                           -0.000538   \n",
       "bankruptcy                                                     -0.004445   \n",
       "\n",
       "                                                    (inventory * 365) / sales  \\\n",
       "net_profit/total_assets                                             -0.000068   \n",
       "total_liabilities/total_assets                                       0.000656   \n",
       "working_capital/total_assets                                        -0.000018   \n",
       "current_assets/short_term_liabilities                               -0.001204   \n",
       "(cash+short_term_securities+receivables--short_...                   0.000094   \n",
       "...                                                                       ...   \n",
       "sales / receivables                                                 -0.000707   \n",
       "short-term liabilities *365 / sales                                  0.961081   \n",
       "sales / short-term liabilities                                      -0.004930   \n",
       "sales / fixed assets                                                -0.000460   \n",
       "bankruptcy                                                          -0.002395   \n",
       "\n",
       "                                                    sales (n) / sales (n-1)  \\\n",
       "net_profit/total_assets                                           -0.000244   \n",
       "total_liabilities/total_assets                                    -0.000585   \n",
       "working_capital/total_assets                                       0.000835   \n",
       "current_assets/short_term_liabilities                              0.005043   \n",
       "(cash+short_term_securities+receivables--short_...                -0.000078   \n",
       "...                                                                     ...   \n",
       "sales / receivables                                                0.000130   \n",
       "short-term liabilities *365 / sales                               -0.000001   \n",
       "sales / short-term liabilities                                     0.017160   \n",
       "sales / fixed assets                                              -0.000504   \n",
       "bankruptcy                                                        -0.003023   \n",
       "\n",
       "                                                    profit on operating activities / total assets  \\\n",
       "net_profit/total_assets                                                                  0.463856   \n",
       "total_liabilities/total_assets                                                          -0.106255   \n",
       "working_capital/total_assets                                                            -0.001170   \n",
       "current_assets/short_term_liabilities                                                    0.000893   \n",
       "(cash+short_term_securities+receivables--short_...                                       0.000132   \n",
       "...                                                                                           ...   \n",
       "sales / receivables                                                                      0.002507   \n",
       "short-term liabilities *365 / sales                                                     -0.000507   \n",
       "sales / short-term liabilities                                                           0.004021   \n",
       "sales / fixed assets                                                                     0.157197   \n",
       "bankruptcy                                                                              -0.005379   \n",
       "\n",
       "                                                    net profit / sales  \\\n",
       "net_profit/total_assets                                       0.003743   \n",
       "total_liabilities/total_assets                               -0.018350   \n",
       "working_capital/total_assets                                  0.019264   \n",
       "current_assets/short_term_liabilities                         0.394370   \n",
       "(cash+short_term_securities+receivables--short_...           -0.000352   \n",
       "...                                                                ...   \n",
       "sales / receivables                                          -0.000757   \n",
       "short-term liabilities *365 / sales                           0.759430   \n",
       "sales / short-term liabilities                               -0.004565   \n",
       "sales / fixed assets                                         -0.000583   \n",
       "bankruptcy                                                   -0.004350   \n",
       "\n",
       "                                                    gross profit (in 3 years) / total assets  \\\n",
       "net_profit/total_assets                                                             0.265090   \n",
       "total_liabilities/total_assets                                                     -0.176279   \n",
       "working_capital/total_assets                                                        0.054339   \n",
       "current_assets/short_term_liabilities                                               0.001540   \n",
       "(cash+short_term_securities+receivables--short_...                                  0.003048   \n",
       "...                                                                                      ...   \n",
       "sales / receivables                                                                 0.003479   \n",
       "short-term liabilities *365 / sales                                                -0.000880   \n",
       "sales / short-term liabilities                                                      0.004135   \n",
       "sales / fixed assets                                                                0.195098   \n",
       "bankruptcy                                                                         -0.010804   \n",
       "\n",
       "                                                    (equity - share capital) / total assets  \\\n",
       "net_profit/total_assets                                                           -0.646808   \n",
       "total_liabilities/total_assets                                                    -0.195784   \n",
       "working_capital/total_assets                                                       0.189622   \n",
       "current_assets/short_term_liabilities                                              0.001631   \n",
       "(cash+short_term_securities+receivables--short_...                                 0.010265   \n",
       "...                                                                                     ...   \n",
       "sales / receivables                                                                0.029637   \n",
       "short-term liabilities *365 / sales                                               -0.001536   \n",
       "sales / short-term liabilities                                                     0.004498   \n",
       "sales / fixed assets                                                               0.229096   \n",
       "bankruptcy                                                                        -0.019282   \n",
       "\n",
       "                                                    (net profit + depreciation) / total liabilities  \\\n",
       "net_profit/total_assets                                                                    0.005708   \n",
       "total_liabilities/total_assets                                                            -0.007001   \n",
       "working_capital/total_assets                                                               0.005629   \n",
       "current_assets/short_term_liabilities                                                      0.127889   \n",
       "(cash+short_term_securities+receivables--short_...                                         0.001166   \n",
       "...                                                                                             ...   \n",
       "sales / receivables                                                                        0.002885   \n",
       "short-term liabilities *365 / sales                                                       -0.001519   \n",
       "sales / short-term liabilities                                                             0.514491   \n",
       "sales / fixed assets                                                                      -0.000765   \n",
       "bankruptcy                                                                                -0.010476   \n",
       "\n",
       "                                                    profit on operating activities / financial expenses  \\\n",
       "net_profit/total_assets                                                                      0.008489     \n",
       "total_liabilities/total_assets                                                              -0.005002     \n",
       "working_capital/total_assets                                                                 0.002852     \n",
       "current_assets/short_term_liabilities                                                        0.016866     \n",
       "(cash+short_term_securities+receivables--short_...                                          -0.000024     \n",
       "...                                                                                               ...     \n",
       "sales / receivables                                                                          0.001607     \n",
       "short-term liabilities *365 / sales                                                         -0.000143     \n",
       "sales / short-term liabilities                                                               0.044255     \n",
       "sales / fixed assets                                                                         0.001026     \n",
       "bankruptcy                                                                                  -0.003500     \n",
       "\n",
       "                                                    working capital / fixed assets  \\\n",
       "net_profit/total_assets                                                   0.004435   \n",
       "total_liabilities/total_assets                                           -0.003191   \n",
       "working_capital/total_assets                                              0.009709   \n",
       "current_assets/short_term_liabilities                                     0.017343   \n",
       "(cash+short_term_securities+receivables--short_...                       -0.000412   \n",
       "...                                                                            ...   \n",
       "sales / receivables                                                      -0.208111   \n",
       "short-term liabilities *365 / sales                                      -0.001462   \n",
       "sales / short-term liabilities                                           -0.014871   \n",
       "sales / fixed assets                                                     -0.051690   \n",
       "bankruptcy                                                               -0.013426   \n",
       "\n",
       "                                                    logarithm of total assets  \\\n",
       "net_profit/total_assets                                              0.087485   \n",
       "total_liabilities/total_assets                                      -0.050353   \n",
       "working_capital/total_assets                                         0.053899   \n",
       "current_assets/short_term_liabilities                               -0.004099   \n",
       "(cash+short_term_securities+receivables--short_...                  -0.002675   \n",
       "...                                                                       ...   \n",
       "sales / receivables                                                 -0.054593   \n",
       "short-term liabilities *365 / sales                                 -0.015799   \n",
       "sales / short-term liabilities                                      -0.129555   \n",
       "sales / fixed assets                                                -0.120612   \n",
       "bankruptcy                                                          -0.041748   \n",
       "\n",
       "                                                    (total liabilities - cash) / sales  \\\n",
       "net_profit/total_assets                                                      -0.000417   \n",
       "total_liabilities/total_assets                                                0.002882   \n",
       "working_capital/total_assets                                                 -0.002307   \n",
       "current_assets/short_term_liabilities                                         0.002760   \n",
       "(cash+short_term_securities+receivables--short_...                           -0.000961   \n",
       "...                                                                                ...   \n",
       "sales / receivables                                                          -0.000768   \n",
       "short-term liabilities *365 / sales                                           0.975288   \n",
       "sales / short-term liabilities                                               -0.005232   \n",
       "sales / fixed assets                                                         -0.000523   \n",
       "bankruptcy                                                                   -0.002392   \n",
       "\n",
       "                                                    (gross profit + interest) / sales  \\\n",
       "net_profit/total_assets                                                      0.003745   \n",
       "total_liabilities/total_assets                                              -0.017816   \n",
       "working_capital/total_assets                                                 0.018690   \n",
       "current_assets/short_term_liabilities                                        0.444029   \n",
       "(cash+short_term_securities+receivables--short_...                          -0.000603   \n",
       "...                                                                               ...   \n",
       "sales / receivables                                                         -0.000728   \n",
       "short-term liabilities *365 / sales                                          0.738337   \n",
       "sales / short-term liabilities                                              -0.004858   \n",
       "sales / fixed assets                                                        -0.000511   \n",
       "bankruptcy                                                                  -0.004414   \n",
       "\n",
       "                                                    (current liabilities * 365) / cost of products sold  \\\n",
       "net_profit/total_assets                                                                     -0.138953     \n",
       "total_liabilities/total_assets                                                               0.856247     \n",
       "working_capital/total_assets                                                                -0.867610     \n",
       "current_assets/short_term_liabilities                                                        0.032585     \n",
       "(cash+short_term_securities+receivables--short_...                                          -0.153626     \n",
       "...                                                                                               ...     \n",
       "sales / receivables                                                                         -0.000856     \n",
       "short-term liabilities *365 / sales                                                          0.011125     \n",
       "sales / short-term liabilities                                                              -0.011519     \n",
       "sales / fixed assets                                                                        -0.001359     \n",
       "bankruptcy                                                                                   0.050337     \n",
       "\n",
       "                                                    operating expenses / short-term liabilities  \\\n",
       "net_profit/total_assets                                                                0.007183   \n",
       "total_liabilities/total_assets                                                        -0.017299   \n",
       "working_capital/total_assets                                                           0.015944   \n",
       "current_assets/short_term_liabilities                                                  0.257302   \n",
       "(cash+short_term_securities+receivables--short_...                                     0.005353   \n",
       "...                                                                                         ...   \n",
       "sales / receivables                                                                    0.118857   \n",
       "short-term liabilities *365 / sales                                                    0.004515   \n",
       "sales / short-term liabilities                                                         0.970138   \n",
       "sales / fixed assets                                                                   0.037163   \n",
       "bankruptcy                                                                             0.013933   \n",
       "\n",
       "                                                    operating expenses / total liabilities  \\\n",
       "net_profit/total_assets                                                           0.006753   \n",
       "total_liabilities/total_assets                                                   -0.003286   \n",
       "working_capital/total_assets                                                      0.010735   \n",
       "current_assets/short_term_liabilities                                             0.249260   \n",
       "(cash+short_term_securities+receivables--short_...                                0.003474   \n",
       "...                                                                                    ...   \n",
       "sales / receivables                                                               0.007186   \n",
       "short-term liabilities *365 / sales                                               0.001476   \n",
       "sales / short-term liabilities                                                    0.884440   \n",
       "sales / fixed assets                                                             -0.017506   \n",
       "bankruptcy                                                                        0.027678   \n",
       "\n",
       "                                                    profit on sales / total assets  \\\n",
       "net_profit/total_assets                                                  -0.059102   \n",
       "total_liabilities/total_assets                                           -0.114210   \n",
       "working_capital/total_assets                                             -0.002147   \n",
       "current_assets/short_term_liabilities                                     0.000915   \n",
       "(cash+short_term_securities+receivables--short_...                        0.000116   \n",
       "...                                                                            ...   \n",
       "sales / receivables                                                       0.007180   \n",
       "short-term liabilities *365 / sales                                      -0.000592   \n",
       "sales / short-term liabilities                                            0.004973   \n",
       "sales / fixed assets                                                      0.169217   \n",
       "bankruptcy                                                               -0.006580   \n",
       "\n",
       "                                                    total sales / total assets  \\\n",
       "net_profit/total_assets                                              -0.561856   \n",
       "total_liabilities/total_assets                                       -0.073245   \n",
       "working_capital/total_assets                                         -0.000753   \n",
       "current_assets/short_term_liabilities                                -0.000592   \n",
       "(cash+short_term_securities+receivables--short_...                    0.000587   \n",
       "...                                                                        ...   \n",
       "sales / receivables                                                   0.033991   \n",
       "short-term liabilities *365 / sales                                  -0.000880   \n",
       "sales / short-term liabilities                                        0.005469   \n",
       "sales / fixed assets                                                  0.255397   \n",
       "bankruptcy                                                           -0.006869   \n",
       "\n",
       "                                                    (current assets - inventories) / long-term liabilities  \\\n",
       "net_profit/total_assets                                                                     -0.000052        \n",
       "total_liabilities/total_assets                                                              -0.001237        \n",
       "working_capital/total_assets                                                                 0.000299        \n",
       "current_assets/short_term_liabilities                                                        0.000473        \n",
       "(cash+short_term_securities+receivables--short_...                                          -0.000079        \n",
       "...                                                                                               ...        \n",
       "sales / receivables                                                                         -0.000939        \n",
       "short-term liabilities *365 / sales                                                         -0.000401        \n",
       "sales / short-term liabilities                                                              -0.000503        \n",
       "sales / fixed assets                                                                        -0.000658        \n",
       "bankruptcy                                                                                  -0.003060        \n",
       "\n",
       "                                                    constant capital / total assets  \\\n",
       "net_profit/total_assets                                                   -0.349053   \n",
       "total_liabilities/total_assets                                            -0.221321   \n",
       "working_capital/total_assets                                               0.155586   \n",
       "current_assets/short_term_liabilities                                      0.001400   \n",
       "(cash+short_term_securities+receivables--short_...                         0.008625   \n",
       "...                                                                             ...   \n",
       "sales / receivables                                                        0.048265   \n",
       "short-term liabilities *365 / sales                                       -0.001365   \n",
       "sales / short-term liabilities                                             0.006984   \n",
       "sales / fixed assets                                                       0.318646   \n",
       "bankruptcy                                                                -0.018670   \n",
       "\n",
       "                                                    profit on sales / sales  \\\n",
       "net_profit/total_assets                                            0.000634   \n",
       "total_liabilities/total_assets                                     0.001318   \n",
       "working_capital/total_assets                                      -0.000625   \n",
       "current_assets/short_term_liabilities                             -0.000059   \n",
       "(cash+short_term_securities+receivables--short_...                 0.000258   \n",
       "...                                                                     ...   \n",
       "sales / receivables                                               -0.000459   \n",
       "short-term liabilities *365 / sales                                0.826316   \n",
       "sales / short-term liabilities                                    -0.002704   \n",
       "sales / fixed assets                                              -0.000336   \n",
       "bankruptcy                                                        -0.001853   \n",
       "\n",
       "                                                    (current assets - inventory - receivables) / short-term liabilities  \\\n",
       "net_profit/total_assets                                                                      0.000970                     \n",
       "total_liabilities/total_assets                                                              -0.004537                     \n",
       "working_capital/total_assets                                                                 0.005336                     \n",
       "current_assets/short_term_liabilities                                                        0.970127                     \n",
       "(cash+short_term_securities+receivables--short_...                                          -0.002968                     \n",
       "...                                                                                               ...                     \n",
       "sales / receivables                                                                         -0.093300                     \n",
       "short-term liabilities *365 / sales                                                         -0.000677                     \n",
       "sales / short-term liabilities                                                               0.101987                     \n",
       "sales / fixed assets                                                                        -0.032320                     \n",
       "bankruptcy                                                                                   0.010319                     \n",
       "\n",
       "                                                    total liabilities / ((profit on operating activities + depreciation) * (12/365))  \\\n",
       "net_profit/total_assets                                                                     -0.005399                                  \n",
       "total_liabilities/total_assets                                                               0.039238                                  \n",
       "working_capital/total_assets                                                                -0.038764                                  \n",
       "current_assets/short_term_liabilities                                                       -0.002635                                  \n",
       "(cash+short_term_securities+receivables--short_...                                          -0.251103                                  \n",
       "...                                                                                               ...                                  \n",
       "sales / receivables                                                                         -0.001548                                  \n",
       "short-term liabilities *365 / sales                                                          0.000193                                  \n",
       "sales / short-term liabilities                                                              -0.007352                                  \n",
       "sales / fixed assets                                                                        -0.001522                                  \n",
       "bankruptcy                                                                                  -0.006034                                  \n",
       "\n",
       "                                                    profit on operating activities / sales  \\\n",
       "net_profit/total_assets                                                           0.000724   \n",
       "total_liabilities/total_assets                                                    0.001164   \n",
       "working_capital/total_assets                                                     -0.000468   \n",
       "current_assets/short_term_liabilities                                            -0.014574   \n",
       "(cash+short_term_securities+receivables--short_...                                0.000321   \n",
       "...                                                                                    ...   \n",
       "sales / receivables                                                              -0.000453   \n",
       "short-term liabilities *365 / sales                                               0.826233   \n",
       "sales / short-term liabilities                                                   -0.002607   \n",
       "sales / fixed assets                                                             -0.000327   \n",
       "bankruptcy                                                                       -0.001840   \n",
       "\n",
       "                                                    rotation receivables + inventory turnover in days  \\\n",
       "net_profit/total_assets                                                                     -0.000066   \n",
       "total_liabilities/total_assets                                                               0.000668   \n",
       "working_capital/total_assets                                                                -0.000044   \n",
       "current_assets/short_term_liabilities                                                       -0.000980   \n",
       "(cash+short_term_securities+receivables--short_...                                          -0.000228   \n",
       "...                                                                                               ...   \n",
       "sales / receivables                                                                         -0.000744   \n",
       "short-term liabilities *365 / sales                                                          0.968191   \n",
       "sales / short-term liabilities                                                              -0.005059   \n",
       "sales / fixed assets                                                                        -0.000502   \n",
       "bankruptcy                                                                                  -0.002470   \n",
       "\n",
       "                                                    (receivables * 365) / sales  \\\n",
       "net_profit/total_assets                                               -0.000066   \n",
       "total_liabilities/total_assets                                         0.000673   \n",
       "working_capital/total_assets                                          -0.000053   \n",
       "current_assets/short_term_liabilities                                 -0.000902   \n",
       "(cash+short_term_securities+receivables--short_...                    -0.000340   \n",
       "...                                                                         ...   \n",
       "sales / receivables                                                   -0.000756   \n",
       "short-term liabilities *365 / sales                                    0.970483   \n",
       "sales / short-term liabilities                                        -0.005102   \n",
       "sales / fixed assets                                                  -0.000516   \n",
       "bankruptcy                                                            -0.002495   \n",
       "\n",
       "                                                    net profit / inventory  \\\n",
       "net_profit/total_assets                                           0.001045   \n",
       "total_liabilities/total_assets                                   -0.002779   \n",
       "working_capital/total_assets                                      0.003259   \n",
       "current_assets/short_term_liabilities                             0.002749   \n",
       "(cash+short_term_securities+receivables--short_...                0.000279   \n",
       "...                                                                    ...   \n",
       "sales / receivables                                               0.000430   \n",
       "short-term liabilities *365 / sales                               0.000122   \n",
       "sales / short-term liabilities                                    0.004413   \n",
       "sales / fixed assets                                              0.000413   \n",
       "bankruptcy                                                        0.002631   \n",
       "\n",
       "                                                    (current assets - inventory) / short-term liabilities  \\\n",
       "net_profit/total_assets                                                                      0.002038       \n",
       "total_liabilities/total_assets                                                              -0.007626       \n",
       "working_capital/total_assets                                                                 0.008825       \n",
       "current_assets/short_term_liabilities                                                        0.988125       \n",
       "(cash+short_term_securities+receivables--short_...                                          -0.001557       \n",
       "...                                                                                               ...       \n",
       "sales / receivables                                                                         -0.093147       \n",
       "short-term liabilities *365 / sales                                                         -0.001030       \n",
       "sales / short-term liabilities                                                               0.183240       \n",
       "sales / fixed assets                                                                        -0.031828       \n",
       "bankruptcy                                                                                   0.005637       \n",
       "\n",
       "                                                    (inventory * 365) / cost of products sold  \\\n",
       "net_profit/total_assets                                                              0.000051   \n",
       "total_liabilities/total_assets                                                      -0.000523   \n",
       "working_capital/total_assets                                                         0.001652   \n",
       "current_assets/short_term_liabilities                                                0.000124   \n",
       "(cash+short_term_securities+receivables--short_...                                   0.014904   \n",
       "...                                                                                       ...   \n",
       "sales / receivables                                                                  0.005771   \n",
       "short-term liabilities *365 / sales                                                 -0.000962   \n",
       "sales / short-term liabilities                                                      -0.005574   \n",
       "sales / fixed assets                                                                 0.003727   \n",
       "bankruptcy                                                                          -0.006869   \n",
       "\n",
       "                                                    EBITDA (profit on operating activities - depreciation) / total assets  \\\n",
       "net_profit/total_assets                                                                      0.490985                       \n",
       "total_liabilities/total_assets                                                              -0.100451                       \n",
       "working_capital/total_assets                                                                -0.001388                       \n",
       "current_assets/short_term_liabilities                                                        0.001278                       \n",
       "(cash+short_term_securities+receivables--short_...                                           0.000014                       \n",
       "...                                                                                               ...                       \n",
       "sales / receivables                                                                         -0.065716                       \n",
       "short-term liabilities *365 / sales                                                         -0.000359                       \n",
       "sales / short-term liabilities                                                              -0.003956                       \n",
       "sales / fixed assets                                                                         0.062379                       \n",
       "bankruptcy                                                                                  -0.003164                       \n",
       "\n",
       "                                                    EBITDA (profit on operating activities - depreciation) / sales  \\\n",
       "net_profit/total_assets                                                                      0.000253                \n",
       "total_liabilities/total_assets                                                              -0.000514                \n",
       "working_capital/total_assets                                                                -0.000095                \n",
       "current_assets/short_term_liabilities                                                       -0.002245                \n",
       "(cash+short_term_securities+receivables--short_...                                          -0.000032                \n",
       "...                                                                                               ...                \n",
       "sales / receivables                                                                          0.000746                \n",
       "short-term liabilities *365 / sales                                                         -0.979281                \n",
       "sales / short-term liabilities                                                               0.005374                \n",
       "sales / fixed assets                                                                         0.000506                \n",
       "bankruptcy                                                                                   0.002517                \n",
       "\n",
       "                                                    current assets / total liabilities  \\\n",
       "net_profit/total_assets                                                       0.006183   \n",
       "total_liabilities/total_assets                                               -0.020641   \n",
       "working_capital/total_assets                                                  0.022846   \n",
       "current_assets/short_term_liabilities                                         0.400056   \n",
       "(cash+short_term_securities+receivables--short_...                            0.005049   \n",
       "...                                                                                ...   \n",
       "sales / receivables                                                          -0.000365   \n",
       "short-term liabilities *365 / sales                                          -0.004383   \n",
       "sales / short-term liabilities                                                0.652105   \n",
       "sales / fixed assets                                                         -0.000318   \n",
       "bankruptcy                                                                    0.021968   \n",
       "\n",
       "                                                    short-term liabilities / total assets  \\\n",
       "net_profit/total_assets                                                         -0.158139   \n",
       "total_liabilities/total_assets                                                   0.986503   \n",
       "working_capital/total_assets                                                    -0.999136   \n",
       "current_assets/short_term_liabilities                                           -0.009203   \n",
       "(cash+short_term_securities+receivables--short_...                              -0.053357   \n",
       "...                                                                                   ...   \n",
       "sales / receivables                                                             -0.000965   \n",
       "short-term liabilities *365 / sales                                              0.004736   \n",
       "sales / short-term liabilities                                                  -0.015917   \n",
       "sales / fixed assets                                                            -0.002249   \n",
       "bankruptcy                                                                       0.064745   \n",
       "\n",
       "                                                    (short-term liabilities * 365) / cost of products sold)  \\\n",
       "net_profit/total_assets                                                                     -0.100931         \n",
       "total_liabilities/total_assets                                                               0.628821         \n",
       "working_capital/total_assets                                                                -0.637061         \n",
       "current_assets/short_term_liabilities                                                        0.017211         \n",
       "(cash+short_term_securities+receivables--short_...                                          -0.201288         \n",
       "...                                                                                               ...         \n",
       "sales / receivables                                                                         -0.000909         \n",
       "short-term liabilities *365 / sales                                                          0.014007         \n",
       "sales / short-term liabilities                                                              -0.014569         \n",
       "sales / fixed assets                                                                        -0.002155         \n",
       "bankruptcy                                                                                   0.034022         \n",
       "\n",
       "                                                    equity / fixed assets  \\\n",
       "net_profit/total_assets                                         -0.008067   \n",
       "total_liabilities/total_assets                                  -0.011803   \n",
       "working_capital/total_assets                                    -0.001067   \n",
       "current_assets/short_term_liabilities                           -0.000503   \n",
       "(cash+short_term_securities+receivables--short_...              -0.000141   \n",
       "...                                                                   ...   \n",
       "sales / receivables                                              0.343764   \n",
       "short-term liabilities *365 / sales                             -0.000539   \n",
       "sales / short-term liabilities                                   0.055450   \n",
       "sales / fixed assets                                             0.973310   \n",
       "bankruptcy                                                      -0.006905   \n",
       "\n",
       "                                                    constant capital / fixed assets  \\\n",
       "net_profit/total_assets                                                   -0.008050   \n",
       "total_liabilities/total_assets                                            -0.011754   \n",
       "working_capital/total_assets                                              -0.001080   \n",
       "current_assets/short_term_liabilities                                     -0.000533   \n",
       "(cash+short_term_securities+receivables--short_...                        -0.000141   \n",
       "...                                                                             ...   \n",
       "sales / receivables                                                        0.354808   \n",
       "short-term liabilities *365 / sales                                       -0.000538   \n",
       "sales / short-term liabilities                                             0.057415   \n",
       "sales / fixed assets                                                       0.973437   \n",
       "bankruptcy                                                                -0.006903   \n",
       "\n",
       "                                                    working capital  \\\n",
       "net_profit/total_assets                                    0.002983   \n",
       "total_liabilities/total_assets                            -0.009709   \n",
       "working_capital/total_assets                               0.010827   \n",
       "current_assets/short_term_liabilities                      0.021735   \n",
       "(cash+short_term_securities+receivables--short_...         0.002820   \n",
       "...                                                             ...   \n",
       "sales / receivables                                       -0.003867   \n",
       "short-term liabilities *365 / sales                       -0.005743   \n",
       "sales / short-term liabilities                             0.010694   \n",
       "sales / fixed assets                                      -0.004461   \n",
       "bankruptcy                                                -0.022040   \n",
       "\n",
       "                                                    (sales - cost of products sold) / sales  \\\n",
       "net_profit/total_assets                                                            0.000061   \n",
       "total_liabilities/total_assets                                                    -0.000655   \n",
       "working_capital/total_assets                                                       0.000019   \n",
       "current_assets/short_term_liabilities                                              0.001198   \n",
       "(cash+short_term_securities+receivables--short_...                                -0.000091   \n",
       "...                                                                                     ...   \n",
       "sales / receivables                                                                0.000716   \n",
       "short-term liabilities *365 / sales                                               -0.960360   \n",
       "sales / short-term liabilities                                                     0.004864   \n",
       "sales / fixed assets                                                               0.000486   \n",
       "bankruptcy                                                                         0.002390   \n",
       "\n",
       "                                                    (current assets - inventory - short-term liabilities) / (sales - gross profit - depreciation)  \\\n",
       "net_profit/total_assets                                                                      0.004398                                               \n",
       "total_liabilities/total_assets                                                              -0.000743                                               \n",
       "working_capital/total_assets                                                                 0.002130                                               \n",
       "current_assets/short_term_liabilities                                                        0.001944                                               \n",
       "(cash+short_term_securities+receivables--short_...                                           0.000274                                               \n",
       "...                                                                                               ...                                               \n",
       "sales / receivables                                                                          0.001100                                               \n",
       "short-term liabilities *365 / sales                                                         -0.000528                                               \n",
       "sales / short-term liabilities                                                               0.009670                                               \n",
       "sales / fixed assets                                                                        -0.001641                                               \n",
       "bankruptcy                                                                                  -0.060032                                               \n",
       "\n",
       "                                                    total costs /total sales  \\\n",
       "net_profit/total_assets                                            -0.000061   \n",
       "total_liabilities/total_assets                                      0.000656   \n",
       "working_capital/total_assets                                       -0.000019   \n",
       "current_assets/short_term_liabilities                              -0.001198   \n",
       "(cash+short_term_securities+receivables--short_...                  0.000091   \n",
       "...                                                                      ...   \n",
       "sales / receivables                                                -0.000716   \n",
       "short-term liabilities *365 / sales                                 0.960360   \n",
       "sales / short-term liabilities                                     -0.004864   \n",
       "sales / fixed assets                                               -0.000486   \n",
       "bankruptcy                                                         -0.002389   \n",
       "\n",
       "                                                    long-term liabilities / equity  \\\n",
       "net_profit/total_assets                                                   0.000287   \n",
       "total_liabilities/total_assets                                            0.000979   \n",
       "working_capital/total_assets                                             -0.001116   \n",
       "current_assets/short_term_liabilities                                    -0.005647   \n",
       "(cash+short_term_securities+receivables--short_...                        0.004470   \n",
       "...                                                                            ...   \n",
       "sales / receivables                                                      -0.001566   \n",
       "short-term liabilities *365 / sales                                       0.005322   \n",
       "sales / short-term liabilities                                           -0.011143   \n",
       "sales / fixed assets                                                     -0.001673   \n",
       "bankruptcy                                                                0.002221   \n",
       "\n",
       "                                                    sales / inventory  \\\n",
       "net_profit/total_assets                                     -0.000375   \n",
       "total_liabilities/total_assets                              -0.000016   \n",
       "working_capital/total_assets                                -0.000331   \n",
       "current_assets/short_term_liabilities                       -0.001037   \n",
       "(cash+short_term_securities+receivables--short_...          -0.000084   \n",
       "...                                                               ...   \n",
       "sales / receivables                                         -0.000576   \n",
       "short-term liabilities *365 / sales                         -0.000248   \n",
       "sales / short-term liabilities                              -0.001391   \n",
       "sales / fixed assets                                        -0.000581   \n",
       "bankruptcy                                                  -0.002419   \n",
       "\n",
       "                                                    sales / receivables  \\\n",
       "net_profit/total_assets                                        0.001564   \n",
       "total_liabilities/total_assets                                -0.002337   \n",
       "working_capital/total_assets                                  -0.001286   \n",
       "current_assets/short_term_liabilities                         -0.002943   \n",
       "(cash+short_term_securities+receivables--short_...            -0.000168   \n",
       "...                                                                 ...   \n",
       "sales / receivables                                            1.000000   \n",
       "short-term liabilities *365 / sales                           -0.000907   \n",
       "sales / short-term liabilities                                 0.175777   \n",
       "sales / fixed assets                                           0.360567   \n",
       "bankruptcy                                                    -0.002534   \n",
       "\n",
       "                                                    short-term liabilities *365 / sales  \\\n",
       "net_profit/total_assets                                                       -0.000848   \n",
       "total_liabilities/total_assets                                                 0.005456   \n",
       "working_capital/total_assets                                                  -0.005054   \n",
       "current_assets/short_term_liabilities                                         -0.001617   \n",
       "(cash+short_term_securities+receivables--short_...                            -0.002224   \n",
       "...                                                                                 ...   \n",
       "sales / receivables                                                           -0.000907   \n",
       "short-term liabilities *365 / sales                                            1.000000   \n",
       "sales / short-term liabilities                                                -0.006185   \n",
       "sales / fixed assets                                                          -0.000619   \n",
       "bankruptcy                                                                    -0.002679   \n",
       "\n",
       "                                                    sales / short-term liabilities  \\\n",
       "net_profit/total_assets                                                   0.008405   \n",
       "total_liabilities/total_assets                                           -0.017717   \n",
       "working_capital/total_assets                                              0.016151   \n",
       "current_assets/short_term_liabilities                                     0.259509   \n",
       "(cash+short_term_securities+receivables--short_...                        0.005441   \n",
       "...                                                                            ...   \n",
       "sales / receivables                                                       0.175777   \n",
       "short-term liabilities *365 / sales                                      -0.006185   \n",
       "sales / short-term liabilities                                            1.000000   \n",
       "sales / fixed assets                                                      0.057150   \n",
       "bankruptcy                                                                0.004930   \n",
       "\n",
       "                                                    sales / fixed assets  \\\n",
       "net_profit/total_assets                                        -0.040623   \n",
       "total_liabilities/total_assets                                 -0.018571   \n",
       "working_capital/total_assets                                   -0.001372   \n",
       "current_assets/short_term_liabilities                          -0.000712   \n",
       "(cash+short_term_securities+receivables--short_...              0.000105   \n",
       "...                                                                  ...   \n",
       "sales / receivables                                             0.360567   \n",
       "short-term liabilities *365 / sales                            -0.000619   \n",
       "sales / short-term liabilities                                  0.057150   \n",
       "sales / fixed assets                                            1.000000   \n",
       "bankruptcy                                                     -0.007120   \n",
       "\n",
       "                                                    bankruptcy  \n",
       "net_profit/total_assets                              -0.010643  \n",
       "total_liabilities/total_assets                        0.065150  \n",
       "working_capital/total_assets                         -0.065102  \n",
       "current_assets/short_term_liabilities                 0.008070  \n",
       "(cash+short_term_securities+receivables--short_...   -0.002013  \n",
       "...                                                        ...  \n",
       "sales / receivables                                  -0.002534  \n",
       "short-term liabilities *365 / sales                  -0.002679  \n",
       "sales / short-term liabilities                        0.004930  \n",
       "sales / fixed assets                                 -0.007120  \n",
       "bankruptcy                                            1.000000  \n",
       "\n",
       "[65 rows x 65 columns]"
      ]
     },
     "execution_count": 144,
     "metadata": {},
     "output_type": "execute_result"
    }
   ],
   "source": [
    "pd.set_option('display.max_rows', 10)\n",
    "\n",
    "pd.set_option('display.max_columns', None)\n",
    "df1.corr()\n",
    "#pd.set_option('display.max_columns', 10)"
   ]
  },
  {
   "cell_type": "code",
   "execution_count": 147,
   "id": "00e2916f-2dab-4438-a5b5-b4797de49285",
   "metadata": {},
   "outputs": [
    {
     "name": "stdout",
     "output_type": "stream",
     "text": [
      "bankruptcy\n",
      "0    0.490426\n",
      "1    2.300058\n",
      "Name: total_liabilities/total_assets, dtype: float64\n"
     ]
    }
   ],
   "source": [
    "#trying to groupby 1's and 0's of column 65 (bankrupt T or F)\n",
    "G65 = df1['total_liabilities/total_assets'].groupby(df1['bankruptcy']).mean()\n",
    "print(G65)"
   ]
  },
  {
   "cell_type": "code",
   "execution_count": 149,
   "id": "b0f802fd",
   "metadata": {
    "scrolled": true
   },
   "outputs": [
    {
     "data": {
      "text/plain": [
       "<AxesSubplot:xlabel='bankruptcy'>"
      ]
     },
     "execution_count": 149,
     "metadata": {},
     "output_type": "execute_result"
    },
    {
     "data": {
      "image/png": "[encoded data removed]",
      "text/plain": [
       "<Figure size 432x288 with 1 Axes>"
      ]
     },
     "metadata": {
      "needs_background": "light"
     },
     "output_type": "display_data"
    }
   ],
   "source": [
    "#Comparing means of 1's and 0's using column 2 data\n",
    "G65.plot(kind='bar')"
   ]
  },
  {
   "cell_type": "code",
   "execution_count": 152,
   "id": "b15be118",
   "metadata": {},
   "outputs": [],
   "source": [
    "#Compares the means of bankrupt/ not bankrupt by column x\n",
    "\n",
    "def plotMean(column):\n",
    "    \n",
    "    column = str(column)\n",
    "    \n",
    "    G65 = df1[column].groupby(df1['bankruptcy']).mean()\n",
    "    \n",
    "    return G65.plot(kind='bar', xlabel= 'Bankrupt (F/T)', ylabel = column)\n"
   ]
  },
  {
   "cell_type": "code",
   "execution_count": 153,
   "id": "17caf5bc",
   "metadata": {},
   "outputs": [
    {
     "data": {
      "text/plain": [
       "<AxesSubplot:xlabel='Bankrupt (F/T)', ylabel='total_liabilities/total_assets'>"
      ]
     },
     "execution_count": 153,
     "metadata": {},
     "output_type": "execute_result"
    },
    {
     "data": {
      "image/png": "[encoded data removed]",
      "text/plain": [
       "<Figure size 432x288 with 1 Axes>"
      ]
     },
     "metadata": {
      "needs_background": "light"
     },
     "output_type": "display_data"
    }
   ],
   "source": [
    "plotMean(a[1])"
   ]
  },
  {
   "cell_type": "code",
   "execution_count": 154,
   "id": "f8d2d085",
   "metadata": {},
   "outputs": [
    {
     "data": {
      "text/plain": [
       "<AxesSubplot:xlabel='Bankrupt (F/T)', ylabel='current_assets/short_term_liabilities'>"
      ]
     },
     "execution_count": 154,
     "metadata": {},
     "output_type": "execute_result"
    },
    {
     "data": {
      "image/png": "[encoded data removed]",
      "text/plain": [
       "<Figure size 432x288 with 1 Axes>"
      ]
     },
     "metadata": {
      "needs_background": "light"
     },
     "output_type": "display_data"
    }
   ],
   "source": [
    "plotMean(a[3])"
   ]
  },
  {
   "cell_type": "code",
   "execution_count": 155,
   "id": "dea0788f",
   "metadata": {},
   "outputs": [
    {
     "data": {
      "text/plain": [
       "<AxesSubplot:xlabel='Bankrupt (F/T)', ylabel='retained earnings / total assets'>"
      ]
     },
     "execution_count": 155,
     "metadata": {},
     "output_type": "execute_result"
    },
    {
     "data": {
      "image/png": "[encoded data removed]",
      "text/plain": [
       "<Figure size 432x288 with 1 Axes>"
      ]
     },
     "metadata": {
      "needs_background": "light"
     },
     "output_type": "display_data"
    }
   ],
   "source": [
    "plotMean(a[5])"
   ]
  },
  {
   "cell_type": "code",
   "execution_count": 156,
   "id": "56e5cfde",
   "metadata": {},
   "outputs": [
    {
     "data": {
      "text/plain": [
       "<AxesSubplot:xlabel='Bankrupt (F/T)', ylabel='EBIT / total assets'>"
      ]
     },
     "execution_count": 156,
     "metadata": {},
     "output_type": "execute_result"
    },
    {
     "data": {
      "image/png": "[encoded data removed]",
      "text/plain": [
       "<Figure size 432x288 with 1 Axes>"
      ]
     },
     "metadata": {
      "needs_background": "light"
     },
     "output_type": "display_data"
    }
   ],
   "source": [
    "plotMean(a[6])"
   ]
  },
  {
   "cell_type": "code",
   "execution_count": 58,
   "id": "14542890",
   "metadata": {},
   "outputs": [
    {
     "data": {
      "text/plain": [
       "<AxesSubplot:xlabel='Bankrupt (F/T)', ylabel='7'>"
      ]
     },
     "execution_count": 58,
     "metadata": {},
     "output_type": "execute_result"
    },
    {
     "data": {
      "image/png": "[encoded data removed]",
      "text/plain": [
       "<Figure size 432x288 with 1 Axes>"
      ]
     },
     "metadata": {
      "needs_background": "light"
     },
     "output_type": "display_data"
    }
   ],
   "source": [
    "plotMean(7)"
   ]
  },
  {
   "cell_type": "code",
   "execution_count": 59,
   "id": "717131bc",
   "metadata": {},
   "outputs": [
    {
     "data": {
      "text/plain": [
       "<AxesSubplot:xlabel='Bankrupt (F/T)', ylabel='10'>"
      ]
     },
     "execution_count": 59,
     "metadata": {},
     "output_type": "execute_result"
    },
    {
     "data": {
      "image/png": "[encoded data removed]",
      "text/plain": [
       "<Figure size 432x288 with 1 Axes>"
      ]
     },
     "metadata": {
      "needs_background": "light"
     },
     "output_type": "display_data"
    }
   ],
   "source": [
    "plotMean(10)"
   ]
  },
  {
   "cell_type": "code",
   "execution_count": 60,
   "id": "ff65ff25",
   "metadata": {},
   "outputs": [
    {
     "data": {
      "text/plain": [
       "<AxesSubplot:xlabel='Bankrupt (F/T)', ylabel='11'>"
      ]
     },
     "execution_count": 60,
     "metadata": {},
     "output_type": "execute_result"
    },
    {
     "data": {
      "image/png": "[encoded data removed]",
      "text/plain": [
       "<Figure size 432x288 with 1 Axes>"
      ]
     },
     "metadata": {
      "needs_background": "light"
     },
     "output_type": "display_data"
    }
   ],
   "source": [
    "plotMean(11)"
   ]
  },
  {
   "cell_type": "code",
   "execution_count": 61,
   "id": "e931775d",
   "metadata": {},
   "outputs": [
    {
     "data": {
      "text/plain": [
       "<AxesSubplot:xlabel='Bankrupt (F/T)', ylabel='12'>"
      ]
     },
     "execution_count": 61,
     "metadata": {},
     "output_type": "execute_result"
    },
    {
     "data": {
      "image/png": "[encoded data removed]",
      "text/plain": [
       "<Figure size 432x288 with 1 Axes>"
      ]
     },
     "metadata": {
      "needs_background": "light"
     },
     "output_type": "display_data"
    }
   ],
   "source": [
    "plotMean(12)"
   ]
  },
  {
   "cell_type": "code",
   "execution_count": 62,
   "id": "d4a3d0a5",
   "metadata": {},
   "outputs": [
    {
     "data": {
      "text/plain": [
       "<AxesSubplot:xlabel='Bankrupt (F/T)', ylabel='13'>"
      ]
     },
     "execution_count": 62,
     "metadata": {},
     "output_type": "execute_result"
    },
    {
     "data": {
      "image/png": "[encoded data removed]",
      "text/plain": [
       "<Figure size 432x288 with 1 Axes>"
      ]
     },
     "metadata": {
      "needs_background": "light"
     },
     "output_type": "display_data"
    }
   ],
   "source": [
    "plotMean(13)"
   ]
  },
  {
   "cell_type": "code",
   "execution_count": 63,
   "id": "edad057d",
   "metadata": {},
   "outputs": [
    {
     "data": {
      "text/plain": [
       "<AxesSubplot:xlabel='Bankrupt (F/T)', ylabel='14'>"
      ]
     },
     "execution_count": 63,
     "metadata": {},
     "output_type": "execute_result"
    },
    {
     "data": {
      "image/png": "[encoded data removed]",
      "text/plain": [
       "<Figure size 432x288 with 1 Axes>"
      ]
     },
     "metadata": {
      "needs_background": "light"
     },
     "output_type": "display_data"
    }
   ],
   "source": [
    "plotMean(14)"
   ]
  },
  {
   "cell_type": "code",
   "execution_count": 64,
   "id": "a2d5c276",
   "metadata": {},
   "outputs": [
    {
     "data": {
      "text/plain": [
       "<AxesSubplot:xlabel='Bankrupt (F/T)', ylabel='15'>"
      ]
     },
     "execution_count": 64,
     "metadata": {},
     "output_type": "execute_result"
    },
    {
     "data": {
      "image/png": "[encoded data removed]",
      "text/plain": [
       "<Figure size 432x288 with 1 Axes>"
      ]
     },
     "metadata": {
      "needs_background": "light"
     },
     "output_type": "display_data"
    }
   ],
   "source": [
    "plotMean(15)"
   ]
  },
  {
   "cell_type": "code",
   "execution_count": 67,
   "id": "b7c52e03",
   "metadata": {},
   "outputs": [
    {
     "data": {
      "text/plain": [
       "<AxesSubplot:xlabel='Bankrupt (F/T)', ylabel='18'>"
      ]
     },
     "execution_count": 67,
     "metadata": {},
     "output_type": "execute_result"
    },
    {
     "data": {
      "image/png": "[encoded data removed]",
      "text/plain": [
       "<Figure size 432x288 with 1 Axes>"
      ]
     },
     "metadata": {
      "needs_background": "light"
     },
     "output_type": "display_data"
    }
   ],
   "source": [
    "plotMean(18)"
   ]
  },
  {
   "cell_type": "code",
   "execution_count": 68,
   "id": "dc8d2088",
   "metadata": {},
   "outputs": [
    {
     "data": {
      "text/plain": [
       "<AxesSubplot:xlabel='Bankrupt (F/T)', ylabel='19'>"
      ]
     },
     "execution_count": 68,
     "metadata": {},
     "output_type": "execute_result"
    },
    {
     "data": {
      "image/png": "[encoded data removed]",
      "text/plain": [
       "<Figure size 432x288 with 1 Axes>"
      ]
     },
     "metadata": {
      "needs_background": "light"
     },
     "output_type": "display_data"
    }
   ],
   "source": [
    "plotMean(19)"
   ]
  },
  {
   "cell_type": "code",
   "execution_count": 69,
   "id": "35334104",
   "metadata": {},
   "outputs": [
    {
     "data": {
      "text/plain": [
       "<AxesSubplot:xlabel='Bankrupt (F/T)', ylabel='20'>"
      ]
     },
     "execution_count": 69,
     "metadata": {},
     "output_type": "execute_result"
    },
    {
     "data": {
      "image/png": "[encoded data removed]",
      "text/plain": [
       "<Figure size 432x288 with 1 Axes>"
      ]
     },
     "metadata": {
      "needs_background": "light"
     },
     "output_type": "display_data"
    }
   ],
   "source": [
    "plotMean(20)"
   ]
  },
  {
   "cell_type": "code",
   "execution_count": 72,
   "id": "31430de9",
   "metadata": {},
   "outputs": [
    {
     "data": {
      "text/plain": [
       "<AxesSubplot:xlabel='Bankrupt (F/T)', ylabel='23'>"
      ]
     },
     "execution_count": 72,
     "metadata": {},
     "output_type": "execute_result"
    },
    {
     "data": {
      "image/png": "[encoded data removed]",
      "text/plain": [
       "<Figure size 432x288 with 1 Axes>"
      ]
     },
     "metadata": {
      "needs_background": "light"
     },
     "output_type": "display_data"
    }
   ],
   "source": [
    "plotMean(23)"
   ]
  },
  {
   "cell_type": "code",
   "execution_count": 73,
   "id": "cebd10ee",
   "metadata": {},
   "outputs": [
    {
     "data": {
      "text/plain": [
       "<AxesSubplot:xlabel='Bankrupt (F/T)', ylabel='24'>"
      ]
     },
     "execution_count": 73,
     "metadata": {},
     "output_type": "execute_result"
    },
    {
     "data": {
      "image/png": "[encoded data removed]",
      "text/plain": [
       "<Figure size 432x288 with 1 Axes>"
      ]
     },
     "metadata": {
      "needs_background": "light"
     },
     "output_type": "display_data"
    }
   ],
   "source": [
    "plotMean(24)"
   ]
  },
  {
   "cell_type": "code",
   "execution_count": 74,
   "id": "ea38b3d3",
   "metadata": {},
   "outputs": [
    {
     "data": {
      "text/plain": [
       "<AxesSubplot:xlabel='Bankrupt (F/T)', ylabel='25'>"
      ]
     },
     "execution_count": 74,
     "metadata": {},
     "output_type": "execute_result"
    },
    {
     "data": {
      "image/png": "[encoded data removed]",
      "text/plain": [
       "<Figure size 432x288 with 1 Axes>"
      ]
     },
     "metadata": {
      "needs_background": "light"
     },
     "output_type": "display_data"
    }
   ],
   "source": [
    "plotMean(25)"
   ]
  },
  {
   "cell_type": "code",
   "execution_count": 77,
   "id": "495f788e",
   "metadata": {},
   "outputs": [
    {
     "data": {
      "text/plain": [
       "<AxesSubplot:xlabel='Bankrupt (F/T)', ylabel='28'>"
      ]
     },
     "execution_count": 77,
     "metadata": {},
     "output_type": "execute_result"
    },
    {
     "data": {
      "image/png": "[encoded data removed]",
      "text/plain": [
       "<Figure size 432x288 with 1 Axes>"
      ]
     },
     "metadata": {
      "needs_background": "light"
     },
     "output_type": "display_data"
    }
   ],
   "source": [
    "plotMean(28)"
   ]
  },
  {
   "cell_type": "code",
   "execution_count": 79,
   "id": "58a23456",
   "metadata": {},
   "outputs": [
    {
     "data": {
      "text/plain": [
       "<AxesSubplot:xlabel='Bankrupt (F/T)', ylabel='30'>"
      ]
     },
     "execution_count": 79,
     "metadata": {},
     "output_type": "execute_result"
    },
    {
     "data": {
      "image/png": "[encoded data removed]",
      "text/plain": [
       "<Figure size 432x288 with 1 Axes>"
      ]
     },
     "metadata": {
      "needs_background": "light"
     },
     "output_type": "display_data"
    }
   ],
   "source": [
    "plotMean(30)"
   ]
  },
  {
   "cell_type": "code",
   "execution_count": 80,
   "id": "28efdc3d",
   "metadata": {},
   "outputs": [
    {
     "data": {
      "text/plain": [
       "<AxesSubplot:xlabel='Bankrupt (F/T)', ylabel='31'>"
      ]
     },
     "execution_count": 80,
     "metadata": {},
     "output_type": "execute_result"
    },
    {
     "data": {
      "image/png": "[encoded data removed]",
      "text/plain": [
       "<Figure size 432x288 with 1 Axes>"
      ]
     },
     "metadata": {
      "needs_background": "light"
     },
     "output_type": "display_data"
    }
   ],
   "source": [
    "plotMean(31)"
   ]
  },
  {
   "cell_type": "code",
   "execution_count": 81,
   "id": "98ac10a3",
   "metadata": {},
   "outputs": [
    {
     "data": {
      "text/plain": [
       "<AxesSubplot:xlabel='Bankrupt (F/T)', ylabel='32'>"
      ]
     },
     "execution_count": 81,
     "metadata": {},
     "output_type": "execute_result"
    },
    {
     "data": {
      "image/png": "[encoded data removed]",
      "text/plain": [
       "<Figure size 432x288 with 1 Axes>"
      ]
     },
     "metadata": {
      "needs_background": "light"
     },
     "output_type": "display_data"
    }
   ],
   "source": [
    "plotMean(32)"
   ]
  },
  {
   "cell_type": "code",
   "execution_count": 84,
   "id": "eac1beaa",
   "metadata": {},
   "outputs": [
    {
     "data": {
      "text/plain": [
       "<AxesSubplot:xlabel='Bankrupt (F/T)', ylabel='35'>"
      ]
     },
     "execution_count": 84,
     "metadata": {},
     "output_type": "execute_result"
    },
    {
     "data": {
      "image/png": "[encoded data removed]",
      "text/plain": [
       "<Figure size 432x288 with 1 Axes>"
      ]
     },
     "metadata": {
      "needs_background": "light"
     },
     "output_type": "display_data"
    }
   ],
   "source": [
    "plotMean(35)"
   ]
  },
  {
   "cell_type": "code",
   "execution_count": 88,
   "id": "12ca50ab",
   "metadata": {},
   "outputs": [
    {
     "data": {
      "text/plain": [
       "<AxesSubplot:xlabel='Bankrupt (F/T)', ylabel='39'>"
      ]
     },
     "execution_count": 88,
     "metadata": {},
     "output_type": "execute_result"
    },
    {
     "data": {
      "image/png": "[encoded data removed]",
      "text/plain": [
       "<Figure size 432x288 with 1 Axes>"
      ]
     },
     "metadata": {
      "needs_background": "light"
     },
     "output_type": "display_data"
    }
   ],
   "source": [
    "plotMean(39)"
   ]
  },
  {
   "cell_type": "code",
   "execution_count": 90,
   "id": "3f46b823",
   "metadata": {},
   "outputs": [
    {
     "data": {
      "text/plain": [
       "<AxesSubplot:xlabel='Bankrupt (F/T)', ylabel='41'>"
      ]
     },
     "execution_count": 90,
     "metadata": {},
     "output_type": "execute_result"
    },
    {
     "data": {
      "image/png": "[encoded data removed]",
      "text/plain": [
       "<Figure size 432x288 with 1 Axes>"
      ]
     },
     "metadata": {
      "needs_background": "light"
     },
     "output_type": "display_data"
    }
   ],
   "source": [
    "plotMean(41)"
   ]
  },
  {
   "cell_type": "code",
   "execution_count": 91,
   "id": "e0f4bf59",
   "metadata": {},
   "outputs": [
    {
     "data": {
      "text/plain": [
       "<AxesSubplot:xlabel='Bankrupt (F/T)', ylabel='42'>"
      ]
     },
     "execution_count": 91,
     "metadata": {},
     "output_type": "execute_result"
    },
    {
     "data": {
      "image/png": "[encoded data removed]",
      "text/plain": [
       "<Figure size 432x288 with 1 Axes>"
      ]
     },
     "metadata": {
      "needs_background": "light"
     },
     "output_type": "display_data"
    }
   ],
   "source": [
    "plotMean(42)"
   ]
  },
  {
   "cell_type": "code",
   "execution_count": 92,
   "id": "ac9fff3d",
   "metadata": {},
   "outputs": [
    {
     "data": {
      "text/plain": [
       "<AxesSubplot:xlabel='Bankrupt (F/T)', ylabel='43'>"
      ]
     },
     "execution_count": 92,
     "metadata": {},
     "output_type": "execute_result"
    },
    {
     "data": {
      "image/png": "[encoded data removed]",
      "text/plain": [
       "<Figure size 432x288 with 1 Axes>"
      ]
     },
     "metadata": {
      "needs_background": "light"
     },
     "output_type": "display_data"
    }
   ],
   "source": [
    "plotMean(43)"
   ]
  },
  {
   "cell_type": "code",
   "execution_count": 93,
   "id": "ca51724f",
   "metadata": {},
   "outputs": [
    {
     "data": {
      "text/plain": [
       "<AxesSubplot:xlabel='Bankrupt (F/T)', ylabel='44'>"
      ]
     },
     "execution_count": 93,
     "metadata": {},
     "output_type": "execute_result"
    },
    {
     "data": {
      "image/png": "[encoded data removed]",
      "text/plain": [
       "<Figure size 432x288 with 1 Axes>"
      ]
     },
     "metadata": {
      "needs_background": "light"
     },
     "output_type": "display_data"
    }
   ],
   "source": [
    "plotMean(44)"
   ]
  },
  {
   "cell_type": "code",
   "execution_count": 94,
   "id": "a60e1bf6",
   "metadata": {},
   "outputs": [
    {
     "data": {
      "text/plain": [
       "<AxesSubplot:xlabel='Bankrupt (F/T)', ylabel='45'>"
      ]
     },
     "execution_count": 94,
     "metadata": {},
     "output_type": "execute_result"
    },
    {
     "data": {
      "image/png": "[encoded data removed]",
      "text/plain": [
       "<Figure size 432x288 with 1 Axes>"
      ]
     },
     "metadata": {
      "needs_background": "light"
     },
     "output_type": "display_data"
    }
   ],
   "source": [
    "plotMean(45)"
   ]
  },
  {
   "cell_type": "code",
   "execution_count": 97,
   "id": "b85747ca",
   "metadata": {},
   "outputs": [
    {
     "data": {
      "text/plain": [
       "<AxesSubplot:xlabel='Bankrupt (F/T)', ylabel='48'>"
      ]
     },
     "execution_count": 97,
     "metadata": {},
     "output_type": "execute_result"
    },
    {
     "data": {
      "image/png": "[encoded data removed]",
      "text/plain": [
       "<Figure size 432x288 with 1 Axes>"
      ]
     },
     "metadata": {
      "needs_background": "light"
     },
     "output_type": "display_data"
    }
   ],
   "source": [
    "plotMean(48)"
   ]
  },
  {
   "cell_type": "code",
   "execution_count": 98,
   "id": "f5d6273c",
   "metadata": {},
   "outputs": [
    {
     "data": {
      "text/plain": [
       "<AxesSubplot:xlabel='Bankrupt (F/T)', ylabel='49'>"
      ]
     },
     "execution_count": 98,
     "metadata": {},
     "output_type": "execute_result"
    },
    {
     "data": {
      "image/png": "[encoded data removed]",
      "text/plain": [
       "<Figure size 432x288 with 1 Axes>"
      ]
     },
     "metadata": {
      "needs_background": "light"
     },
     "output_type": "display_data"
    }
   ],
   "source": [
    "plotMean(49)"
   ]
  },
  {
   "cell_type": "code",
   "execution_count": 100,
   "id": "9a123653",
   "metadata": {},
   "outputs": [
    {
     "data": {
      "text/plain": [
       "<AxesSubplot:xlabel='Bankrupt (F/T)', ylabel='51'>"
      ]
     },
     "execution_count": 100,
     "metadata": {},
     "output_type": "execute_result"
    },
    {
     "data": {
      "image/png": "[encoded data removed]",
      "text/plain": [
       "<Figure size 432x288 with 1 Axes>"
      ]
     },
     "metadata": {
      "needs_background": "light"
     },
     "output_type": "display_data"
    }
   ],
   "source": [
    "plotMean(51)"
   ]
  },
  {
   "cell_type": "code",
   "execution_count": 101,
   "id": "e90e5471",
   "metadata": {},
   "outputs": [
    {
     "data": {
      "text/plain": [
       "<AxesSubplot:xlabel='Bankrupt (F/T)', ylabel='52'>"
      ]
     },
     "execution_count": 101,
     "metadata": {},
     "output_type": "execute_result"
    },
    {
     "data": {
      "image/png": "[encoded data removed]",
      "text/plain": [
       "<Figure size 432x288 with 1 Axes>"
      ]
     },
     "metadata": {
      "needs_background": "light"
     },
     "output_type": "display_data"
    }
   ],
   "source": [
    "plotMean(52)"
   ]
  },
  {
   "cell_type": "code",
   "execution_count": 102,
   "id": "cb224820",
   "metadata": {},
   "outputs": [
    {
     "data": {
      "text/plain": [
       "<AxesSubplot:xlabel='Bankrupt (F/T)', ylabel='53'>"
      ]
     },
     "execution_count": 102,
     "metadata": {},
     "output_type": "execute_result"
    },
    {
     "data": {
      "image/png": "[encoded data removed]",
      "text/plain": [
       "<Figure size 432x288 with 1 Axes>"
      ]
     },
     "metadata": {
      "needs_background": "light"
     },
     "output_type": "display_data"
    }
   ],
   "source": [
    "plotMean(53)"
   ]
  },
  {
   "cell_type": "code",
   "execution_count": 103,
   "id": "8baa6cd4",
   "metadata": {},
   "outputs": [
    {
     "data": {
      "text/plain": [
       "<AxesSubplot:xlabel='Bankrupt (F/T)', ylabel='54'>"
      ]
     },
     "execution_count": 103,
     "metadata": {},
     "output_type": "execute_result"
    },
    {
     "data": {
      "image/png": "[encoded data removed]",
      "text/plain": [
       "<Figure size 432x288 with 1 Axes>"
      ]
     },
     "metadata": {
      "needs_background": "light"
     },
     "output_type": "display_data"
    }
   ],
   "source": [
    "plotMean(54)"
   ]
  },
  {
   "cell_type": "code",
   "execution_count": 104,
   "id": "ff2d7227",
   "metadata": {},
   "outputs": [
    {
     "data": {
      "text/plain": [
       "<AxesSubplot:xlabel='Bankrupt (F/T)', ylabel='55'>"
      ]
     },
     "execution_count": 104,
     "metadata": {},
     "output_type": "execute_result"
    },
    {
     "data": {
      "image/png": "[encoded data removed]",
      "text/plain": [
       "<Figure size 432x288 with 1 Axes>"
      ]
     },
     "metadata": {
      "needs_background": "light"
     },
     "output_type": "display_data"
    }
   ],
   "source": [
    "plotMean(55)"
   ]
  },
  {
   "cell_type": "code",
   "execution_count": 105,
   "id": "2e1b954d",
   "metadata": {},
   "outputs": [
    {
     "data": {
      "text/plain": [
       "<AxesSubplot:xlabel='Bankrupt (F/T)', ylabel='56'>"
      ]
     },
     "execution_count": 105,
     "metadata": {},
     "output_type": "execute_result"
    },
    {
     "data": {
      "image/png": "[encoded data removed]",
      "text/plain": [
       "<Figure size 432x288 with 1 Axes>"
      ]
     },
     "metadata": {
      "needs_background": "light"
     },
     "output_type": "display_data"
    }
   ],
   "source": [
    "plotMean(56)"
   ]
  },
  {
   "cell_type": "code",
   "execution_count": 108,
   "id": "1d32d1dc",
   "metadata": {},
   "outputs": [
    {
     "data": {
      "text/plain": [
       "<AxesSubplot:xlabel='Bankrupt (F/T)', ylabel='57'>"
      ]
     },
     "execution_count": 108,
     "metadata": {},
     "output_type": "execute_result"
    },
    {
     "data": {
      "image/png": "[encoded data removed]",
      "text/plain": [
       "<Figure size 432x288 with 1 Axes>"
      ]
     },
     "metadata": {
      "needs_background": "light"
     },
     "output_type": "display_data"
    }
   ],
   "source": [
    "plotMean(57)"
   ]
  },
  {
   "cell_type": "code",
   "execution_count": 109,
   "id": "3bde97e8",
   "metadata": {},
   "outputs": [
    {
     "data": {
      "text/plain": [
       "<AxesSubplot:xlabel='Bankrupt (F/T)', ylabel='58'>"
      ]
     },
     "execution_count": 109,
     "metadata": {},
     "output_type": "execute_result"
    },
    {
     "data": {
      "image/png": "[encoded data removed]",
      "text/plain": [
       "<Figure size 432x288 with 1 Axes>"
      ]
     },
     "metadata": {
      "needs_background": "light"
     },
     "output_type": "display_data"
    }
   ],
   "source": [
    "plotMean(58)"
   ]
  },
  {
   "cell_type": "code",
   "execution_count": 113,
   "id": "4a47ec66",
   "metadata": {},
   "outputs": [
    {
     "data": {
      "text/plain": [
       "<AxesSubplot:xlabel='Bankrupt (F/T)', ylabel='62'>"
      ]
     },
     "execution_count": 113,
     "metadata": {},
     "output_type": "execute_result"
    },
    {
     "data": {
      "image/png": "[encoded data removed]",
      "text/plain": [
       "<Figure size 432x288 with 1 Axes>"
      ]
     },
     "metadata": {
      "needs_background": "light"
     },
     "output_type": "display_data"
    }
   ],
   "source": [
    "plotMean(62)"
   ]
  },
  {
   "cell_type": "code",
   "execution_count": 114,
   "id": "07047500",
   "metadata": {},
   "outputs": [
    {
     "data": {
      "text/plain": [
       "<AxesSubplot:xlabel='Bankrupt (F/T)', ylabel='62'>"
      ]
     },
     "execution_count": 114,
     "metadata": {},
     "output_type": "execute_result"
    },
    {
     "data": {
      "image/png": "[encoded data removed]",
      "text/plain": [
       "<Figure size 432x288 with 1 Axes>"
      ]
     },
     "metadata": {
      "needs_background": "light"
     },
     "output_type": "display_data"
    }
   ],
   "source": [
    "plotMean(62)"
   ]
  },
  {
   "cell_type": "code",
   "execution_count": 121,
   "id": "32897b9c",
   "metadata": {},
   "outputs": [
    {
     "data": {
      "text/plain": [
       "<AxesSubplot:xlabel='Bankrupt (F/T)', ylabel='64'>"
      ]
     },
     "execution_count": 121,
     "metadata": {},
     "output_type": "execute_result"
    },
    {
     "data": {
      "image/png": "[encoded data removed]",
      "text/plain": [
       "<Figure size 432x288 with 1 Axes>"
      ]
     },
     "metadata": {
      "needs_background": "light"
     },
     "output_type": "display_data"
    }
   ],
   "source": [
    "plotMean(64)"
   ]
  },
  {
   "cell_type": "markdown",
   "id": "a8bd9bff-6275-4861-8b99-238982749692",
   "metadata": {},
   "source": [
    "## Section 3: Machine Learning"
   ]
  },
  {
   "cell_type": "code",
   "execution_count": null,
   "id": "0f55ff97-249e-4532-a351-ce1a6d469195",
   "metadata": {},
   "outputs": [],
   "source": []
  },
  {
   "cell_type": "code",
   "execution_count": null,
   "id": "6c41e555",
   "metadata": {},
   "outputs": [],
   "source": []
  }
 ],
 "metadata": {
  "kernelspec": {
   "display_name": "Python 3",
   "language": "python",
   "name": "python3"
  },
  "language_info": {
   "codemirror_mode": {
    "name": "ipython",
    "version": 3
   },
   "file_extension": ".py",
   "mimetype": "text/x-python",
   "name": "python",
   "nbconvert_exporter": "python",
   "pygments_lexer": "ipython3",
   "version": "3.8.8"
  }
 },
 "nbformat": 4,
 "nbformat_minor": 5
}
